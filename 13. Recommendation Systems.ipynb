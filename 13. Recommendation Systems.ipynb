{
 "cells": [
  {
   "cell_type": "markdown",
   "metadata": {},
   "source": [
    "# Collaborative Filtering in Turi (formerly Dato, Formerly GraphLab)\n",
    "\n",
    "This tutorial explains methods of collaborative filtering for recommender systems using the graphlab create package (from the company Dato). Many of the examples are manipulated versions of the the following basic tutorials:\n",
    "- https://dato.com/learn/gallery/notebooks/basic_recommender_functionalities.html \n",
    "- https://dato.com/learn/gallery/notebooks/five_line_recommender.html\n",
    "\n",
    "Furthermore, Dato has plenty of iPython notebook examples to look through that do more than just reccomendation systems, including classification, clustering, and graph analytics. \n",
    "- https://dato.com/learn/gallery/index.html\n",
    "\n",
    "## The five line recommendation system (user-item)\n",
    "This example will build a recommendation system for movie ratings given the following dataset of users and movie ratings. It is explained in detail at https://dato.com/learn/gallery/notebooks/five_line_recommender.html. This example hides much of the functionality and fine tuning possible, but works nicely for starting out with.\n",
    "\n",
    "The dataset in this example comes from ~330 users that have rated ~7700 movies (a total of ~82,000 ratings)."
   ]
  },
  {
   "cell_type": "code",
   "execution_count": 1,
   "metadata": {
    "collapsed": false,
    "scrolled": false
   },
   "outputs": [
    {
     "name": "stdout",
     "output_type": "stream",
     "text": [
      "This non-commercial license of GraphLab Create for academic use is assigned to eclarson@smu.edu and will expire on October 27, 2017.\n"
     ]
    },
    {
     "name": "stderr",
     "output_type": "stream",
     "text": [
      "[INFO] graphlab.cython.cy_server: GraphLab Create v2.1 started. Logging: /tmp/graphlab_server_1484158681.log\n"
     ]
    },
    {
     "data": {
      "text/html": [
       "<pre>Downloading http://s3.amazonaws.com/dato-datasets/movie_ratings/training_data.csv to /var/tmp/graphlab-eclarson/23026/ab2da25b-3b5e-4174-9c0d-b455fbc6dc1d.csv</pre>"
      ],
      "text/plain": [
       "Downloading http://s3.amazonaws.com/dato-datasets/movie_ratings/training_data.csv to /var/tmp/graphlab-eclarson/23026/ab2da25b-3b5e-4174-9c0d-b455fbc6dc1d.csv"
      ]
     },
     "metadata": {},
     "output_type": "execute_result"
    },
    {
     "data": {
      "text/html": [
       "<pre>Finished parsing file http://s3.amazonaws.com/dato-datasets/movie_ratings/training_data.csv</pre>"
      ],
      "text/plain": [
       "Finished parsing file http://s3.amazonaws.com/dato-datasets/movie_ratings/training_data.csv"
      ]
     },
     "metadata": {},
     "output_type": "execute_result"
    },
    {
     "data": {
      "text/html": [
       "<pre>Parsing completed. Parsed 100 lines in 0.104767 secs.</pre>"
      ],
      "text/plain": [
       "Parsing completed. Parsed 100 lines in 0.104767 secs."
      ]
     },
     "metadata": {},
     "output_type": "execute_result"
    },
    {
     "data": {
      "text/html": [
       "<pre>Finished parsing file http://s3.amazonaws.com/dato-datasets/movie_ratings/training_data.csv</pre>"
      ],
      "text/plain": [
       "Finished parsing file http://s3.amazonaws.com/dato-datasets/movie_ratings/training_data.csv"
      ]
     },
     "metadata": {},
     "output_type": "execute_result"
    },
    {
     "data": {
      "text/html": [
       "<pre>Parsing completed. Parsed 82068 lines in 0.096348 secs.</pre>"
      ],
      "text/plain": [
       "Parsing completed. Parsed 82068 lines in 0.096348 secs."
      ]
     },
     "metadata": {},
     "output_type": "execute_result"
    },
    {
     "data": {
      "text/html": [
       "<pre>Recsys training: model = ranking_factorization_recommender</pre>"
      ],
      "text/plain": [
       "Recsys training: model = ranking_factorization_recommender"
      ]
     },
     "metadata": {},
     "output_type": "execute_result"
    },
    {
     "data": {
      "text/html": [
       "<pre>Preparing data set.</pre>"
      ],
      "text/plain": [
       "Preparing data set."
      ]
     },
     "metadata": {},
     "output_type": "execute_result"
    },
    {
     "data": {
      "text/html": [
       "<pre>    Data has 82068 observations with 334 users and 7714 items.</pre>"
      ],
      "text/plain": [
       "    Data has 82068 observations with 334 users and 7714 items."
      ]
     },
     "metadata": {},
     "output_type": "execute_result"
    },
    {
     "data": {
      "text/html": [
       "<pre>    Data prepared in: 0.174707s</pre>"
      ],
      "text/plain": [
       "    Data prepared in: 0.174707s"
      ]
     },
     "metadata": {},
     "output_type": "execute_result"
    },
    {
     "data": {
      "text/html": [
       "<pre>Training ranking_factorization_recommender for recommendations.</pre>"
      ],
      "text/plain": [
       "Training ranking_factorization_recommender for recommendations."
      ]
     },
     "metadata": {},
     "output_type": "execute_result"
    },
    {
     "data": {
      "text/html": [
       "<pre>+--------------------------------+--------------------------------------------------+----------+</pre>"
      ],
      "text/plain": [
       "+--------------------------------+--------------------------------------------------+----------+"
      ]
     },
     "metadata": {},
     "output_type": "execute_result"
    },
    {
     "data": {
      "text/html": [
       "<pre>| Parameter                      | Description                                      | Value    |</pre>"
      ],
      "text/plain": [
       "| Parameter                      | Description                                      | Value    |"
      ]
     },
     "metadata": {},
     "output_type": "execute_result"
    },
    {
     "data": {
      "text/html": [
       "<pre>+--------------------------------+--------------------------------------------------+----------+</pre>"
      ],
      "text/plain": [
       "+--------------------------------+--------------------------------------------------+----------+"
      ]
     },
     "metadata": {},
     "output_type": "execute_result"
    },
    {
     "data": {
      "text/html": [
       "<pre>| num_factors                    | Factor Dimension                                 | 32       |</pre>"
      ],
      "text/plain": [
       "| num_factors                    | Factor Dimension                                 | 32       |"
      ]
     },
     "metadata": {},
     "output_type": "execute_result"
    },
    {
     "data": {
      "text/html": [
       "<pre>| regularization                 | L2 Regularization on Factors                     | 1e-09    |</pre>"
      ],
      "text/plain": [
       "| regularization                 | L2 Regularization on Factors                     | 1e-09    |"
      ]
     },
     "metadata": {},
     "output_type": "execute_result"
    },
    {
     "data": {
      "text/html": [
       "<pre>| solver                         | Solver used for training                         | sgd      |</pre>"
      ],
      "text/plain": [
       "| solver                         | Solver used for training                         | sgd      |"
      ]
     },
     "metadata": {},
     "output_type": "execute_result"
    },
    {
     "data": {
      "text/html": [
       "<pre>| linear_regularization          | L2 Regularization on Linear Coefficients         | 1e-09    |</pre>"
      ],
      "text/plain": [
       "| linear_regularization          | L2 Regularization on Linear Coefficients         | 1e-09    |"
      ]
     },
     "metadata": {},
     "output_type": "execute_result"
    },
    {
     "data": {
      "text/html": [
       "<pre>| ranking_regularization         | Rank-based Regularization Weight                 | 0.25     |</pre>"
      ],
      "text/plain": [
       "| ranking_regularization         | Rank-based Regularization Weight                 | 0.25     |"
      ]
     },
     "metadata": {},
     "output_type": "execute_result"
    },
    {
     "data": {
      "text/html": [
       "<pre>| max_iterations                 | Maximum Number of Iterations                     | 25       |</pre>"
      ],
      "text/plain": [
       "| max_iterations                 | Maximum Number of Iterations                     | 25       |"
      ]
     },
     "metadata": {},
     "output_type": "execute_result"
    },
    {
     "data": {
      "text/html": [
       "<pre>+--------------------------------+--------------------------------------------------+----------+</pre>"
      ],
      "text/plain": [
       "+--------------------------------+--------------------------------------------------+----------+"
      ]
     },
     "metadata": {},
     "output_type": "execute_result"
    },
    {
     "data": {
      "text/html": [
       "<pre>  Optimizing model using SGD; tuning step size.</pre>"
      ],
      "text/plain": [
       "  Optimizing model using SGD; tuning step size."
      ]
     },
     "metadata": {},
     "output_type": "execute_result"
    },
    {
     "data": {
      "text/html": [
       "<pre>  Using 10258 / 82068 points for tuning the step size.</pre>"
      ],
      "text/plain": [
       "  Using 10258 / 82068 points for tuning the step size."
      ]
     },
     "metadata": {},
     "output_type": "execute_result"
    },
    {
     "data": {
      "text/html": [
       "<pre>+---------+-------------------+------------------------------------------+</pre>"
      ],
      "text/plain": [
       "+---------+-------------------+------------------------------------------+"
      ]
     },
     "metadata": {},
     "output_type": "execute_result"
    },
    {
     "data": {
      "text/html": [
       "<pre>| Attempt | Initial Step Size | Estimated Objective Value                |</pre>"
      ],
      "text/plain": [
       "| Attempt | Initial Step Size | Estimated Objective Value                |"
      ]
     },
     "metadata": {},
     "output_type": "execute_result"
    },
    {
     "data": {
      "text/html": [
       "<pre>+---------+-------------------+------------------------------------------+</pre>"
      ],
      "text/plain": [
       "+---------+-------------------+------------------------------------------+"
      ]
     },
     "metadata": {},
     "output_type": "execute_result"
    },
    {
     "data": {
      "text/html": [
       "<pre>| 0       | 25                | Not Viable                               |</pre>"
      ],
      "text/plain": [
       "| 0       | 25                | Not Viable                               |"
      ]
     },
     "metadata": {},
     "output_type": "execute_result"
    },
    {
     "data": {
      "text/html": [
       "<pre>| 1       | 6.25              | Not Viable                               |</pre>"
      ],
      "text/plain": [
       "| 1       | 6.25              | Not Viable                               |"
      ]
     },
     "metadata": {},
     "output_type": "execute_result"
    },
    {
     "data": {
      "text/html": [
       "<pre>| 2       | 1.5625            | Not Viable                               |</pre>"
      ],
      "text/plain": [
       "| 2       | 1.5625            | Not Viable                               |"
      ]
     },
     "metadata": {},
     "output_type": "execute_result"
    },
    {
     "data": {
      "text/html": [
       "<pre>| 3       | 0.390625          | Not Viable                               |</pre>"
      ],
      "text/plain": [
       "| 3       | 0.390625          | Not Viable                               |"
      ]
     },
     "metadata": {},
     "output_type": "execute_result"
    },
    {
     "data": {
      "text/html": [
       "<pre>| 4       | 0.0976562         | 1.6122                                   |</pre>"
      ],
      "text/plain": [
       "| 4       | 0.0976562         | 1.6122                                   |"
      ]
     },
     "metadata": {},
     "output_type": "execute_result"
    },
    {
     "data": {
      "text/html": [
       "<pre>| 5       | 0.0488281         | 1.65399                                  |</pre>"
      ],
      "text/plain": [
       "| 5       | 0.0488281         | 1.65399                                  |"
      ]
     },
     "metadata": {},
     "output_type": "execute_result"
    },
    {
     "data": {
      "text/html": [
       "<pre>| 6       | 0.0244141         | 1.72341                                  |</pre>"
      ],
      "text/plain": [
       "| 6       | 0.0244141         | 1.72341                                  |"
      ]
     },
     "metadata": {},
     "output_type": "execute_result"
    },
    {
     "data": {
      "text/html": [
       "<pre>| 7       | 0.012207          | 1.80247                                  |</pre>"
      ],
      "text/plain": [
       "| 7       | 0.012207          | 1.80247                                  |"
      ]
     },
     "metadata": {},
     "output_type": "execute_result"
    },
    {
     "data": {
      "text/html": [
       "<pre>+---------+-------------------+------------------------------------------+</pre>"
      ],
      "text/plain": [
       "+---------+-------------------+------------------------------------------+"
      ]
     },
     "metadata": {},
     "output_type": "execute_result"
    },
    {
     "data": {
      "text/html": [
       "<pre>| Final   | 0.0976562         | 1.6122                                   |</pre>"
      ],
      "text/plain": [
       "| Final   | 0.0976562         | 1.6122                                   |"
      ]
     },
     "metadata": {},
     "output_type": "execute_result"
    },
    {
     "data": {
      "text/html": [
       "<pre>+---------+-------------------+------------------------------------------+</pre>"
      ],
      "text/plain": [
       "+---------+-------------------+------------------------------------------+"
      ]
     },
     "metadata": {},
     "output_type": "execute_result"
    },
    {
     "data": {
      "text/html": [
       "<pre>Starting Optimization.</pre>"
      ],
      "text/plain": [
       "Starting Optimization."
      ]
     },
     "metadata": {},
     "output_type": "execute_result"
    },
    {
     "data": {
      "text/html": [
       "<pre>+---------+--------------+-------------------+-----------------------+-------------+</pre>"
      ],
      "text/plain": [
       "+---------+--------------+-------------------+-----------------------+-------------+"
      ]
     },
     "metadata": {},
     "output_type": "execute_result"
    },
    {
     "data": {
      "text/html": [
       "<pre>| Iter.   | Elapsed Time | Approx. Objective | Approx. Training RMSE | Step Size   |</pre>"
      ],
      "text/plain": [
       "| Iter.   | Elapsed Time | Approx. Objective | Approx. Training RMSE | Step Size   |"
      ]
     },
     "metadata": {},
     "output_type": "execute_result"
    },
    {
     "data": {
      "text/html": [
       "<pre>+---------+--------------+-------------------+-----------------------+-------------+</pre>"
      ],
      "text/plain": [
       "+---------+--------------+-------------------+-----------------------+-------------+"
      ]
     },
     "metadata": {},
     "output_type": "execute_result"
    },
    {
     "data": {
      "text/html": [
       "<pre>| Initial | 101us        | 2.40077           | 1.10656               |             |</pre>"
      ],
      "text/plain": [
       "| Initial | 101us        | 2.40077           | 1.10656               |             |"
      ]
     },
     "metadata": {},
     "output_type": "execute_result"
    },
    {
     "data": {
      "text/html": [
       "<pre>+---------+--------------+-------------------+-----------------------+-------------+</pre>"
      ],
      "text/plain": [
       "+---------+--------------+-------------------+-----------------------+-------------+"
      ]
     },
     "metadata": {},
     "output_type": "execute_result"
    },
    {
     "data": {
      "text/html": [
       "<pre>| 1       | 183.141ms    | 2.01925           | 1.13636               | 0.0976562   |</pre>"
      ],
      "text/plain": [
       "| 1       | 183.141ms    | 2.01925           | 1.13636               | 0.0976562   |"
      ]
     },
     "metadata": {},
     "output_type": "execute_result"
    },
    {
     "data": {
      "text/html": [
       "<pre>| 2       | 357.552ms    | 1.7664            | 1.06087               | 0.0580668   |</pre>"
      ],
      "text/plain": [
       "| 2       | 357.552ms    | 1.7664            | 1.06087               | 0.0580668   |"
      ]
     },
     "metadata": {},
     "output_type": "execute_result"
    },
    {
     "data": {
      "text/html": [
       "<pre>| 3       | 478.496ms    | 1.5552            | 0.982959              | 0.042841    |</pre>"
      ],
      "text/plain": [
       "| 3       | 478.496ms    | 1.5552            | 0.982959              | 0.042841    |"
      ]
     },
     "metadata": {},
     "output_type": "execute_result"
    },
    {
     "data": {
      "text/html": [
       "<pre>| 4       | 563.193ms    | 1.369             | 0.908516              | 0.0345267   |</pre>"
      ],
      "text/plain": [
       "| 4       | 563.193ms    | 1.369             | 0.908516              | 0.0345267   |"
      ]
     },
     "metadata": {},
     "output_type": "execute_result"
    },
    {
     "data": {
      "text/html": [
       "<pre>| 5       | 651.303ms    | 1.20746           | 0.83847               | 0.029206    |</pre>"
      ],
      "text/plain": [
       "| 5       | 651.303ms    | 1.20746           | 0.83847               | 0.029206    |"
      ]
     },
     "metadata": {},
     "output_type": "execute_result"
    },
    {
     "data": {
      "text/html": [
       "<pre>| 6       | 752.469ms    | 1.05673           | 0.772919              | 0.0254734   |</pre>"
      ],
      "text/plain": [
       "| 6       | 752.469ms    | 1.05673           | 0.772919              | 0.0254734   |"
      ]
     },
     "metadata": {},
     "output_type": "execute_result"
    },
    {
     "data": {
      "text/html": [
       "<pre>| 10      | 1.14s        | 0.7173            | 0.605271              | 0.017366    |</pre>"
      ],
      "text/plain": [
       "| 10      | 1.14s        | 0.7173            | 0.605271              | 0.017366    |"
      ]
     },
     "metadata": {},
     "output_type": "execute_result"
    },
    {
     "data": {
      "text/html": [
       "<pre>| 11      | 1.22s        | 0.674896          | 0.582715              | 0.016168    |</pre>"
      ],
      "text/plain": [
       "| 11      | 1.22s        | 0.674896          | 0.582715              | 0.016168    |"
      ]
     },
     "metadata": {},
     "output_type": "execute_result"
    },
    {
     "data": {
      "text/html": [
       "<pre>| 20      | 1.93s        | 0.520794          | 0.498349              | 0.0103259   |</pre>"
      ],
      "text/plain": [
       "| 20      | 1.93s        | 0.520794          | 0.498349              | 0.0103259   |"
      ]
     },
     "metadata": {},
     "output_type": "execute_result"
    },
    {
     "data": {
      "text/html": [
       "<pre>+---------+--------------+-------------------+-----------------------+-------------+</pre>"
      ],
      "text/plain": [
       "+---------+--------------+-------------------+-----------------------+-------------+"
      ]
     },
     "metadata": {},
     "output_type": "execute_result"
    },
    {
     "data": {
      "text/html": [
       "<pre>Optimization Complete: Maximum number of passes through the data reached.</pre>"
      ],
      "text/plain": [
       "Optimization Complete: Maximum number of passes through the data reached."
      ]
     },
     "metadata": {},
     "output_type": "execute_result"
    },
    {
     "data": {
      "text/html": [
       "<pre>Computing final objective value and training RMSE.</pre>"
      ],
      "text/plain": [
       "Computing final objective value and training RMSE."
      ]
     },
     "metadata": {},
     "output_type": "execute_result"
    },
    {
     "data": {
      "text/html": [
       "<pre>       Final objective value: 0.450563</pre>"
      ],
      "text/plain": [
       "       Final objective value: 0.450563"
      ]
     },
     "metadata": {},
     "output_type": "execute_result"
    },
    {
     "data": {
      "text/html": [
       "<pre>       Final training RMSE: 0.417857</pre>"
      ],
      "text/plain": [
       "       Final training RMSE: 0.417857"
      ]
     },
     "metadata": {},
     "output_type": "execute_result"
    },
    {
     "data": {
      "text/html": [
       "<div style=\"max-height:1000px;max-width:1500px;overflow:auto;\"><table frame=\"box\" rules=\"cols\">\n",
       "    <tr>\n",
       "        <th style=\"padding-left: 1em; padding-right: 1em; text-align: center\">user</th>\n",
       "        <th style=\"padding-left: 1em; padding-right: 1em; text-align: center\">movie</th>\n",
       "        <th style=\"padding-left: 1em; padding-right: 1em; text-align: center\">score</th>\n",
       "        <th style=\"padding-left: 1em; padding-right: 1em; text-align: center\">rank</th>\n",
       "    </tr>\n",
       "    <tr>\n",
       "        <td style=\"padding-left: 1em; padding-right: 1em; text-align: center; vertical-align: top\">Jacob Smith</td>\n",
       "        <td style=\"padding-left: 1em; padding-right: 1em; text-align: center; vertical-align: top\">Sabrina</td>\n",
       "        <td style=\"padding-left: 1em; padding-right: 1em; text-align: center; vertical-align: top\">4.86910174883</td>\n",
       "        <td style=\"padding-left: 1em; padding-right: 1em; text-align: center; vertical-align: top\">1</td>\n",
       "    </tr>\n",
       "    <tr>\n",
       "        <td style=\"padding-left: 1em; padding-right: 1em; text-align: center; vertical-align: top\">Jacob Smith</td>\n",
       "        <td style=\"padding-left: 1em; padding-right: 1em; text-align: center; vertical-align: top\">Doctor Zhivago</td>\n",
       "        <td style=\"padding-left: 1em; padding-right: 1em; text-align: center; vertical-align: top\">4.79589484728</td>\n",
       "        <td style=\"padding-left: 1em; padding-right: 1em; text-align: center; vertical-align: top\">2</td>\n",
       "    </tr>\n",
       "    <tr>\n",
       "        <td style=\"padding-left: 1em; padding-right: 1em; text-align: center; vertical-align: top\">Jacob Smith</td>\n",
       "        <td style=\"padding-left: 1em; padding-right: 1em; text-align: center; vertical-align: top\">West Side Story</td>\n",
       "        <td style=\"padding-left: 1em; padding-right: 1em; text-align: center; vertical-align: top\">4.58079622782</td>\n",
       "        <td style=\"padding-left: 1em; padding-right: 1em; text-align: center; vertical-align: top\">3</td>\n",
       "    </tr>\n",
       "    <tr>\n",
       "        <td style=\"padding-left: 1em; padding-right: 1em; text-align: center; vertical-align: top\">Jacob Smith</td>\n",
       "        <td style=\"padding-left: 1em; padding-right: 1em; text-align: center; vertical-align: top\">Bridget Jones's Diary</td>\n",
       "        <td style=\"padding-left: 1em; padding-right: 1em; text-align: center; vertical-align: top\">4.20802472627</td>\n",
       "        <td style=\"padding-left: 1em; padding-right: 1em; text-align: center; vertical-align: top\">4</td>\n",
       "    </tr>\n",
       "    <tr>\n",
       "        <td style=\"padding-left: 1em; padding-right: 1em; text-align: center; vertical-align: top\">Jacob Smith</td>\n",
       "        <td style=\"padding-left: 1em; padding-right: 1em; text-align: center; vertical-align: top\">Legends of the Fall</td>\n",
       "        <td style=\"padding-left: 1em; padding-right: 1em; text-align: center; vertical-align: top\">4.16532920397</td>\n",
       "        <td style=\"padding-left: 1em; padding-right: 1em; text-align: center; vertical-align: top\">5</td>\n",
       "    </tr>\n",
       "    <tr>\n",
       "        <td style=\"padding-left: 1em; padding-right: 1em; text-align: center; vertical-align: top\">Mason Smith</td>\n",
       "        <td style=\"padding-left: 1em; padding-right: 1em; text-align: center; vertical-align: top\">The Adventures of<br>Priscilla ...</td>\n",
       "        <td style=\"padding-left: 1em; padding-right: 1em; text-align: center; vertical-align: top\">6.47308109796</td>\n",
       "        <td style=\"padding-left: 1em; padding-right: 1em; text-align: center; vertical-align: top\">1</td>\n",
       "    </tr>\n",
       "    <tr>\n",
       "        <td style=\"padding-left: 1em; padding-right: 1em; text-align: center; vertical-align: top\">Mason Smith</td>\n",
       "        <td style=\"padding-left: 1em; padding-right: 1em; text-align: center; vertical-align: top\">Roger &amp; Me</td>\n",
       "        <td style=\"padding-left: 1em; padding-right: 1em; text-align: center; vertical-align: top\">5.23513935602</td>\n",
       "        <td style=\"padding-left: 1em; padding-right: 1em; text-align: center; vertical-align: top\">2</td>\n",
       "    </tr>\n",
       "    <tr>\n",
       "        <td style=\"padding-left: 1em; padding-right: 1em; text-align: center; vertical-align: top\">Mason Smith</td>\n",
       "        <td style=\"padding-left: 1em; padding-right: 1em; text-align: center; vertical-align: top\">Some Like It Hot</td>\n",
       "        <td style=\"padding-left: 1em; padding-right: 1em; text-align: center; vertical-align: top\">5.03575180567</td>\n",
       "        <td style=\"padding-left: 1em; padding-right: 1em; text-align: center; vertical-align: top\">3</td>\n",
       "    </tr>\n",
       "    <tr>\n",
       "        <td style=\"padding-left: 1em; padding-right: 1em; text-align: center; vertical-align: top\">Mason Smith</td>\n",
       "        <td style=\"padding-left: 1em; padding-right: 1em; text-align: center; vertical-align: top\">Best in Show</td>\n",
       "        <td style=\"padding-left: 1em; padding-right: 1em; text-align: center; vertical-align: top\">5.02817009485</td>\n",
       "        <td style=\"padding-left: 1em; padding-right: 1em; text-align: center; vertical-align: top\">4</td>\n",
       "    </tr>\n",
       "    <tr>\n",
       "        <td style=\"padding-left: 1em; padding-right: 1em; text-align: center; vertical-align: top\">Mason Smith</td>\n",
       "        <td style=\"padding-left: 1em; padding-right: 1em; text-align: center; vertical-align: top\">Cool Hand Luke</td>\n",
       "        <td style=\"padding-left: 1em; padding-right: 1em; text-align: center; vertical-align: top\">5.01376794374</td>\n",
       "        <td style=\"padding-left: 1em; padding-right: 1em; text-align: center; vertical-align: top\">5</td>\n",
       "    </tr>\n",
       "</table>\n",
       "[10 rows x 4 columns]<br/>\n",
       "</div>"
      ],
      "text/plain": [
       "Columns:\n",
       "\tuser\tstr\n",
       "\tmovie\tstr\n",
       "\tscore\tfloat\n",
       "\trank\tint\n",
       "\n",
       "Rows: 10\n",
       "\n",
       "Data:\n",
       "+-------------+-----------------------------+---------------+------+\n",
       "|     user    |            movie            |     score     | rank |\n",
       "+-------------+-----------------------------+---------------+------+\n",
       "| Jacob Smith |           Sabrina           | 4.86910174883 |  1   |\n",
       "| Jacob Smith |        Doctor Zhivago       | 4.79589484728 |  2   |\n",
       "| Jacob Smith |       West Side Story       | 4.58079622782 |  3   |\n",
       "| Jacob Smith |    Bridget Jones's Diary    | 4.20802472627 |  4   |\n",
       "| Jacob Smith |     Legends of the Fall     | 4.16532920397 |  5   |\n",
       "| Mason Smith | The Adventures of Priscilla | 6.47308109796 |  1   |\n",
       "| Mason Smith |          Roger & Me         | 5.23513935602 |  2   |\n",
       "| Mason Smith |       Some Like It Hot      | 5.03575180567 |  3   |\n",
       "| Mason Smith |         Best in Show        | 5.02817009485 |  4   |\n",
       "| Mason Smith |        Cool Hand Luke       | 5.01376794374 |  5   |\n",
       "+-------------+-----------------------------+---------------+------+\n",
       "[10 rows x 4 columns]"
      ]
     },
     "execution_count": 1,
     "metadata": {},
     "output_type": "execute_result"
    }
   ],
   "source": [
    "# This is a well known graphlab example that builds a recommendation system in 5 lines of code\n",
    "\n",
    "import graphlab as gl\n",
    "\n",
    "data = gl.SFrame.read_csv(\"http://s3.amazonaws.com/dato-datasets/movie_ratings/training_data.csv\", \n",
    "                          column_type_hints={\"rating\":int})\n",
    "model = gl.recommender.create(data, user_id=\"user\", item_id=\"movie\", target=\"rating\")\n",
    "results = model.recommend(users=None, k=5)\n",
    "model.save(\"my_model\")\n",
    "\n",
    "results.head() # the recommendation output"
   ]
  },
  {
   "cell_type": "markdown",
   "metadata": {},
   "source": [
    "In the above model creation, we have found the top five highest ranking items for each user. Two users are shown with their corresponding highest ranking items (that they have not rated).\n",
    "___"
   ]
  },
  {
   "cell_type": "code",
   "execution_count": 2,
   "metadata": {
    "collapsed": false
   },
   "outputs": [
    {
     "data": {
      "text/html": [
       "<div style=\"max-height:1000px;max-width:1500px;overflow:auto;\"><table frame=\"box\" rules=\"cols\">\n",
       "    <tr>\n",
       "        <th style=\"padding-left: 1em; padding-right: 1em; text-align: center\">user</th>\n",
       "        <th style=\"padding-left: 1em; padding-right: 1em; text-align: center\">movie</th>\n",
       "        <th style=\"padding-left: 1em; padding-right: 1em; text-align: center\">rating</th>\n",
       "    </tr>\n",
       "    <tr>\n",
       "        <td style=\"padding-left: 1em; padding-right: 1em; text-align: center; vertical-align: top\">Jacob Smith</td>\n",
       "        <td style=\"padding-left: 1em; padding-right: 1em; text-align: center; vertical-align: top\">Flirting with Disaster</td>\n",
       "        <td style=\"padding-left: 1em; padding-right: 1em; text-align: center; vertical-align: top\">4</td>\n",
       "    </tr>\n",
       "    <tr>\n",
       "        <td style=\"padding-left: 1em; padding-right: 1em; text-align: center; vertical-align: top\">Jacob Smith</td>\n",
       "        <td style=\"padding-left: 1em; padding-right: 1em; text-align: center; vertical-align: top\">Indecent Proposal</td>\n",
       "        <td style=\"padding-left: 1em; padding-right: 1em; text-align: center; vertical-align: top\">3</td>\n",
       "    </tr>\n",
       "    <tr>\n",
       "        <td style=\"padding-left: 1em; padding-right: 1em; text-align: center; vertical-align: top\">Jacob Smith</td>\n",
       "        <td style=\"padding-left: 1em; padding-right: 1em; text-align: center; vertical-align: top\">Runaway Bride</td>\n",
       "        <td style=\"padding-left: 1em; padding-right: 1em; text-align: center; vertical-align: top\">2</td>\n",
       "    </tr>\n",
       "    <tr>\n",
       "        <td style=\"padding-left: 1em; padding-right: 1em; text-align: center; vertical-align: top\">Jacob Smith</td>\n",
       "        <td style=\"padding-left: 1em; padding-right: 1em; text-align: center; vertical-align: top\">Swiss Family Robinson</td>\n",
       "        <td style=\"padding-left: 1em; padding-right: 1em; text-align: center; vertical-align: top\">1</td>\n",
       "    </tr>\n",
       "    <tr>\n",
       "        <td style=\"padding-left: 1em; padding-right: 1em; text-align: center; vertical-align: top\">Jacob Smith</td>\n",
       "        <td style=\"padding-left: 1em; padding-right: 1em; text-align: center; vertical-align: top\">The Mexican</td>\n",
       "        <td style=\"padding-left: 1em; padding-right: 1em; text-align: center; vertical-align: top\">2</td>\n",
       "    </tr>\n",
       "    <tr>\n",
       "        <td style=\"padding-left: 1em; padding-right: 1em; text-align: center; vertical-align: top\">Jacob Smith</td>\n",
       "        <td style=\"padding-left: 1em; padding-right: 1em; text-align: center; vertical-align: top\">Maid in Manhattan</td>\n",
       "        <td style=\"padding-left: 1em; padding-right: 1em; text-align: center; vertical-align: top\">4</td>\n",
       "    </tr>\n",
       "    <tr>\n",
       "        <td style=\"padding-left: 1em; padding-right: 1em; text-align: center; vertical-align: top\">Jacob Smith</td>\n",
       "        <td style=\"padding-left: 1em; padding-right: 1em; text-align: center; vertical-align: top\">A Charlie Brown<br>Thanksgiving / The ...</td>\n",
       "        <td style=\"padding-left: 1em; padding-right: 1em; text-align: center; vertical-align: top\">3</td>\n",
       "    </tr>\n",
       "    <tr>\n",
       "        <td style=\"padding-left: 1em; padding-right: 1em; text-align: center; vertical-align: top\">Jacob Smith</td>\n",
       "        <td style=\"padding-left: 1em; padding-right: 1em; text-align: center; vertical-align: top\">Brazil</td>\n",
       "        <td style=\"padding-left: 1em; padding-right: 1em; text-align: center; vertical-align: top\">1</td>\n",
       "    </tr>\n",
       "    <tr>\n",
       "        <td style=\"padding-left: 1em; padding-right: 1em; text-align: center; vertical-align: top\">Jacob Smith</td>\n",
       "        <td style=\"padding-left: 1em; padding-right: 1em; text-align: center; vertical-align: top\">Forrest Gump</td>\n",
       "        <td style=\"padding-left: 1em; padding-right: 1em; text-align: center; vertical-align: top\">3</td>\n",
       "    </tr>\n",
       "    <tr>\n",
       "        <td style=\"padding-left: 1em; padding-right: 1em; text-align: center; vertical-align: top\">Jacob Smith</td>\n",
       "        <td style=\"padding-left: 1em; padding-right: 1em; text-align: center; vertical-align: top\">It Happened One Night</td>\n",
       "        <td style=\"padding-left: 1em; padding-right: 1em; text-align: center; vertical-align: top\">4</td>\n",
       "    </tr>\n",
       "</table>\n",
       "[10 rows x 3 columns]<br/>\n",
       "</div>"
      ],
      "text/plain": [
       "Columns:\n",
       "\tuser\tstr\n",
       "\tmovie\tstr\n",
       "\trating\tint\n",
       "\n",
       "Rows: 10\n",
       "\n",
       "Data:\n",
       "+-------------+-------------------------------+--------+\n",
       "|     user    |             movie             | rating |\n",
       "+-------------+-------------------------------+--------+\n",
       "| Jacob Smith |     Flirting with Disaster    |   4    |\n",
       "| Jacob Smith |       Indecent Proposal       |   3    |\n",
       "| Jacob Smith |         Runaway Bride         |   2    |\n",
       "| Jacob Smith |     Swiss Family Robinson     |   1    |\n",
       "| Jacob Smith |          The Mexican          |   2    |\n",
       "| Jacob Smith |       Maid in Manhattan       |   4    |\n",
       "| Jacob Smith | A Charlie Brown Thanksgivi... |   3    |\n",
       "| Jacob Smith |             Brazil            |   1    |\n",
       "| Jacob Smith |          Forrest Gump         |   3    |\n",
       "| Jacob Smith |     It Happened One Night     |   4    |\n",
       "+-------------+-------------------------------+--------+\n",
       "[10 rows x 3 columns]"
      ]
     },
     "execution_count": 2,
     "metadata": {},
     "output_type": "execute_result"
    }
   ],
   "source": [
    "data.head()"
   ]
  },
  {
   "cell_type": "markdown",
   "metadata": {},
   "source": [
    "That's great!! But we really do not know how good these results are, so let's keep moving and we will come back, but using cross-validation. \n",
    "\n",
    "\n",
    "## The item-item recommendation system\n",
    "No let's look at creating the item-item similarity matrix. That is, for each item, what are the top closest items based upon user ratings."
   ]
  },
  {
   "cell_type": "code",
   "execution_count": 3,
   "metadata": {
    "collapsed": false
   },
   "outputs": [
    {
     "data": {
      "text/html": [
       "<pre>Recsys training: model = item_similarity</pre>"
      ],
      "text/plain": [
       "Recsys training: model = item_similarity"
      ]
     },
     "metadata": {},
     "output_type": "execute_result"
    },
    {
     "data": {
      "text/html": [
       "<pre>Preparing data set.</pre>"
      ],
      "text/plain": [
       "Preparing data set."
      ]
     },
     "metadata": {},
     "output_type": "execute_result"
    },
    {
     "data": {
      "text/html": [
       "<pre>    Data has 82068 observations with 334 users and 7714 items.</pre>"
      ],
      "text/plain": [
       "    Data has 82068 observations with 334 users and 7714 items."
      ]
     },
     "metadata": {},
     "output_type": "execute_result"
    },
    {
     "data": {
      "text/html": [
       "<pre>    Data prepared in: 0.226315s</pre>"
      ],
      "text/plain": [
       "    Data prepared in: 0.226315s"
      ]
     },
     "metadata": {},
     "output_type": "execute_result"
    },
    {
     "data": {
      "text/html": [
       "<pre>Training model from provided data.</pre>"
      ],
      "text/plain": [
       "Training model from provided data."
      ]
     },
     "metadata": {},
     "output_type": "execute_result"
    },
    {
     "data": {
      "text/html": [
       "<pre>Gathering per-item and per-user statistics.</pre>"
      ],
      "text/plain": [
       "Gathering per-item and per-user statistics."
      ]
     },
     "metadata": {},
     "output_type": "execute_result"
    },
    {
     "data": {
      "text/html": [
       "<pre>+--------------------------------+------------+</pre>"
      ],
      "text/plain": [
       "+--------------------------------+------------+"
      ]
     },
     "metadata": {},
     "output_type": "execute_result"
    },
    {
     "data": {
      "text/html": [
       "<pre>| Elapsed Time (Item Statistics) | % Complete |</pre>"
      ],
      "text/plain": [
       "| Elapsed Time (Item Statistics) | % Complete |"
      ]
     },
     "metadata": {},
     "output_type": "execute_result"
    },
    {
     "data": {
      "text/html": [
       "<pre>+--------------------------------+------------+</pre>"
      ],
      "text/plain": [
       "+--------------------------------+------------+"
      ]
     },
     "metadata": {},
     "output_type": "execute_result"
    },
    {
     "data": {
      "text/html": [
       "<pre>| 28.58ms                        | 100        |</pre>"
      ],
      "text/plain": [
       "| 28.58ms                        | 100        |"
      ]
     },
     "metadata": {},
     "output_type": "execute_result"
    },
    {
     "data": {
      "text/html": [
       "<pre>+--------------------------------+------------+</pre>"
      ],
      "text/plain": [
       "+--------------------------------+------------+"
      ]
     },
     "metadata": {},
     "output_type": "execute_result"
    },
    {
     "data": {
      "text/html": [
       "<pre>Setting up lookup tables.</pre>"
      ],
      "text/plain": [
       "Setting up lookup tables."
      ]
     },
     "metadata": {},
     "output_type": "execute_result"
    },
    {
     "data": {
      "text/html": [
       "<pre>Processing data in one pass using dense lookup tables.</pre>"
      ],
      "text/plain": [
       "Processing data in one pass using dense lookup tables."
      ]
     },
     "metadata": {},
     "output_type": "execute_result"
    },
    {
     "data": {
      "text/html": [
       "<pre>+-------------------------------------+------------------+-----------------+</pre>"
      ],
      "text/plain": [
       "+-------------------------------------+------------------+-----------------+"
      ]
     },
     "metadata": {},
     "output_type": "execute_result"
    },
    {
     "data": {
      "text/html": [
       "<pre>| Elapsed Time (Constructing Lookups) | Total % Complete | Items Processed |</pre>"
      ],
      "text/plain": [
       "| Elapsed Time (Constructing Lookups) | Total % Complete | Items Processed |"
      ]
     },
     "metadata": {},
     "output_type": "execute_result"
    },
    {
     "data": {
      "text/html": [
       "<pre>+-------------------------------------+------------------+-----------------+</pre>"
      ],
      "text/plain": [
       "+-------------------------------------+------------------+-----------------+"
      ]
     },
     "metadata": {},
     "output_type": "execute_result"
    },
    {
     "data": {
      "text/html": [
       "<pre>| 237.274ms                           | 0                | 7               |</pre>"
      ],
      "text/plain": [
       "| 237.274ms                           | 0                | 7               |"
      ]
     },
     "metadata": {},
     "output_type": "execute_result"
    },
    {
     "data": {
      "text/html": [
       "<pre>| 779.739ms                           | 100              | 7714            |</pre>"
      ],
      "text/plain": [
       "| 779.739ms                           | 100              | 7714            |"
      ]
     },
     "metadata": {},
     "output_type": "execute_result"
    },
    {
     "data": {
      "text/html": [
       "<pre>+-------------------------------------+------------------+-----------------+</pre>"
      ],
      "text/plain": [
       "+-------------------------------------+------------------+-----------------+"
      ]
     },
     "metadata": {},
     "output_type": "execute_result"
    },
    {
     "data": {
      "text/html": [
       "<pre>Finalizing lookup tables.</pre>"
      ],
      "text/plain": [
       "Finalizing lookup tables."
      ]
     },
     "metadata": {},
     "output_type": "execute_result"
    },
    {
     "data": {
      "text/html": [
       "<pre>Generating candidate set for working with new users.</pre>"
      ],
      "text/plain": [
       "Generating candidate set for working with new users."
      ]
     },
     "metadata": {},
     "output_type": "execute_result"
    },
    {
     "data": {
      "text/html": [
       "<pre>Finished training in 0.793751s</pre>"
      ],
      "text/plain": [
       "Finished training in 0.793751s"
      ]
     },
     "metadata": {},
     "output_type": "execute_result"
    },
    {
     "data": {
      "text/html": [
       "<div style=\"max-height:1000px;max-width:1500px;overflow:auto;\"><table frame=\"box\" rules=\"cols\">\n",
       "    <tr>\n",
       "        <th style=\"padding-left: 1em; padding-right: 1em; text-align: center\">movie</th>\n",
       "        <th style=\"padding-left: 1em; padding-right: 1em; text-align: center\">similar</th>\n",
       "        <th style=\"padding-left: 1em; padding-right: 1em; text-align: center\">score</th>\n",
       "        <th style=\"padding-left: 1em; padding-right: 1em; text-align: center\">rank</th>\n",
       "    </tr>\n",
       "    <tr>\n",
       "        <td style=\"padding-left: 1em; padding-right: 1em; text-align: center; vertical-align: top\">Flirting with Disaster</td>\n",
       "        <td style=\"padding-left: 1em; padding-right: 1em; text-align: center; vertical-align: top\">Martin Lawrence: You So<br>Crazy ...</td>\n",
       "        <td style=\"padding-left: 1em; padding-right: 1em; text-align: center; vertical-align: top\">0.561863601208</td>\n",
       "        <td style=\"padding-left: 1em; padding-right: 1em; text-align: center; vertical-align: top\">1</td>\n",
       "    </tr>\n",
       "    <tr>\n",
       "        <td style=\"padding-left: 1em; padding-right: 1em; text-align: center; vertical-align: top\">Flirting with Disaster</td>\n",
       "        <td style=\"padding-left: 1em; padding-right: 1em; text-align: center; vertical-align: top\">Shadow Magic</td>\n",
       "        <td style=\"padding-left: 1em; padding-right: 1em; text-align: center; vertical-align: top\">0.535303354263</td>\n",
       "        <td style=\"padding-left: 1em; padding-right: 1em; text-align: center; vertical-align: top\">2</td>\n",
       "    </tr>\n",
       "    <tr>\n",
       "        <td style=\"padding-left: 1em; padding-right: 1em; text-align: center; vertical-align: top\">Flirting with Disaster</td>\n",
       "        <td style=\"padding-left: 1em; padding-right: 1em; text-align: center; vertical-align: top\">Seinfeld: Season 4</td>\n",
       "        <td style=\"padding-left: 1em; padding-right: 1em; text-align: center; vertical-align: top\">0.507150530815</td>\n",
       "        <td style=\"padding-left: 1em; padding-right: 1em; text-align: center; vertical-align: top\">3</td>\n",
       "    </tr>\n",
       "    <tr>\n",
       "        <td style=\"padding-left: 1em; padding-right: 1em; text-align: center; vertical-align: top\">Indecent Proposal</td>\n",
       "        <td style=\"padding-left: 1em; padding-right: 1em; text-align: center; vertical-align: top\">Cocktail</td>\n",
       "        <td style=\"padding-left: 1em; padding-right: 1em; text-align: center; vertical-align: top\">0.568772494793</td>\n",
       "        <td style=\"padding-left: 1em; padding-right: 1em; text-align: center; vertical-align: top\">1</td>\n",
       "    </tr>\n",
       "    <tr>\n",
       "        <td style=\"padding-left: 1em; padding-right: 1em; text-align: center; vertical-align: top\">Indecent Proposal</td>\n",
       "        <td style=\"padding-left: 1em; padding-right: 1em; text-align: center; vertical-align: top\">Beverly Hills Cop</td>\n",
       "        <td style=\"padding-left: 1em; padding-right: 1em; text-align: center; vertical-align: top\">0.516246914864</td>\n",
       "        <td style=\"padding-left: 1em; padding-right: 1em; text-align: center; vertical-align: top\">2</td>\n",
       "    </tr>\n",
       "    <tr>\n",
       "        <td style=\"padding-left: 1em; padding-right: 1em; text-align: center; vertical-align: top\">Indecent Proposal</td>\n",
       "        <td style=\"padding-left: 1em; padding-right: 1em; text-align: center; vertical-align: top\">Flatliners</td>\n",
       "        <td style=\"padding-left: 1em; padding-right: 1em; text-align: center; vertical-align: top\">0.513955056667</td>\n",
       "        <td style=\"padding-left: 1em; padding-right: 1em; text-align: center; vertical-align: top\">3</td>\n",
       "    </tr>\n",
       "    <tr>\n",
       "        <td style=\"padding-left: 1em; padding-right: 1em; text-align: center; vertical-align: top\">Runaway Bride</td>\n",
       "        <td style=\"padding-left: 1em; padding-right: 1em; text-align: center; vertical-align: top\">Notting Hill</td>\n",
       "        <td style=\"padding-left: 1em; padding-right: 1em; text-align: center; vertical-align: top\">0.613413572311</td>\n",
       "        <td style=\"padding-left: 1em; padding-right: 1em; text-align: center; vertical-align: top\">1</td>\n",
       "    </tr>\n",
       "    <tr>\n",
       "        <td style=\"padding-left: 1em; padding-right: 1em; text-align: center; vertical-align: top\">Runaway Bride</td>\n",
       "        <td style=\"padding-left: 1em; padding-right: 1em; text-align: center; vertical-align: top\">Sleepless in Seattle</td>\n",
       "        <td style=\"padding-left: 1em; padding-right: 1em; text-align: center; vertical-align: top\">0.60902172327</td>\n",
       "        <td style=\"padding-left: 1em; padding-right: 1em; text-align: center; vertical-align: top\">2</td>\n",
       "    </tr>\n",
       "    <tr>\n",
       "        <td style=\"padding-left: 1em; padding-right: 1em; text-align: center; vertical-align: top\">Runaway Bride</td>\n",
       "        <td style=\"padding-left: 1em; padding-right: 1em; text-align: center; vertical-align: top\">Maid in Manhattan</td>\n",
       "        <td style=\"padding-left: 1em; padding-right: 1em; text-align: center; vertical-align: top\">0.608688771725</td>\n",
       "        <td style=\"padding-left: 1em; padding-right: 1em; text-align: center; vertical-align: top\">3</td>\n",
       "    </tr>\n",
       "    <tr>\n",
       "        <td style=\"padding-left: 1em; padding-right: 1em; text-align: center; vertical-align: top\">Swiss Family Robinson</td>\n",
       "        <td style=\"padding-left: 1em; padding-right: 1em; text-align: center; vertical-align: top\">Armed and Dangerous</td>\n",
       "        <td style=\"padding-left: 1em; padding-right: 1em; text-align: center; vertical-align: top\">0.483493804932</td>\n",
       "        <td style=\"padding-left: 1em; padding-right: 1em; text-align: center; vertical-align: top\">1</td>\n",
       "    </tr>\n",
       "</table>\n",
       "[10 rows x 4 columns]<br/>\n",
       "</div>"
      ],
      "text/plain": [
       "Columns:\n",
       "\tmovie\tstr\n",
       "\tsimilar\tstr\n",
       "\tscore\tfloat\n",
       "\trank\tint\n",
       "\n",
       "Rows: 10\n",
       "\n",
       "Data:\n",
       "+------------------------+-------------------------------+----------------+------+\n",
       "|         movie          |            similar            |     score      | rank |\n",
       "+------------------------+-------------------------------+----------------+------+\n",
       "| Flirting with Disaster | Martin Lawrence: You So Crazy | 0.561863601208 |  1   |\n",
       "| Flirting with Disaster |          Shadow Magic         | 0.535303354263 |  2   |\n",
       "| Flirting with Disaster |       Seinfeld: Season 4      | 0.507150530815 |  3   |\n",
       "|   Indecent Proposal    |            Cocktail           | 0.568772494793 |  1   |\n",
       "|   Indecent Proposal    |       Beverly Hills Cop       | 0.516246914864 |  2   |\n",
       "|   Indecent Proposal    |           Flatliners          | 0.513955056667 |  3   |\n",
       "|     Runaway Bride      |          Notting Hill         | 0.613413572311 |  1   |\n",
       "|     Runaway Bride      |      Sleepless in Seattle     | 0.60902172327  |  2   |\n",
       "|     Runaway Bride      |       Maid in Manhattan       | 0.608688771725 |  3   |\n",
       "| Swiss Family Robinson  |      Armed and Dangerous      | 0.483493804932 |  1   |\n",
       "+------------------------+-------------------------------+----------------+------+\n",
       "[10 rows x 4 columns]"
      ]
     },
     "execution_count": 3,
     "metadata": {},
     "output_type": "execute_result"
    }
   ],
   "source": [
    "# from graphlab.recommender import item_similarity_recommender\n",
    "\n",
    "item_item = gl.recommender.item_similarity_recommender.create(data, \n",
    "                                  user_id=\"user\", \n",
    "                                  item_id=\"movie\", \n",
    "                                  target=\"rating\",\n",
    "                                  only_top_k=3,\n",
    "                                  similarity_type=\"cosine\")\n",
    "\n",
    "results = item_item.get_similar_items(k=3)\n",
    "results.head()"
   ]
  },
  {
   "cell_type": "markdown",
   "metadata": {},
   "source": [
    "The item-item matrix is typically a good baseline. However, we can do better with a more personalized system. Something that takes into account the various preferences of specific users, rather than all users rating specific items. \n",
    "___\n",
    "Moreover, we need to be performing cross validation of the data set to see what model and model parameters actually generalize well with out dataset. That also means we need a set of evaluation criteria. The first and very common measuer is the root mean squared error, RMSE. It takes into account the difference between the predicted rating and the actual rating of items. However, we can calculate it in a number of different aggregated ways (i.e., splits and aggregation). For instance, we could just take the average RMSE of every entry in the dataset. Or, we could take the average RMSE for each user, or the average RMSE for each item. Ite really depends on what we are most interested in (i.e., out business case). RMSE can be calculated in the following ways:\n",
    "\n",
    "$$RMSE=\\sqrt{\\frac{1}{N}\\sum_{i=1}^N (\\hat{y}_i-y_i)^2}$$\n",
    "\n",
    "Or we can calculate the RMSE for each user, U, in our data:\n",
    "\n",
    "$$\\underbrace{RMSE(U)}_{\\text{user=U}}=\\sqrt{\\frac{1}{|U|}\\sum_{u\\in U} (\\hat{y}_u-y_u)^2}$$\n",
    "\n",
    "Or we can calculate the RMSE for each item, J, in our data:\n",
    "\n",
    "$$\\underbrace{RMSE(J)}_{\\text{item=J}}=\\sqrt{\\frac{1}{|J|}\\sum_{j\\in J} (\\hat{y}_j-y_j)^2}$$\n",
    "\n",
    "It's importatn to understand that RMSE(U) and RMSE(J) are arrays of averages, the size of the unique number of users or unique number of items, respectively. Therefore an approach that visualizes the distribution of values is a nice evaluation technique. It also means that statistical tests of the distributions can be used to evaluate the differences of the models. That is, \"Model A has statistically smaller (with 95% confidence) per user RMSE than model B, thereofore we conclude that model A has superior performance.\"\n",
    "\n",
    "\n",
    "So let's now create a holdout set and see if we can judge the RMSE on a per-user and per-item basis:"
   ]
  },
  {
   "cell_type": "code",
   "execution_count": 4,
   "metadata": {
    "collapsed": true
   },
   "outputs": [],
   "source": [
    "train, test = gl.recommender.util.random_split_by_user(data,\n",
    "                                                    user_id=\"user\", item_id=\"movie\",\n",
    "                                                    max_num_users=100, item_test_proportion=0.2)"
   ]
  },
  {
   "cell_type": "code",
   "execution_count": 5,
   "metadata": {
    "collapsed": false,
    "scrolled": false
   },
   "outputs": [
    {
     "data": {
      "text/html": [
       "<pre>Recsys training: model = item_similarity</pre>"
      ],
      "text/plain": [
       "Recsys training: model = item_similarity"
      ]
     },
     "metadata": {},
     "output_type": "execute_result"
    },
    {
     "data": {
      "text/html": [
       "<pre>Preparing data set.</pre>"
      ],
      "text/plain": [
       "Preparing data set."
      ]
     },
     "metadata": {},
     "output_type": "execute_result"
    },
    {
     "data": {
      "text/html": [
       "<pre>    Data has 77252 observations with 334 users and 7474 items.</pre>"
      ],
      "text/plain": [
       "    Data has 77252 observations with 334 users and 7474 items."
      ]
     },
     "metadata": {},
     "output_type": "execute_result"
    },
    {
     "data": {
      "text/html": [
       "<pre>    Data prepared in: 0.1849s</pre>"
      ],
      "text/plain": [
       "    Data prepared in: 0.1849s"
      ]
     },
     "metadata": {},
     "output_type": "execute_result"
    },
    {
     "data": {
      "text/html": [
       "<pre>Training model from provided data.</pre>"
      ],
      "text/plain": [
       "Training model from provided data."
      ]
     },
     "metadata": {},
     "output_type": "execute_result"
    },
    {
     "data": {
      "text/html": [
       "<pre>Gathering per-item and per-user statistics.</pre>"
      ],
      "text/plain": [
       "Gathering per-item and per-user statistics."
      ]
     },
     "metadata": {},
     "output_type": "execute_result"
    },
    {
     "data": {
      "text/html": [
       "<pre>+--------------------------------+------------+</pre>"
      ],
      "text/plain": [
       "+--------------------------------+------------+"
      ]
     },
     "metadata": {},
     "output_type": "execute_result"
    },
    {
     "data": {
      "text/html": [
       "<pre>| Elapsed Time (Item Statistics) | % Complete |</pre>"
      ],
      "text/plain": [
       "| Elapsed Time (Item Statistics) | % Complete |"
      ]
     },
     "metadata": {},
     "output_type": "execute_result"
    },
    {
     "data": {
      "text/html": [
       "<pre>+--------------------------------+------------+</pre>"
      ],
      "text/plain": [
       "+--------------------------------+------------+"
      ]
     },
     "metadata": {},
     "output_type": "execute_result"
    },
    {
     "data": {
      "text/html": [
       "<pre>| 5.201ms                        | 100        |</pre>"
      ],
      "text/plain": [
       "| 5.201ms                        | 100        |"
      ]
     },
     "metadata": {},
     "output_type": "execute_result"
    },
    {
     "data": {
      "text/html": [
       "<pre>+--------------------------------+------------+</pre>"
      ],
      "text/plain": [
       "+--------------------------------+------------+"
      ]
     },
     "metadata": {},
     "output_type": "execute_result"
    },
    {
     "data": {
      "text/html": [
       "<pre>Setting up lookup tables.</pre>"
      ],
      "text/plain": [
       "Setting up lookup tables."
      ]
     },
     "metadata": {},
     "output_type": "execute_result"
    },
    {
     "data": {
      "text/html": [
       "<pre>Processing data in one pass using dense lookup tables.</pre>"
      ],
      "text/plain": [
       "Processing data in one pass using dense lookup tables."
      ]
     },
     "metadata": {},
     "output_type": "execute_result"
    },
    {
     "data": {
      "text/html": [
       "<pre>+-------------------------------------+------------------+-----------------+</pre>"
      ],
      "text/plain": [
       "+-------------------------------------+------------------+-----------------+"
      ]
     },
     "metadata": {},
     "output_type": "execute_result"
    },
    {
     "data": {
      "text/html": [
       "<pre>| Elapsed Time (Constructing Lookups) | Total % Complete | Items Processed |</pre>"
      ],
      "text/plain": [
       "| Elapsed Time (Constructing Lookups) | Total % Complete | Items Processed |"
      ]
     },
     "metadata": {},
     "output_type": "execute_result"
    },
    {
     "data": {
      "text/html": [
       "<pre>+-------------------------------------+------------------+-----------------+</pre>"
      ],
      "text/plain": [
       "+-------------------------------------+------------------+-----------------+"
      ]
     },
     "metadata": {},
     "output_type": "execute_result"
    },
    {
     "data": {
      "text/html": [
       "<pre>| 184.138ms                           | 0                | 1               |</pre>"
      ],
      "text/plain": [
       "| 184.138ms                           | 0                | 1               |"
      ]
     },
     "metadata": {},
     "output_type": "execute_result"
    },
    {
     "data": {
      "text/html": [
       "<pre>| 739.376ms                           | 100              | 7474            |</pre>"
      ],
      "text/plain": [
       "| 739.376ms                           | 100              | 7474            |"
      ]
     },
     "metadata": {},
     "output_type": "execute_result"
    },
    {
     "data": {
      "text/html": [
       "<pre>+-------------------------------------+------------------+-----------------+</pre>"
      ],
      "text/plain": [
       "+-------------------------------------+------------------+-----------------+"
      ]
     },
     "metadata": {},
     "output_type": "execute_result"
    },
    {
     "data": {
      "text/html": [
       "<pre>Finalizing lookup tables.</pre>"
      ],
      "text/plain": [
       "Finalizing lookup tables."
      ]
     },
     "metadata": {},
     "output_type": "execute_result"
    },
    {
     "data": {
      "text/html": [
       "<pre>Generating candidate set for working with new users.</pre>"
      ],
      "text/plain": [
       "Generating candidate set for working with new users."
      ]
     },
     "metadata": {},
     "output_type": "execute_result"
    },
    {
     "data": {
      "text/html": [
       "<pre>Finished training in 0.760033s</pre>"
      ],
      "text/plain": [
       "Finished training in 0.760033s"
      ]
     },
     "metadata": {},
     "output_type": "execute_result"
    },
    {
     "name": "stdout",
     "output_type": "stream",
     "text": [
      "\n",
      "Precision and recall summary statistics by cutoff\n",
      "+--------+----------------+------------------+\n",
      "| cutoff | mean_precision |   mean_recall    |\n",
      "+--------+----------------+------------------+\n",
      "|   1    |      0.18      | 0.00851461400757 |\n",
      "|   2    |      0.17      | 0.0114813179455  |\n",
      "|   3    |      0.19      | 0.0203175491454  |\n",
      "|   4    |     0.1975     | 0.0275973558931  |\n",
      "|   5    |     0.194      | 0.0327684686723  |\n",
      "|   6    | 0.186666666667 | 0.0354018807673  |\n",
      "|   7    | 0.195714285714 | 0.0452641935336  |\n",
      "|   8    |     0.1975     | 0.0512779743288  |\n",
      "|   9    | 0.196666666667 |  0.055312349506  |\n",
      "|   10   |     0.186      | 0.0609766860575  |\n",
      "+--------+----------------+------------------+\n",
      "[10 rows x 3 columns]\n",
      "\n",
      "('\\nOverall RMSE: ', 3.633760811056906)\n",
      "\n",
      "Per User RMSE (best)\n",
      "+------------+-------+---------------+\n",
      "|    user    | count |      rmse     |\n",
      "+------------+-------+---------------+\n",
      "| Zion Smith |  408  | 1.80170257405 |\n",
      "+------------+-------+---------------+\n",
      "[1 rows x 3 columns]\n",
      "\n",
      "\n",
      "Per User RMSE (worst)\n",
      "+-------------+-------+---------------+\n",
      "|     user    | count |      rmse     |\n",
      "+-------------+-------+---------------+\n",
      "| Kyler Smith |   21  | 4.63823170663 |\n",
      "+-------------+-------+---------------+\n",
      "[1 rows x 3 columns]\n",
      "\n",
      "\n",
      "Per Item RMSE (best)\n",
      "+--------------+-------+----------------+\n",
      "|    movie     | count |      rmse      |\n",
      "+--------------+-------+----------------+\n",
      "| Total Recall |   1   | 0.955566048622 |\n",
      "+--------------+-------+----------------+\n",
      "[1 rows x 3 columns]\n",
      "\n",
      "\n",
      "Per Item RMSE (worst)\n",
      "+------------------------+-------+------+\n",
      "|         movie          | count | rmse |\n",
      "+------------------------+-------+------+\n",
      "| The Simpsons: Season 3 |   1   | 5.0  |\n",
      "+------------------------+-------+------+\n",
      "[1 rows x 3 columns]\n",
      "\n"
     ]
    }
   ],
   "source": [
    "from IPython.display import display\n",
    "from IPython.display import Image\n",
    "\n",
    "gl.canvas.set_target('ipynb')\n",
    "\n",
    "\n",
    "item_item = gl.recommender.item_similarity_recommender.create(train, \n",
    "                                  user_id=\"user\", \n",
    "                                  item_id=\"movie\", \n",
    "                                  target=\"rating\",\n",
    "                                  only_top_k=5,\n",
    "                                  similarity_type=\"cosine\")\n",
    "\n",
    "rmse_results = item_item.evaluate(test)"
   ]
  },
  {
   "cell_type": "code",
   "execution_count": 6,
   "metadata": {
    "collapsed": false
   },
   "outputs": [
    {
     "name": "stdout",
     "output_type": "stream",
     "text": [
      "dict_keys(['rmse_by_user', 'precision_recall_overall', 'rmse_by_item', 'precision_recall_by_user', 'rmse_overall'])\n",
      "+------------------------------+-------+---------------+\n",
      "|            movie             | count |      rmse     |\n",
      "+------------------------------+-------+---------------+\n",
      "|       Steel Magnolias        |   2   | 4.97048890098 |\n",
      "|        The Hard Word         |   1   |      2.0      |\n",
      "| Monty Python's Life of Brian |   1   | 3.99193571548 |\n",
      "|   Crimes and Misdemeanors    |   2   | 3.53526905472 |\n",
      "|    The Mothman Prophecies    |   1   |      3.0      |\n",
      "|         ER: Season 1         |   1   |      3.0      |\n",
      "|        Donnie Brasco         |   2   | 4.12310562562 |\n",
      "|           Eurotrip           |   3   | 3.46410161514 |\n",
      "|     Cast a Giant Shadow      |   1   |      2.0      |\n",
      "|         Brian's Song         |   3   | 2.93285791593 |\n",
      "+------------------------------+-------+---------------+\n",
      "[2293 rows x 3 columns]\n",
      "Note: Only the head of the SFrame is printed.\n",
      "You can use print_rows(num_rows=m, num_columns=n) to print more rows and columns.\n"
     ]
    }
   ],
   "source": [
    "print rmse_results.viewkeys()\n",
    "print rmse_results['rmse_by_item']"
   ]
  },
  {
   "cell_type": "code",
   "execution_count": 7,
   "metadata": {
    "collapsed": false
   },
   "outputs": [
    {
     "data": {
      "text/html": [
       "<div style=\"max-height:1000px;max-width:1500px;overflow:auto;\"><table frame=\"box\" rules=\"cols\">\n",
       "    <tr>\n",
       "        <th style=\"padding-left: 1em; padding-right: 1em; text-align: center\">user</th>\n",
       "        <th style=\"padding-left: 1em; padding-right: 1em; text-align: center\">count</th>\n",
       "        <th style=\"padding-left: 1em; padding-right: 1em; text-align: center\">rmse</th>\n",
       "    </tr>\n",
       "    <tr>\n",
       "        <td style=\"padding-left: 1em; padding-right: 1em; text-align: center; vertical-align: top\">Dominick Smith</td>\n",
       "        <td style=\"padding-left: 1em; padding-right: 1em; text-align: center; vertical-align: top\">63</td>\n",
       "        <td style=\"padding-left: 1em; padding-right: 1em; text-align: center; vertical-align: top\">3.64281968766</td>\n",
       "    </tr>\n",
       "    <tr>\n",
       "        <td style=\"padding-left: 1em; padding-right: 1em; text-align: center; vertical-align: top\">Jeremy Smith</td>\n",
       "        <td style=\"padding-left: 1em; padding-right: 1em; text-align: center; vertical-align: top\">14</td>\n",
       "        <td style=\"padding-left: 1em; padding-right: 1em; text-align: center; vertical-align: top\">3.79007923299</td>\n",
       "    </tr>\n",
       "    <tr>\n",
       "        <td style=\"padding-left: 1em; padding-right: 1em; text-align: center; vertical-align: top\">Andre Smith</td>\n",
       "        <td style=\"padding-left: 1em; padding-right: 1em; text-align: center; vertical-align: top\">55</td>\n",
       "        <td style=\"padding-left: 1em; padding-right: 1em; text-align: center; vertical-align: top\">3.19524303916</td>\n",
       "    </tr>\n",
       "    <tr>\n",
       "        <td style=\"padding-left: 1em; padding-right: 1em; text-align: center; vertical-align: top\">Beckett Smith</td>\n",
       "        <td style=\"padding-left: 1em; padding-right: 1em; text-align: center; vertical-align: top\">60</td>\n",
       "        <td style=\"padding-left: 1em; padding-right: 1em; text-align: center; vertical-align: top\">3.5033588031</td>\n",
       "    </tr>\n",
       "    <tr>\n",
       "        <td style=\"padding-left: 1em; padding-right: 1em; text-align: center; vertical-align: top\">Martin Smith</td>\n",
       "        <td style=\"padding-left: 1em; padding-right: 1em; text-align: center; vertical-align: top\">17</td>\n",
       "        <td style=\"padding-left: 1em; padding-right: 1em; text-align: center; vertical-align: top\">3.99576273485</td>\n",
       "    </tr>\n",
       "    <tr>\n",
       "        <td style=\"padding-left: 1em; padding-right: 1em; text-align: center; vertical-align: top\">Silas Smith</td>\n",
       "        <td style=\"padding-left: 1em; padding-right: 1em; text-align: center; vertical-align: top\">25</td>\n",
       "        <td style=\"padding-left: 1em; padding-right: 1em; text-align: center; vertical-align: top\">3.62394758786</td>\n",
       "    </tr>\n",
       "    <tr>\n",
       "        <td style=\"padding-left: 1em; padding-right: 1em; text-align: center; vertical-align: top\">Jared Smith</td>\n",
       "        <td style=\"padding-left: 1em; padding-right: 1em; text-align: center; vertical-align: top\">40</td>\n",
       "        <td style=\"padding-left: 1em; padding-right: 1em; text-align: center; vertical-align: top\">3.58626854502</td>\n",
       "    </tr>\n",
       "    <tr>\n",
       "        <td style=\"padding-left: 1em; padding-right: 1em; text-align: center; vertical-align: top\">Easton Smith</td>\n",
       "        <td style=\"padding-left: 1em; padding-right: 1em; text-align: center; vertical-align: top\">3</td>\n",
       "        <td style=\"padding-left: 1em; padding-right: 1em; text-align: center; vertical-align: top\">4.0</td>\n",
       "    </tr>\n",
       "    <tr>\n",
       "        <td style=\"padding-left: 1em; padding-right: 1em; text-align: center; vertical-align: top\">Joshua Smith</td>\n",
       "        <td style=\"padding-left: 1em; padding-right: 1em; text-align: center; vertical-align: top\">11</td>\n",
       "        <td style=\"padding-left: 1em; padding-right: 1em; text-align: center; vertical-align: top\">3.65339726056</td>\n",
       "    </tr>\n",
       "    <tr>\n",
       "        <td style=\"padding-left: 1em; padding-right: 1em; text-align: center; vertical-align: top\">Max Smith</td>\n",
       "        <td style=\"padding-left: 1em; padding-right: 1em; text-align: center; vertical-align: top\">16</td>\n",
       "        <td style=\"padding-left: 1em; padding-right: 1em; text-align: center; vertical-align: top\">3.91823737974</td>\n",
       "    </tr>\n",
       "</table>\n",
       "[100 rows x 3 columns]<br/>Note: Only the head of the SFrame is printed.<br/>You can use print_rows(num_rows=m, num_columns=n) to print more rows and columns.\n",
       "</div>"
      ],
      "text/plain": [
       "Columns:\n",
       "\tuser\tstr\n",
       "\tcount\tint\n",
       "\trmse\tfloat\n",
       "\n",
       "Rows: 100\n",
       "\n",
       "Data:\n",
       "+----------------+-------+---------------+\n",
       "|      user      | count |      rmse     |\n",
       "+----------------+-------+---------------+\n",
       "| Dominick Smith |   63  | 3.64281968766 |\n",
       "|  Jeremy Smith  |   14  | 3.79007923299 |\n",
       "|  Andre Smith   |   55  | 3.19524303916 |\n",
       "| Beckett Smith  |   60  |  3.5033588031 |\n",
       "|  Martin Smith  |   17  | 3.99576273485 |\n",
       "|  Silas Smith   |   25  | 3.62394758786 |\n",
       "|  Jared Smith   |   40  | 3.58626854502 |\n",
       "|  Easton Smith  |   3   |      4.0      |\n",
       "|  Joshua Smith  |   11  | 3.65339726056 |\n",
       "|   Max Smith    |   16  | 3.91823737974 |\n",
       "+----------------+-------+---------------+\n",
       "[100 rows x 3 columns]\n",
       "Note: Only the head of the SFrame is printed.\n",
       "You can use print_rows(num_rows=m, num_columns=n) to print more rows and columns."
      ]
     },
     "execution_count": 7,
     "metadata": {},
     "output_type": "execute_result"
    }
   ],
   "source": [
    "rmse_results['rmse_by_user']"
   ]
  },
  {
   "cell_type": "markdown",
   "metadata": {},
   "source": [
    "___\n",
    "Another evaluation criterion is the per-user-recall or the per-user-precision. These are typically smaller values because they require users with a large number of ratings. The idea behind them is that, given a number of highly rated items for a user, how many of them did my model also recommend. This is inherently difficult to calculate because the user has not rated every item in the dataset---we may have found 10 items that the user would have chosen and rated highly, but if the user never rated them, we can't be sure how good we are recommending them. \n",
    "\n",
    "Even still, its a good measure of how well you are rating the items that are most important to the user (assuming the user rated items they had strong opinions about). Its not perfect, but its the best we have to work with.\n",
    "\n",
    "We define the per user measures as follows: Let $p_k$ be a vector of the $k$ highest ranked recommendations for a particular user and let $a$ be the set of all positively ranked items for that user in the test set. \n",
    "\n",
    "The per-user-recall for k-items is given by:\n",
    "\n",
    "$$R(k)=\\frac{|a \\cap p_k|}{|a|} $$\n",
    "\n",
    "Which means, intuitively, \"of all the items rated positively by the user, how many did your recommender find?\"\n",
    "\n",
    "The per-user-precision for k-items is given by:\n",
    "\n",
    "$$P(k)=\\frac{|a \\cap p_k|}{k} $$\n",
    "\n",
    "Which means, intuitively, \"of the k items found by your recommender, how many were rated positively by the user?\"\n",
    "\n",
    "These, like per user RMSE, are arrays the same size as the uniqu number of users in the dataset. Therefore statistical comparisons can be completed to find superior performing models. "
   ]
  },
  {
   "cell_type": "code",
   "execution_count": 8,
   "metadata": {
    "collapsed": false
   },
   "outputs": [
    {
     "data": {
      "text/html": [
       "<div style=\"max-height:1000px;max-width:1500px;overflow:auto;\"><table frame=\"box\" rules=\"cols\">\n",
       "    <tr>\n",
       "        <th style=\"padding-left: 1em; padding-right: 1em; text-align: center\">user</th>\n",
       "        <th style=\"padding-left: 1em; padding-right: 1em; text-align: center\">cutoff</th>\n",
       "        <th style=\"padding-left: 1em; padding-right: 1em; text-align: center\">precision</th>\n",
       "        <th style=\"padding-left: 1em; padding-right: 1em; text-align: center\">recall</th>\n",
       "        <th style=\"padding-left: 1em; padding-right: 1em; text-align: center\">count</th>\n",
       "    </tr>\n",
       "    <tr>\n",
       "        <td style=\"padding-left: 1em; padding-right: 1em; text-align: center; vertical-align: top\">Abel Smith</td>\n",
       "        <td style=\"padding-left: 1em; padding-right: 1em; text-align: center; vertical-align: top\">1</td>\n",
       "        <td style=\"padding-left: 1em; padding-right: 1em; text-align: center; vertical-align: top\">0.0</td>\n",
       "        <td style=\"padding-left: 1em; padding-right: 1em; text-align: center; vertical-align: top\">0.0</td>\n",
       "        <td style=\"padding-left: 1em; padding-right: 1em; text-align: center; vertical-align: top\">18</td>\n",
       "    </tr>\n",
       "    <tr>\n",
       "        <td style=\"padding-left: 1em; padding-right: 1em; text-align: center; vertical-align: top\">Abel Smith</td>\n",
       "        <td style=\"padding-left: 1em; padding-right: 1em; text-align: center; vertical-align: top\">2</td>\n",
       "        <td style=\"padding-left: 1em; padding-right: 1em; text-align: center; vertical-align: top\">0.0</td>\n",
       "        <td style=\"padding-left: 1em; padding-right: 1em; text-align: center; vertical-align: top\">0.0</td>\n",
       "        <td style=\"padding-left: 1em; padding-right: 1em; text-align: center; vertical-align: top\">18</td>\n",
       "    </tr>\n",
       "    <tr>\n",
       "        <td style=\"padding-left: 1em; padding-right: 1em; text-align: center; vertical-align: top\">Abel Smith</td>\n",
       "        <td style=\"padding-left: 1em; padding-right: 1em; text-align: center; vertical-align: top\">3</td>\n",
       "        <td style=\"padding-left: 1em; padding-right: 1em; text-align: center; vertical-align: top\">0.0</td>\n",
       "        <td style=\"padding-left: 1em; padding-right: 1em; text-align: center; vertical-align: top\">0.0</td>\n",
       "        <td style=\"padding-left: 1em; padding-right: 1em; text-align: center; vertical-align: top\">18</td>\n",
       "    </tr>\n",
       "    <tr>\n",
       "        <td style=\"padding-left: 1em; padding-right: 1em; text-align: center; vertical-align: top\">Abel Smith</td>\n",
       "        <td style=\"padding-left: 1em; padding-right: 1em; text-align: center; vertical-align: top\">4</td>\n",
       "        <td style=\"padding-left: 1em; padding-right: 1em; text-align: center; vertical-align: top\">0.0</td>\n",
       "        <td style=\"padding-left: 1em; padding-right: 1em; text-align: center; vertical-align: top\">0.0</td>\n",
       "        <td style=\"padding-left: 1em; padding-right: 1em; text-align: center; vertical-align: top\">18</td>\n",
       "    </tr>\n",
       "    <tr>\n",
       "        <td style=\"padding-left: 1em; padding-right: 1em; text-align: center; vertical-align: top\">Abel Smith</td>\n",
       "        <td style=\"padding-left: 1em; padding-right: 1em; text-align: center; vertical-align: top\">5</td>\n",
       "        <td style=\"padding-left: 1em; padding-right: 1em; text-align: center; vertical-align: top\">0.2</td>\n",
       "        <td style=\"padding-left: 1em; padding-right: 1em; text-align: center; vertical-align: top\">0.0555555555556</td>\n",
       "        <td style=\"padding-left: 1em; padding-right: 1em; text-align: center; vertical-align: top\">18</td>\n",
       "    </tr>\n",
       "    <tr>\n",
       "        <td style=\"padding-left: 1em; padding-right: 1em; text-align: center; vertical-align: top\">Abel Smith</td>\n",
       "        <td style=\"padding-left: 1em; padding-right: 1em; text-align: center; vertical-align: top\">6</td>\n",
       "        <td style=\"padding-left: 1em; padding-right: 1em; text-align: center; vertical-align: top\">0.166666666667</td>\n",
       "        <td style=\"padding-left: 1em; padding-right: 1em; text-align: center; vertical-align: top\">0.0555555555556</td>\n",
       "        <td style=\"padding-left: 1em; padding-right: 1em; text-align: center; vertical-align: top\">18</td>\n",
       "    </tr>\n",
       "    <tr>\n",
       "        <td style=\"padding-left: 1em; padding-right: 1em; text-align: center; vertical-align: top\">Abel Smith</td>\n",
       "        <td style=\"padding-left: 1em; padding-right: 1em; text-align: center; vertical-align: top\">7</td>\n",
       "        <td style=\"padding-left: 1em; padding-right: 1em; text-align: center; vertical-align: top\">0.285714285714</td>\n",
       "        <td style=\"padding-left: 1em; padding-right: 1em; text-align: center; vertical-align: top\">0.111111111111</td>\n",
       "        <td style=\"padding-left: 1em; padding-right: 1em; text-align: center; vertical-align: top\">18</td>\n",
       "    </tr>\n",
       "    <tr>\n",
       "        <td style=\"padding-left: 1em; padding-right: 1em; text-align: center; vertical-align: top\">Abel Smith</td>\n",
       "        <td style=\"padding-left: 1em; padding-right: 1em; text-align: center; vertical-align: top\">8</td>\n",
       "        <td style=\"padding-left: 1em; padding-right: 1em; text-align: center; vertical-align: top\">0.25</td>\n",
       "        <td style=\"padding-left: 1em; padding-right: 1em; text-align: center; vertical-align: top\">0.111111111111</td>\n",
       "        <td style=\"padding-left: 1em; padding-right: 1em; text-align: center; vertical-align: top\">18</td>\n",
       "    </tr>\n",
       "    <tr>\n",
       "        <td style=\"padding-left: 1em; padding-right: 1em; text-align: center; vertical-align: top\">Abel Smith</td>\n",
       "        <td style=\"padding-left: 1em; padding-right: 1em; text-align: center; vertical-align: top\">9</td>\n",
       "        <td style=\"padding-left: 1em; padding-right: 1em; text-align: center; vertical-align: top\">0.222222222222</td>\n",
       "        <td style=\"padding-left: 1em; padding-right: 1em; text-align: center; vertical-align: top\">0.111111111111</td>\n",
       "        <td style=\"padding-left: 1em; padding-right: 1em; text-align: center; vertical-align: top\">18</td>\n",
       "    </tr>\n",
       "    <tr>\n",
       "        <td style=\"padding-left: 1em; padding-right: 1em; text-align: center; vertical-align: top\">Abel Smith</td>\n",
       "        <td style=\"padding-left: 1em; padding-right: 1em; text-align: center; vertical-align: top\">10</td>\n",
       "        <td style=\"padding-left: 1em; padding-right: 1em; text-align: center; vertical-align: top\">0.2</td>\n",
       "        <td style=\"padding-left: 1em; padding-right: 1em; text-align: center; vertical-align: top\">0.111111111111</td>\n",
       "        <td style=\"padding-left: 1em; padding-right: 1em; text-align: center; vertical-align: top\">18</td>\n",
       "    </tr>\n",
       "</table>\n",
       "[1800 rows x 5 columns]<br/>Note: Only the head of the SFrame is printed.<br/>You can use print_rows(num_rows=m, num_columns=n) to print more rows and columns.\n",
       "</div>"
      ],
      "text/plain": [
       "Columns:\n",
       "\tuser\tstr\n",
       "\tcutoff\tint\n",
       "\tprecision\tfloat\n",
       "\trecall\tfloat\n",
       "\tcount\tint\n",
       "\n",
       "Rows: 1800\n",
       "\n",
       "Data:\n",
       "+------------+--------+----------------+-----------------+-------+\n",
       "|    user    | cutoff |   precision    |      recall     | count |\n",
       "+------------+--------+----------------+-----------------+-------+\n",
       "| Abel Smith |   1    |      0.0       |       0.0       |   18  |\n",
       "| Abel Smith |   2    |      0.0       |       0.0       |   18  |\n",
       "| Abel Smith |   3    |      0.0       |       0.0       |   18  |\n",
       "| Abel Smith |   4    |      0.0       |       0.0       |   18  |\n",
       "| Abel Smith |   5    |      0.2       | 0.0555555555556 |   18  |\n",
       "| Abel Smith |   6    | 0.166666666667 | 0.0555555555556 |   18  |\n",
       "| Abel Smith |   7    | 0.285714285714 |  0.111111111111 |   18  |\n",
       "| Abel Smith |   8    |      0.25      |  0.111111111111 |   18  |\n",
       "| Abel Smith |   9    | 0.222222222222 |  0.111111111111 |   18  |\n",
       "| Abel Smith |   10   |      0.2       |  0.111111111111 |   18  |\n",
       "+------------+--------+----------------+-----------------+-------+\n",
       "[1800 rows x 5 columns]\n",
       "Note: Only the head of the SFrame is printed.\n",
       "You can use print_rows(num_rows=m, num_columns=n) to print more rows and columns."
      ]
     },
     "execution_count": 8,
     "metadata": {},
     "output_type": "execute_result"
    }
   ],
   "source": [
    "rmse_results['precision_recall_by_user']"
   ]
  },
  {
   "cell_type": "code",
   "execution_count": 9,
   "metadata": {
    "collapsed": false
   },
   "outputs": [
    {
     "data": {
      "text/html": [
       "<div style=\"max-height:1000px;max-width:1500px;overflow:auto;\"><table frame=\"box\" rules=\"cols\">\n",
       "    <tr>\n",
       "        <th style=\"padding-left: 1em; padding-right: 1em; text-align: center\">cutoff</th>\n",
       "        <th style=\"padding-left: 1em; padding-right: 1em; text-align: center\">Avg of precision</th>\n",
       "        <th style=\"padding-left: 1em; padding-right: 1em; text-align: center\">Stdv of precision</th>\n",
       "        <th style=\"padding-left: 1em; padding-right: 1em; text-align: center\">Avg of recall</th>\n",
       "        <th style=\"padding-left: 1em; padding-right: 1em; text-align: center\">Stdv of recall</th>\n",
       "    </tr>\n",
       "    <tr>\n",
       "        <td style=\"padding-left: 1em; padding-right: 1em; text-align: center; vertical-align: top\">36</td>\n",
       "        <td style=\"padding-left: 1em; padding-right: 1em; text-align: center; vertical-align: top\">0.138888888889</td>\n",
       "        <td style=\"padding-left: 1em; padding-right: 1em; text-align: center; vertical-align: top\">0.0881041751509</td>\n",
       "        <td style=\"padding-left: 1em; padding-right: 1em; text-align: center; vertical-align: top\">0.144857844577</td>\n",
       "        <td style=\"padding-left: 1em; padding-right: 1em; text-align: center; vertical-align: top\">0.133618138546</td>\n",
       "    </tr>\n",
       "    <tr>\n",
       "        <td style=\"padding-left: 1em; padding-right: 1em; text-align: center; vertical-align: top\">2</td>\n",
       "        <td style=\"padding-left: 1em; padding-right: 1em; text-align: center; vertical-align: top\">0.17</td>\n",
       "        <td style=\"padding-left: 1em; padding-right: 1em; text-align: center; vertical-align: top\">0.284780617318</td>\n",
       "        <td style=\"padding-left: 1em; padding-right: 1em; text-align: center; vertical-align: top\">0.0114813179455</td>\n",
       "        <td style=\"padding-left: 1em; padding-right: 1em; text-align: center; vertical-align: top\">0.0365112180182</td>\n",
       "    </tr>\n",
       "    <tr>\n",
       "        <td style=\"padding-left: 1em; padding-right: 1em; text-align: center; vertical-align: top\">46</td>\n",
       "        <td style=\"padding-left: 1em; padding-right: 1em; text-align: center; vertical-align: top\">0.12847826087</td>\n",
       "        <td style=\"padding-left: 1em; padding-right: 1em; text-align: center; vertical-align: top\">0.0853157706309</td>\n",
       "        <td style=\"padding-left: 1em; padding-right: 1em; text-align: center; vertical-align: top\">0.167042809694</td>\n",
       "        <td style=\"padding-left: 1em; padding-right: 1em; text-align: center; vertical-align: top\">0.137559587788</td>\n",
       "    </tr>\n",
       "    <tr>\n",
       "        <td style=\"padding-left: 1em; padding-right: 1em; text-align: center; vertical-align: top\">31</td>\n",
       "        <td style=\"padding-left: 1em; padding-right: 1em; text-align: center; vertical-align: top\">0.148387096774</td>\n",
       "        <td style=\"padding-left: 1em; padding-right: 1em; text-align: center; vertical-align: top\">0.0922603202973</td>\n",
       "        <td style=\"padding-left: 1em; padding-right: 1em; text-align: center; vertical-align: top\">0.133727168643</td>\n",
       "        <td style=\"padding-left: 1em; padding-right: 1em; text-align: center; vertical-align: top\">0.124622650674</td>\n",
       "    </tr>\n",
       "    <tr>\n",
       "        <td style=\"padding-left: 1em; padding-right: 1em; text-align: center; vertical-align: top\">26</td>\n",
       "        <td style=\"padding-left: 1em; padding-right: 1em; text-align: center; vertical-align: top\">0.153076923077</td>\n",
       "        <td style=\"padding-left: 1em; padding-right: 1em; text-align: center; vertical-align: top\">0.0960738128461</td>\n",
       "        <td style=\"padding-left: 1em; padding-right: 1em; text-align: center; vertical-align: top\">0.11446827711</td>\n",
       "        <td style=\"padding-left: 1em; padding-right: 1em; text-align: center; vertical-align: top\">0.0968703334485</td>\n",
       "    </tr>\n",
       "    <tr>\n",
       "        <td style=\"padding-left: 1em; padding-right: 1em; text-align: center; vertical-align: top\">8</td>\n",
       "        <td style=\"padding-left: 1em; padding-right: 1em; text-align: center; vertical-align: top\">0.1975</td>\n",
       "        <td style=\"padding-left: 1em; padding-right: 1em; text-align: center; vertical-align: top\">0.156304990323</td>\n",
       "        <td style=\"padding-left: 1em; padding-right: 1em; text-align: center; vertical-align: top\">0.0512779743288</td>\n",
       "        <td style=\"padding-left: 1em; padding-right: 1em; text-align: center; vertical-align: top\">0.0860494554747</td>\n",
       "    </tr>\n",
       "    <tr>\n",
       "        <td style=\"padding-left: 1em; padding-right: 1em; text-align: center; vertical-align: top\">5</td>\n",
       "        <td style=\"padding-left: 1em; padding-right: 1em; text-align: center; vertical-align: top\">0.194</td>\n",
       "        <td style=\"padding-left: 1em; padding-right: 1em; text-align: center; vertical-align: top\">0.192779666978</td>\n",
       "        <td style=\"padding-left: 1em; padding-right: 1em; text-align: center; vertical-align: top\">0.0327684686723</td>\n",
       "        <td style=\"padding-left: 1em; padding-right: 1em; text-align: center; vertical-align: top\">0.0710232780272</td>\n",
       "    </tr>\n",
       "    <tr>\n",
       "        <td style=\"padding-left: 1em; padding-right: 1em; text-align: center; vertical-align: top\">16</td>\n",
       "        <td style=\"padding-left: 1em; padding-right: 1em; text-align: center; vertical-align: top\">0.1775</td>\n",
       "        <td style=\"padding-left: 1em; padding-right: 1em; text-align: center; vertical-align: top\">0.12365526677</td>\n",
       "        <td style=\"padding-left: 1em; padding-right: 1em; text-align: center; vertical-align: top\">0.0840212470585</td>\n",
       "        <td style=\"padding-left: 1em; padding-right: 1em; text-align: center; vertical-align: top\">0.093881973756</td>\n",
       "    </tr>\n",
       "    <tr>\n",
       "        <td style=\"padding-left: 1em; padding-right: 1em; text-align: center; vertical-align: top\">41</td>\n",
       "        <td style=\"padding-left: 1em; padding-right: 1em; text-align: center; vertical-align: top\">0.13487804878</td>\n",
       "        <td style=\"padding-left: 1em; padding-right: 1em; text-align: center; vertical-align: top\">0.086470552528</td>\n",
       "        <td style=\"padding-left: 1em; padding-right: 1em; text-align: center; vertical-align: top\">0.159192878914</td>\n",
       "        <td style=\"padding-left: 1em; padding-right: 1em; text-align: center; vertical-align: top\">0.136140556075</td>\n",
       "    </tr>\n",
       "    <tr>\n",
       "        <td style=\"padding-left: 1em; padding-right: 1em; text-align: center; vertical-align: top\">4</td>\n",
       "        <td style=\"padding-left: 1em; padding-right: 1em; text-align: center; vertical-align: top\">0.1975</td>\n",
       "        <td style=\"padding-left: 1em; padding-right: 1em; text-align: center; vertical-align: top\">0.229932055182</td>\n",
       "        <td style=\"padding-left: 1em; padding-right: 1em; text-align: center; vertical-align: top\">0.0275973558931</td>\n",
       "        <td style=\"padding-left: 1em; padding-right: 1em; text-align: center; vertical-align: top\">0.0708021891243</td>\n",
       "    </tr>\n",
       "</table>\n",
       "[18 rows x 5 columns]<br/>Note: Only the head of the SFrame is printed.<br/>You can use print_rows(num_rows=m, num_columns=n) to print more rows and columns.\n",
       "</div>"
      ],
      "text/plain": [
       "Columns:\n",
       "\tcutoff\tint\n",
       "\tAvg of precision\tfloat\n",
       "\tStdv of precision\tfloat\n",
       "\tAvg of recall\tfloat\n",
       "\tStdv of recall\tfloat\n",
       "\n",
       "Rows: 18\n",
       "\n",
       "Data:\n",
       "+--------+------------------+-------------------+-----------------+\n",
       "| cutoff | Avg of precision | Stdv of precision |  Avg of recall  |\n",
       "+--------+------------------+-------------------+-----------------+\n",
       "|   36   |  0.138888888889  |  0.0881041751509  |  0.144857844577 |\n",
       "|   2    |       0.17       |   0.284780617318  | 0.0114813179455 |\n",
       "|   46   |  0.12847826087   |  0.0853157706309  |  0.167042809694 |\n",
       "|   31   |  0.148387096774  |  0.0922603202973  |  0.133727168643 |\n",
       "|   26   |  0.153076923077  |  0.0960738128461  |  0.11446827711  |\n",
       "|   8    |      0.1975      |   0.156304990323  | 0.0512779743288 |\n",
       "|   5    |      0.194       |   0.192779666978  | 0.0327684686723 |\n",
       "|   16   |      0.1775      |   0.12365526677   | 0.0840212470585 |\n",
       "|   41   |  0.13487804878   |   0.086470552528  |  0.159192878914 |\n",
       "|   4    |      0.1975      |   0.229932055182  | 0.0275973558931 |\n",
       "+--------+------------------+-------------------+-----------------+\n",
       "+-----------------+\n",
       "|  Stdv of recall |\n",
       "+-----------------+\n",
       "|  0.133618138546 |\n",
       "| 0.0365112180182 |\n",
       "|  0.137559587788 |\n",
       "|  0.124622650674 |\n",
       "| 0.0968703334485 |\n",
       "| 0.0860494554747 |\n",
       "| 0.0710232780272 |\n",
       "|  0.093881973756 |\n",
       "|  0.136140556075 |\n",
       "| 0.0708021891243 |\n",
       "+-----------------+\n",
       "[18 rows x 5 columns]\n",
       "Note: Only the head of the SFrame is printed.\n",
       "You can use print_rows(num_rows=m, num_columns=n) to print more rows and columns."
      ]
     },
     "execution_count": 9,
     "metadata": {},
     "output_type": "execute_result"
    }
   ],
   "source": [
    "import graphlab.aggregate as agg\n",
    "\n",
    "# we will be using these aggregations\n",
    "agg_list = [agg.AVG('precision'),agg.STD('precision'),agg.AVG('recall'),agg.STD('recall')]\n",
    "\n",
    "# apply these functions to each group (we will group the results by 'k' which is the cutoff)\n",
    "# the cutoff is the number of top items to look for see the following URL for the actual equation\n",
    "# https://dato.com/products/create/docs/generated/graphlab.recommender.util.precision_recall_by_user.html#graphlab.recommender.util.precision_recall_by_user\n",
    "rmse_results['precision_recall_by_user'].groupby('cutoff',agg_list)\n",
    "\n",
    "# the groups are not sorted"
   ]
  },
  {
   "cell_type": "markdown",
   "metadata": {},
   "source": [
    "Wow... these results appear to be not so great. Let's try something a little different and look to see if the results get better. Let's start with collaborative filtering to create the user-item matrix. \n",
    "\n",
    "___\n",
    "## Cross Validated Collaborative Filtering"
   ]
  },
  {
   "cell_type": "code",
   "execution_count": 10,
   "metadata": {
    "collapsed": false,
    "scrolled": false
   },
   "outputs": [
    {
     "data": {
      "text/html": [
       "<pre>Recsys training: model = ranking_factorization_recommender</pre>"
      ],
      "text/plain": [
       "Recsys training: model = ranking_factorization_recommender"
      ]
     },
     "metadata": {},
     "output_type": "execute_result"
    },
    {
     "data": {
      "text/html": [
       "<pre>Preparing data set.</pre>"
      ],
      "text/plain": [
       "Preparing data set."
      ]
     },
     "metadata": {},
     "output_type": "execute_result"
    },
    {
     "data": {
      "text/html": [
       "<pre>    Data has 77252 observations with 334 users and 7474 items.</pre>"
      ],
      "text/plain": [
       "    Data has 77252 observations with 334 users and 7474 items."
      ]
     },
     "metadata": {},
     "output_type": "execute_result"
    },
    {
     "data": {
      "text/html": [
       "<pre>    Data prepared in: 0.179871s</pre>"
      ],
      "text/plain": [
       "    Data prepared in: 0.179871s"
      ]
     },
     "metadata": {},
     "output_type": "execute_result"
    },
    {
     "data": {
      "text/html": [
       "<pre>Training ranking_factorization_recommender for recommendations.</pre>"
      ],
      "text/plain": [
       "Training ranking_factorization_recommender for recommendations."
      ]
     },
     "metadata": {},
     "output_type": "execute_result"
    },
    {
     "data": {
      "text/html": [
       "<pre>+--------------------------------+--------------------------------------------------+----------+</pre>"
      ],
      "text/plain": [
       "+--------------------------------+--------------------------------------------------+----------+"
      ]
     },
     "metadata": {},
     "output_type": "execute_result"
    },
    {
     "data": {
      "text/html": [
       "<pre>| Parameter                      | Description                                      | Value    |</pre>"
      ],
      "text/plain": [
       "| Parameter                      | Description                                      | Value    |"
      ]
     },
     "metadata": {},
     "output_type": "execute_result"
    },
    {
     "data": {
      "text/html": [
       "<pre>+--------------------------------+--------------------------------------------------+----------+</pre>"
      ],
      "text/plain": [
       "+--------------------------------+--------------------------------------------------+----------+"
      ]
     },
     "metadata": {},
     "output_type": "execute_result"
    },
    {
     "data": {
      "text/html": [
       "<pre>| num_factors                    | Factor Dimension                                 | 32       |</pre>"
      ],
      "text/plain": [
       "| num_factors                    | Factor Dimension                                 | 32       |"
      ]
     },
     "metadata": {},
     "output_type": "execute_result"
    },
    {
     "data": {
      "text/html": [
       "<pre>| regularization                 | L2 Regularization on Factors                     | 1e-09    |</pre>"
      ],
      "text/plain": [
       "| regularization                 | L2 Regularization on Factors                     | 1e-09    |"
      ]
     },
     "metadata": {},
     "output_type": "execute_result"
    },
    {
     "data": {
      "text/html": [
       "<pre>| solver                         | Solver used for training                         | sgd      |</pre>"
      ],
      "text/plain": [
       "| solver                         | Solver used for training                         | sgd      |"
      ]
     },
     "metadata": {},
     "output_type": "execute_result"
    },
    {
     "data": {
      "text/html": [
       "<pre>| linear_regularization          | L2 Regularization on Linear Coefficients         | 1e-09    |</pre>"
      ],
      "text/plain": [
       "| linear_regularization          | L2 Regularization on Linear Coefficients         | 1e-09    |"
      ]
     },
     "metadata": {},
     "output_type": "execute_result"
    },
    {
     "data": {
      "text/html": [
       "<pre>| ranking_regularization         | Rank-based Regularization Weight                 | 0.25     |</pre>"
      ],
      "text/plain": [
       "| ranking_regularization         | Rank-based Regularization Weight                 | 0.25     |"
      ]
     },
     "metadata": {},
     "output_type": "execute_result"
    },
    {
     "data": {
      "text/html": [
       "<pre>| max_iterations                 | Maximum Number of Iterations                     | 25       |</pre>"
      ],
      "text/plain": [
       "| max_iterations                 | Maximum Number of Iterations                     | 25       |"
      ]
     },
     "metadata": {},
     "output_type": "execute_result"
    },
    {
     "data": {
      "text/html": [
       "<pre>+--------------------------------+--------------------------------------------------+----------+</pre>"
      ],
      "text/plain": [
       "+--------------------------------+--------------------------------------------------+----------+"
      ]
     },
     "metadata": {},
     "output_type": "execute_result"
    },
    {
     "data": {
      "text/html": [
       "<pre>  Optimizing model using SGD; tuning step size.</pre>"
      ],
      "text/plain": [
       "  Optimizing model using SGD; tuning step size."
      ]
     },
     "metadata": {},
     "output_type": "execute_result"
    },
    {
     "data": {
      "text/html": [
       "<pre>  Using 10000 / 77252 points for tuning the step size.</pre>"
      ],
      "text/plain": [
       "  Using 10000 / 77252 points for tuning the step size."
      ]
     },
     "metadata": {},
     "output_type": "execute_result"
    },
    {
     "data": {
      "text/html": [
       "<pre>+---------+-------------------+------------------------------------------+</pre>"
      ],
      "text/plain": [
       "+---------+-------------------+------------------------------------------+"
      ]
     },
     "metadata": {},
     "output_type": "execute_result"
    },
    {
     "data": {
      "text/html": [
       "<pre>| Attempt | Initial Step Size | Estimated Objective Value                |</pre>"
      ],
      "text/plain": [
       "| Attempt | Initial Step Size | Estimated Objective Value                |"
      ]
     },
     "metadata": {},
     "output_type": "execute_result"
    },
    {
     "data": {
      "text/html": [
       "<pre>+---------+-------------------+------------------------------------------+</pre>"
      ],
      "text/plain": [
       "+---------+-------------------+------------------------------------------+"
      ]
     },
     "metadata": {},
     "output_type": "execute_result"
    },
    {
     "data": {
      "text/html": [
       "<pre>| 0       | 25                | Not Viable                               |</pre>"
      ],
      "text/plain": [
       "| 0       | 25                | Not Viable                               |"
      ]
     },
     "metadata": {},
     "output_type": "execute_result"
    },
    {
     "data": {
      "text/html": [
       "<pre>| 1       | 6.25              | Not Viable                               |</pre>"
      ],
      "text/plain": [
       "| 1       | 6.25              | Not Viable                               |"
      ]
     },
     "metadata": {},
     "output_type": "execute_result"
    },
    {
     "data": {
      "text/html": [
       "<pre>| 2       | 1.5625            | Not Viable                               |</pre>"
      ],
      "text/plain": [
       "| 2       | 1.5625            | Not Viable                               |"
      ]
     },
     "metadata": {},
     "output_type": "execute_result"
    },
    {
     "data": {
      "text/html": [
       "<pre>| 3       | 0.390625          | Not Viable                               |</pre>"
      ],
      "text/plain": [
       "| 3       | 0.390625          | Not Viable                               |"
      ]
     },
     "metadata": {},
     "output_type": "execute_result"
    },
    {
     "data": {
      "text/html": [
       "<pre>| 4       | 0.0976562         | 1.58907                                  |</pre>"
      ],
      "text/plain": [
       "| 4       | 0.0976562         | 1.58907                                  |"
      ]
     },
     "metadata": {},
     "output_type": "execute_result"
    },
    {
     "data": {
      "text/html": [
       "<pre>| 5       | 0.0488281         | 1.63557                                  |</pre>"
      ],
      "text/plain": [
       "| 5       | 0.0488281         | 1.63557                                  |"
      ]
     },
     "metadata": {},
     "output_type": "execute_result"
    },
    {
     "data": {
      "text/html": [
       "<pre>| 6       | 0.0244141         | 1.70698                                  |</pre>"
      ],
      "text/plain": [
       "| 6       | 0.0244141         | 1.70698                                  |"
      ]
     },
     "metadata": {},
     "output_type": "execute_result"
    },
    {
     "data": {
      "text/html": [
       "<pre>| 7       | 0.012207          | 1.79126                                  |</pre>"
      ],
      "text/plain": [
       "| 7       | 0.012207          | 1.79126                                  |"
      ]
     },
     "metadata": {},
     "output_type": "execute_result"
    },
    {
     "data": {
      "text/html": [
       "<pre>+---------+-------------------+------------------------------------------+</pre>"
      ],
      "text/plain": [
       "+---------+-------------------+------------------------------------------+"
      ]
     },
     "metadata": {},
     "output_type": "execute_result"
    },
    {
     "data": {
      "text/html": [
       "<pre>| Final   | 0.0976562         | 1.58907                                  |</pre>"
      ],
      "text/plain": [
       "| Final   | 0.0976562         | 1.58907                                  |"
      ]
     },
     "metadata": {},
     "output_type": "execute_result"
    },
    {
     "data": {
      "text/html": [
       "<pre>+---------+-------------------+------------------------------------------+</pre>"
      ],
      "text/plain": [
       "+---------+-------------------+------------------------------------------+"
      ]
     },
     "metadata": {},
     "output_type": "execute_result"
    },
    {
     "data": {
      "text/html": [
       "<pre>Starting Optimization.</pre>"
      ],
      "text/plain": [
       "Starting Optimization."
      ]
     },
     "metadata": {},
     "output_type": "execute_result"
    },
    {
     "data": {
      "text/html": [
       "<pre>+---------+--------------+-------------------+-----------------------+-------------+</pre>"
      ],
      "text/plain": [
       "+---------+--------------+-------------------+-----------------------+-------------+"
      ]
     },
     "metadata": {},
     "output_type": "execute_result"
    },
    {
     "data": {
      "text/html": [
       "<pre>| Iter.   | Elapsed Time | Approx. Objective | Approx. Training RMSE | Step Size   |</pre>"
      ],
      "text/plain": [
       "| Iter.   | Elapsed Time | Approx. Objective | Approx. Training RMSE | Step Size   |"
      ]
     },
     "metadata": {},
     "output_type": "execute_result"
    },
    {
     "data": {
      "text/html": [
       "<pre>+---------+--------------+-------------------+-----------------------+-------------+</pre>"
      ],
      "text/plain": [
       "+---------+--------------+-------------------+-----------------------+-------------+"
      ]
     },
     "metadata": {},
     "output_type": "execute_result"
    },
    {
     "data": {
      "text/html": [
       "<pre>| Initial | 175us        | 2.36557           | 1.09842               |             |</pre>"
      ],
      "text/plain": [
       "| Initial | 175us        | 2.36557           | 1.09842               |             |"
      ]
     },
     "metadata": {},
     "output_type": "execute_result"
    },
    {
     "data": {
      "text/html": [
       "<pre>+---------+--------------+-------------------+-----------------------+-------------+</pre>"
      ],
      "text/plain": [
       "+---------+--------------+-------------------+-----------------------+-------------+"
      ]
     },
     "metadata": {},
     "output_type": "execute_result"
    },
    {
     "data": {
      "text/html": [
       "<pre>| 1       | 181.999ms    | 2.00814           | 1.13285               | 0.0976562   |</pre>"
      ],
      "text/plain": [
       "| 1       | 181.999ms    | 2.00814           | 1.13285               | 0.0976562   |"
      ]
     },
     "metadata": {},
     "output_type": "execute_result"
    },
    {
     "data": {
      "text/html": [
       "<pre>| 2       | 312.055ms    | 1.76339           | 1.05821               | 0.0580668   |</pre>"
      ],
      "text/plain": [
       "| 2       | 312.055ms    | 1.76339           | 1.05821               | 0.0580668   |"
      ]
     },
     "metadata": {},
     "output_type": "execute_result"
    },
    {
     "data": {
      "text/html": [
       "<pre>| 3       | 436.491ms    | 1.57536           | 0.988402              | 0.042841    |</pre>"
      ],
      "text/plain": [
       "| 3       | 436.491ms    | 1.57536           | 0.988402              | 0.042841    |"
      ]
     },
     "metadata": {},
     "output_type": "execute_result"
    },
    {
     "data": {
      "text/html": [
       "<pre>| 4       | 537.311ms    | 1.38512           | 0.91023               | 0.0345267   |</pre>"
      ],
      "text/plain": [
       "| 4       | 537.311ms    | 1.38512           | 0.91023               | 0.0345267   |"
      ]
     },
     "metadata": {},
     "output_type": "execute_result"
    },
    {
     "data": {
      "text/html": [
       "<pre>| 5       | 669.642ms    | 1.22              | 0.840024              | 0.029206    |</pre>"
      ],
      "text/plain": [
       "| 5       | 669.642ms    | 1.22              | 0.840024              | 0.029206    |"
      ]
     },
     "metadata": {},
     "output_type": "execute_result"
    },
    {
     "data": {
      "text/html": [
       "<pre>| 6       | 779.581ms    | 1.07474           | 0.774675              | 0.0254734   |</pre>"
      ],
      "text/plain": [
       "| 6       | 779.581ms    | 1.07474           | 0.774675              | 0.0254734   |"
      ]
     },
     "metadata": {},
     "output_type": "execute_result"
    },
    {
     "data": {
      "text/html": [
       "<pre>| 10      | 1.11s        | 0.727526          | 0.602806              | 0.017366    |</pre>"
      ],
      "text/plain": [
       "| 10      | 1.11s        | 0.727526          | 0.602806              | 0.017366    |"
      ]
     },
     "metadata": {},
     "output_type": "execute_result"
    },
    {
     "data": {
      "text/html": [
       "<pre>| 11      | 1.22s        | 0.6798            | 0.578161              | 0.016168    |</pre>"
      ],
      "text/plain": [
       "| 11      | 1.22s        | 0.6798            | 0.578161              | 0.016168    |"
      ]
     },
     "metadata": {},
     "output_type": "execute_result"
    },
    {
     "data": {
      "text/html": [
       "<pre>| 20      | 1.89s        | 0.511324          | 0.48582               | 0.0103259   |</pre>"
      ],
      "text/plain": [
       "| 20      | 1.89s        | 0.511324          | 0.48582               | 0.0103259   |"
      ]
     },
     "metadata": {},
     "output_type": "execute_result"
    },
    {
     "data": {
      "text/html": [
       "<pre>+---------+--------------+-------------------+-----------------------+-------------+</pre>"
      ],
      "text/plain": [
       "+---------+--------------+-------------------+-----------------------+-------------+"
      ]
     },
     "metadata": {},
     "output_type": "execute_result"
    },
    {
     "data": {
      "text/html": [
       "<pre>Optimization Complete: Maximum number of passes through the data reached.</pre>"
      ],
      "text/plain": [
       "Optimization Complete: Maximum number of passes through the data reached."
      ]
     },
     "metadata": {},
     "output_type": "execute_result"
    },
    {
     "data": {
      "text/html": [
       "<pre>Computing final objective value and training RMSE.</pre>"
      ],
      "text/plain": [
       "Computing final objective value and training RMSE."
      ]
     },
     "metadata": {},
     "output_type": "execute_result"
    },
    {
     "data": {
      "text/html": [
       "<pre>       Final objective value: 0.442463</pre>"
      ],
      "text/plain": [
       "       Final objective value: 0.442463"
      ]
     },
     "metadata": {},
     "output_type": "execute_result"
    },
    {
     "data": {
      "text/html": [
       "<pre>       Final training RMSE: 0.406146</pre>"
      ],
      "text/plain": [
       "       Final training RMSE: 0.406146"
      ]
     },
     "metadata": {},
     "output_type": "execute_result"
    },
    {
     "name": "stdout",
     "output_type": "stream",
     "text": [
      "\n",
      "Precision and recall summary statistics by cutoff\n",
      "+--------+----------------+------------------+\n",
      "| cutoff | mean_precision |   mean_recall    |\n",
      "+--------+----------------+------------------+\n",
      "|   1    |      0.12      | 0.00313351460276 |\n",
      "|   2    |     0.115      | 0.00614740877219 |\n",
      "|   3    | 0.116666666667 | 0.00805033682915 |\n",
      "|   4    |     0.1175     | 0.0108879659345  |\n",
      "|   5    |     0.116      | 0.0134032387767  |\n",
      "|   6    | 0.113333333333 | 0.0148098125264  |\n",
      "|   7    | 0.107142857143 | 0.0163383198215  |\n",
      "|   8    |     0.115      | 0.0196304263069  |\n",
      "|   9    | 0.115555555556 | 0.0225160882759  |\n",
      "|   10   |     0.115      |  0.024344252415  |\n",
      "+--------+----------------+------------------+\n",
      "[10 rows x 3 columns]\n",
      "\n",
      "('\\nOverall RMSE: ', 1.7433494498977482)\n",
      "\n",
      "Per User RMSE (best)\n",
      "+-------------+-------+----------------+\n",
      "|     user    | count |      rmse      |\n",
      "+-------------+-------+----------------+\n",
      "| Amari Smith |   2   | 0.446885842126 |\n",
      "+-------------+-------+----------------+\n",
      "[1 rows x 3 columns]\n",
      "\n",
      "\n",
      "Per User RMSE (worst)\n",
      "+------------+-------+---------------+\n",
      "|    user    | count |      rmse     |\n",
      "+------------+-------+---------------+\n",
      "| Ivan Smith |  212  | 3.44248095718 |\n",
      "+------------+-------+---------------+\n",
      "[1 rows x 3 columns]\n",
      "\n",
      "\n",
      "Per Item RMSE (best)\n",
      "+------------------+-------+-------------------+\n",
      "|      movie       | count |        rmse       |\n",
      "+------------------+-------+-------------------+\n",
      "| The Avengers '66 |   1   | 2.78017089834e-05 |\n",
      "+------------------+-------+-------------------+\n",
      "[1 rows x 3 columns]\n",
      "\n",
      "\n",
      "Per Item RMSE (worst)\n",
      "+-----------------------+-------+---------------+\n",
      "|         movie         | count |      rmse     |\n",
      "+-----------------------+-------+---------------+\n",
      "| Gentleman's Agreement |   1   | 8.59486185374 |\n",
      "+-----------------------+-------+---------------+\n",
      "[1 rows x 3 columns]\n",
      "\n"
     ]
    }
   ],
   "source": [
    "rec1 = gl.recommender.ranking_factorization_recommender.create(train, \n",
    "                                  user_id=\"user\", \n",
    "                                  item_id=\"movie\", \n",
    "                                  target=\"rating\")\n",
    "\n",
    "rmse_results = rec1.evaluate(test)"
   ]
  },
  {
   "cell_type": "code",
   "execution_count": 11,
   "metadata": {
    "collapsed": false
   },
   "outputs": [
    {
     "data": {
      "text/html": [
       "<div style=\"max-height:1000px;max-width:1500px;overflow:auto;\"><table frame=\"box\" rules=\"cols\">\n",
       "    <tr>\n",
       "        <th style=\"padding-left: 1em; padding-right: 1em; text-align: center\">cutoff</th>\n",
       "        <th style=\"padding-left: 1em; padding-right: 1em; text-align: center\">Avg of precision</th>\n",
       "        <th style=\"padding-left: 1em; padding-right: 1em; text-align: center\">Stdv of precision</th>\n",
       "        <th style=\"padding-left: 1em; padding-right: 1em; text-align: center\">Avg of recall</th>\n",
       "        <th style=\"padding-left: 1em; padding-right: 1em; text-align: center\">Stdv of recall</th>\n",
       "    </tr>\n",
       "    <tr>\n",
       "        <td style=\"padding-left: 1em; padding-right: 1em; text-align: center; vertical-align: top\">36</td>\n",
       "        <td style=\"padding-left: 1em; padding-right: 1em; text-align: center; vertical-align: top\">0.100833333333</td>\n",
       "        <td style=\"padding-left: 1em; padding-right: 1em; text-align: center; vertical-align: top\">0.0863933546541</td>\n",
       "        <td style=\"padding-left: 1em; padding-right: 1em; text-align: center; vertical-align: top\">0.0789151469344</td>\n",
       "        <td style=\"padding-left: 1em; padding-right: 1em; text-align: center; vertical-align: top\">0.0567947995142</td>\n",
       "    </tr>\n",
       "    <tr>\n",
       "        <td style=\"padding-left: 1em; padding-right: 1em; text-align: center; vertical-align: top\">2</td>\n",
       "        <td style=\"padding-left: 1em; padding-right: 1em; text-align: center; vertical-align: top\">0.115</td>\n",
       "        <td style=\"padding-left: 1em; padding-right: 1em; text-align: center; vertical-align: top\">0.243464576479</td>\n",
       "        <td style=\"padding-left: 1em; padding-right: 1em; text-align: center; vertical-align: top\">0.00614740877219</td>\n",
       "        <td style=\"padding-left: 1em; padding-right: 1em; text-align: center; vertical-align: top\">0.015865395657</td>\n",
       "    </tr>\n",
       "    <tr>\n",
       "        <td style=\"padding-left: 1em; padding-right: 1em; text-align: center; vertical-align: top\">46</td>\n",
       "        <td style=\"padding-left: 1em; padding-right: 1em; text-align: center; vertical-align: top\">0.0947826086957</td>\n",
       "        <td style=\"padding-left: 1em; padding-right: 1em; text-align: center; vertical-align: top\">0.0771980978639</td>\n",
       "        <td style=\"padding-left: 1em; padding-right: 1em; text-align: center; vertical-align: top\">0.0967662571927</td>\n",
       "        <td style=\"padding-left: 1em; padding-right: 1em; text-align: center; vertical-align: top\">0.0663275344235</td>\n",
       "    </tr>\n",
       "    <tr>\n",
       "        <td style=\"padding-left: 1em; padding-right: 1em; text-align: center; vertical-align: top\">31</td>\n",
       "        <td style=\"padding-left: 1em; padding-right: 1em; text-align: center; vertical-align: top\">0.102580645161</td>\n",
       "        <td style=\"padding-left: 1em; padding-right: 1em; text-align: center; vertical-align: top\">0.0882692880998</td>\n",
       "        <td style=\"padding-left: 1em; padding-right: 1em; text-align: center; vertical-align: top\">0.0704756250516</td>\n",
       "        <td style=\"padding-left: 1em; padding-right: 1em; text-align: center; vertical-align: top\">0.0542113218014</td>\n",
       "    </tr>\n",
       "    <tr>\n",
       "        <td style=\"padding-left: 1em; padding-right: 1em; text-align: center; vertical-align: top\">26</td>\n",
       "        <td style=\"padding-left: 1em; padding-right: 1em; text-align: center; vertical-align: top\">0.109615384615</td>\n",
       "        <td style=\"padding-left: 1em; padding-right: 1em; text-align: center; vertical-align: top\">0.09582636541</td>\n",
       "        <td style=\"padding-left: 1em; padding-right: 1em; text-align: center; vertical-align: top\">0.0639982590249</td>\n",
       "        <td style=\"padding-left: 1em; padding-right: 1em; text-align: center; vertical-align: top\">0.050569056255</td>\n",
       "    </tr>\n",
       "    <tr>\n",
       "        <td style=\"padding-left: 1em; padding-right: 1em; text-align: center; vertical-align: top\">8</td>\n",
       "        <td style=\"padding-left: 1em; padding-right: 1em; text-align: center; vertical-align: top\">0.115</td>\n",
       "        <td style=\"padding-left: 1em; padding-right: 1em; text-align: center; vertical-align: top\">0.161709616288</td>\n",
       "        <td style=\"padding-left: 1em; padding-right: 1em; text-align: center; vertical-align: top\">0.0196304263069</td>\n",
       "        <td style=\"padding-left: 1em; padding-right: 1em; text-align: center; vertical-align: top\">0.0288967783974</td>\n",
       "    </tr>\n",
       "    <tr>\n",
       "        <td style=\"padding-left: 1em; padding-right: 1em; text-align: center; vertical-align: top\">5</td>\n",
       "        <td style=\"padding-left: 1em; padding-right: 1em; text-align: center; vertical-align: top\">0.116</td>\n",
       "        <td style=\"padding-left: 1em; padding-right: 1em; text-align: center; vertical-align: top\">0.185860162488</td>\n",
       "        <td style=\"padding-left: 1em; padding-right: 1em; text-align: center; vertical-align: top\">0.0134032387767</td>\n",
       "        <td style=\"padding-left: 1em; padding-right: 1em; text-align: center; vertical-align: top\">0.0226925346777</td>\n",
       "    </tr>\n",
       "    <tr>\n",
       "        <td style=\"padding-left: 1em; padding-right: 1em; text-align: center; vertical-align: top\">16</td>\n",
       "        <td style=\"padding-left: 1em; padding-right: 1em; text-align: center; vertical-align: top\">0.115625</td>\n",
       "        <td style=\"padding-left: 1em; padding-right: 1em; text-align: center; vertical-align: top\">0.119365182842</td>\n",
       "        <td style=\"padding-left: 1em; padding-right: 1em; text-align: center; vertical-align: top\">0.0403995983877</td>\n",
       "        <td style=\"padding-left: 1em; padding-right: 1em; text-align: center; vertical-align: top\">0.0404722147898</td>\n",
       "    </tr>\n",
       "    <tr>\n",
       "        <td style=\"padding-left: 1em; padding-right: 1em; text-align: center; vertical-align: top\">41</td>\n",
       "        <td style=\"padding-left: 1em; padding-right: 1em; text-align: center; vertical-align: top\">0.0963414634146</td>\n",
       "        <td style=\"padding-left: 1em; padding-right: 1em; text-align: center; vertical-align: top\">0.081652693791</td>\n",
       "        <td style=\"padding-left: 1em; padding-right: 1em; text-align: center; vertical-align: top\">0.0861951625754</td>\n",
       "        <td style=\"padding-left: 1em; padding-right: 1em; text-align: center; vertical-align: top\">0.0627664049257</td>\n",
       "    </tr>\n",
       "    <tr>\n",
       "        <td style=\"padding-left: 1em; padding-right: 1em; text-align: center; vertical-align: top\">4</td>\n",
       "        <td style=\"padding-left: 1em; padding-right: 1em; text-align: center; vertical-align: top\">0.1175</td>\n",
       "        <td style=\"padding-left: 1em; padding-right: 1em; text-align: center; vertical-align: top\">0.207530118296</td>\n",
       "        <td style=\"padding-left: 1em; padding-right: 1em; text-align: center; vertical-align: top\">0.0108879659345</td>\n",
       "        <td style=\"padding-left: 1em; padding-right: 1em; text-align: center; vertical-align: top\">0.0208591980978</td>\n",
       "    </tr>\n",
       "</table>\n",
       "[18 rows x 5 columns]<br/>Note: Only the head of the SFrame is printed.<br/>You can use print_rows(num_rows=m, num_columns=n) to print more rows and columns.\n",
       "</div>"
      ],
      "text/plain": [
       "Columns:\n",
       "\tcutoff\tint\n",
       "\tAvg of precision\tfloat\n",
       "\tStdv of precision\tfloat\n",
       "\tAvg of recall\tfloat\n",
       "\tStdv of recall\tfloat\n",
       "\n",
       "Rows: 18\n",
       "\n",
       "Data:\n",
       "+--------+------------------+-------------------+------------------+\n",
       "| cutoff | Avg of precision | Stdv of precision |  Avg of recall   |\n",
       "+--------+------------------+-------------------+------------------+\n",
       "|   36   |  0.100833333333  |  0.0863933546541  | 0.0789151469344  |\n",
       "|   2    |      0.115       |   0.243464576479  | 0.00614740877219 |\n",
       "|   46   | 0.0947826086957  |  0.0771980978639  | 0.0967662571927  |\n",
       "|   31   |  0.102580645161  |  0.0882692880998  | 0.0704756250516  |\n",
       "|   26   |  0.109615384615  |   0.09582636541   | 0.0639982590249  |\n",
       "|   8    |      0.115       |   0.161709616288  | 0.0196304263069  |\n",
       "|   5    |      0.116       |   0.185860162488  | 0.0134032387767  |\n",
       "|   16   |     0.115625     |   0.119365182842  | 0.0403995983877  |\n",
       "|   41   | 0.0963414634146  |   0.081652693791  | 0.0861951625754  |\n",
       "|   4    |      0.1175      |   0.207530118296  | 0.0108879659345  |\n",
       "+--------+------------------+-------------------+------------------+\n",
       "+-----------------+\n",
       "|  Stdv of recall |\n",
       "+-----------------+\n",
       "| 0.0567947995142 |\n",
       "|  0.015865395657 |\n",
       "| 0.0663275344235 |\n",
       "| 0.0542113218014 |\n",
       "|  0.050569056255 |\n",
       "| 0.0288967783974 |\n",
       "| 0.0226925346777 |\n",
       "| 0.0404722147898 |\n",
       "| 0.0627664049257 |\n",
       "| 0.0208591980978 |\n",
       "+-----------------+\n",
       "[18 rows x 5 columns]\n",
       "Note: Only the head of the SFrame is printed.\n",
       "You can use print_rows(num_rows=m, num_columns=n) to print more rows and columns."
      ]
     },
     "execution_count": 11,
     "metadata": {},
     "output_type": "execute_result"
    }
   ],
   "source": [
    "rmse_results['precision_recall_by_user'].groupby('cutoff',[agg.AVG('precision'),agg.STD('precision'),agg.AVG('recall'),agg.STD('recall')])"
   ]
  },
  {
   "cell_type": "markdown",
   "metadata": {},
   "source": [
    "___\n",
    "Okay, so we are getting better, but might need to tweak the results of the classifier by regularizing...\n",
    "Remember that we need to come up with a good estimate of the latent factors and we need that matrix to be a good estiamte of the given ratings. We can control some of the parameters using regularization constants and increasing or decreasing the number of latent factors."
   ]
  },
  {
   "cell_type": "code",
   "execution_count": 12,
   "metadata": {
    "collapsed": false,
    "scrolled": false
   },
   "outputs": [
    {
     "data": {
      "text/html": [
       "<pre>Recsys training: model = ranking_factorization_recommender</pre>"
      ],
      "text/plain": [
       "Recsys training: model = ranking_factorization_recommender"
      ]
     },
     "metadata": {},
     "output_type": "execute_result"
    },
    {
     "data": {
      "text/html": [
       "<pre>Preparing data set.</pre>"
      ],
      "text/plain": [
       "Preparing data set."
      ]
     },
     "metadata": {},
     "output_type": "execute_result"
    },
    {
     "data": {
      "text/html": [
       "<pre>    Data has 77252 observations with 334 users and 7474 items.</pre>"
      ],
      "text/plain": [
       "    Data has 77252 observations with 334 users and 7474 items."
      ]
     },
     "metadata": {},
     "output_type": "execute_result"
    },
    {
     "data": {
      "text/html": [
       "<pre>    Data prepared in: 0.164058s</pre>"
      ],
      "text/plain": [
       "    Data prepared in: 0.164058s"
      ]
     },
     "metadata": {},
     "output_type": "execute_result"
    },
    {
     "data": {
      "text/html": [
       "<pre>Training ranking_factorization_recommender for recommendations.</pre>"
      ],
      "text/plain": [
       "Training ranking_factorization_recommender for recommendations."
      ]
     },
     "metadata": {},
     "output_type": "execute_result"
    },
    {
     "data": {
      "text/html": [
       "<pre>+--------------------------------+--------------------------------------------------+----------+</pre>"
      ],
      "text/plain": [
       "+--------------------------------+--------------------------------------------------+----------+"
      ]
     },
     "metadata": {},
     "output_type": "execute_result"
    },
    {
     "data": {
      "text/html": [
       "<pre>| Parameter                      | Description                                      | Value    |</pre>"
      ],
      "text/plain": [
       "| Parameter                      | Description                                      | Value    |"
      ]
     },
     "metadata": {},
     "output_type": "execute_result"
    },
    {
     "data": {
      "text/html": [
       "<pre>+--------------------------------+--------------------------------------------------+----------+</pre>"
      ],
      "text/plain": [
       "+--------------------------------+--------------------------------------------------+----------+"
      ]
     },
     "metadata": {},
     "output_type": "execute_result"
    },
    {
     "data": {
      "text/html": [
       "<pre>| num_factors                    | Factor Dimension                                 | 16       |</pre>"
      ],
      "text/plain": [
       "| num_factors                    | Factor Dimension                                 | 16       |"
      ]
     },
     "metadata": {},
     "output_type": "execute_result"
    },
    {
     "data": {
      "text/html": [
       "<pre>| regularization                 | L2 Regularization on Factors                     | 0.01     |</pre>"
      ],
      "text/plain": [
       "| regularization                 | L2 Regularization on Factors                     | 0.01     |"
      ]
     },
     "metadata": {},
     "output_type": "execute_result"
    },
    {
     "data": {
      "text/html": [
       "<pre>| solver                         | Solver used for training                         | sgd      |</pre>"
      ],
      "text/plain": [
       "| solver                         | Solver used for training                         | sgd      |"
      ]
     },
     "metadata": {},
     "output_type": "execute_result"
    },
    {
     "data": {
      "text/html": [
       "<pre>| linear_regularization          | L2 Regularization on Linear Coefficients         | 0.001    |</pre>"
      ],
      "text/plain": [
       "| linear_regularization          | L2 Regularization on Linear Coefficients         | 0.001    |"
      ]
     },
     "metadata": {},
     "output_type": "execute_result"
    },
    {
     "data": {
      "text/html": [
       "<pre>| ranking_regularization         | Rank-based Regularization Weight                 | 0.25     |</pre>"
      ],
      "text/plain": [
       "| ranking_regularization         | Rank-based Regularization Weight                 | 0.25     |"
      ]
     },
     "metadata": {},
     "output_type": "execute_result"
    },
    {
     "data": {
      "text/html": [
       "<pre>| max_iterations                 | Maximum Number of Iterations                     | 25       |</pre>"
      ],
      "text/plain": [
       "| max_iterations                 | Maximum Number of Iterations                     | 25       |"
      ]
     },
     "metadata": {},
     "output_type": "execute_result"
    },
    {
     "data": {
      "text/html": [
       "<pre>+--------------------------------+--------------------------------------------------+----------+</pre>"
      ],
      "text/plain": [
       "+--------------------------------+--------------------------------------------------+----------+"
      ]
     },
     "metadata": {},
     "output_type": "execute_result"
    },
    {
     "data": {
      "text/html": [
       "<pre>  Optimizing model using SGD; tuning step size.</pre>"
      ],
      "text/plain": [
       "  Optimizing model using SGD; tuning step size."
      ]
     },
     "metadata": {},
     "output_type": "execute_result"
    },
    {
     "data": {
      "text/html": [
       "<pre>  Using 10000 / 77252 points for tuning the step size.</pre>"
      ],
      "text/plain": [
       "  Using 10000 / 77252 points for tuning the step size."
      ]
     },
     "metadata": {},
     "output_type": "execute_result"
    },
    {
     "data": {
      "text/html": [
       "<pre>+---------+-------------------+------------------------------------------+</pre>"
      ],
      "text/plain": [
       "+---------+-------------------+------------------------------------------+"
      ]
     },
     "metadata": {},
     "output_type": "execute_result"
    },
    {
     "data": {
      "text/html": [
       "<pre>| Attempt | Initial Step Size | Estimated Objective Value                |</pre>"
      ],
      "text/plain": [
       "| Attempt | Initial Step Size | Estimated Objective Value                |"
      ]
     },
     "metadata": {},
     "output_type": "execute_result"
    },
    {
     "data": {
      "text/html": [
       "<pre>+---------+-------------------+------------------------------------------+</pre>"
      ],
      "text/plain": [
       "+---------+-------------------+------------------------------------------+"
      ]
     },
     "metadata": {},
     "output_type": "execute_result"
    },
    {
     "data": {
      "text/html": [
       "<pre>| 0       | 0.0953342         | Not Viable                               |</pre>"
      ],
      "text/plain": [
       "| 0       | 0.0953342         | Not Viable                               |"
      ]
     },
     "metadata": {},
     "output_type": "execute_result"
    },
    {
     "data": {
      "text/html": [
       "<pre>| 1       | 0.0238336         | 1.92944                                  |</pre>"
      ],
      "text/plain": [
       "| 1       | 0.0238336         | 1.92944                                  |"
      ]
     },
     "metadata": {},
     "output_type": "execute_result"
    },
    {
     "data": {
      "text/html": [
       "<pre>| 2       | 0.0119168         | 1.9526                                   |</pre>"
      ],
      "text/plain": [
       "| 2       | 0.0119168         | 1.9526                                   |"
      ]
     },
     "metadata": {},
     "output_type": "execute_result"
    },
    {
     "data": {
      "text/html": [
       "<pre>| 3       | 0.00595839        | 1.99208                                  |</pre>"
      ],
      "text/plain": [
       "| 3       | 0.00595839        | 1.99208                                  |"
      ]
     },
     "metadata": {},
     "output_type": "execute_result"
    },
    {
     "data": {
      "text/html": [
       "<pre>| 4       | 0.00297919        | 2.03768                                  |</pre>"
      ],
      "text/plain": [
       "| 4       | 0.00297919        | 2.03768                                  |"
      ]
     },
     "metadata": {},
     "output_type": "execute_result"
    },
    {
     "data": {
      "text/html": [
       "<pre>+---------+-------------------+------------------------------------------+</pre>"
      ],
      "text/plain": [
       "+---------+-------------------+------------------------------------------+"
      ]
     },
     "metadata": {},
     "output_type": "execute_result"
    },
    {
     "data": {
      "text/html": [
       "<pre>| Final   | 0.0238336         | 1.92944                                  |</pre>"
      ],
      "text/plain": [
       "| Final   | 0.0238336         | 1.92944                                  |"
      ]
     },
     "metadata": {},
     "output_type": "execute_result"
    },
    {
     "data": {
      "text/html": [
       "<pre>+---------+-------------------+------------------------------------------+</pre>"
      ],
      "text/plain": [
       "+---------+-------------------+------------------------------------------+"
      ]
     },
     "metadata": {},
     "output_type": "execute_result"
    },
    {
     "data": {
      "text/html": [
       "<pre>Starting Optimization.</pre>"
      ],
      "text/plain": [
       "Starting Optimization."
      ]
     },
     "metadata": {},
     "output_type": "execute_result"
    },
    {
     "data": {
      "text/html": [
       "<pre>+---------+--------------+-------------------+-----------------------+-------------+</pre>"
      ],
      "text/plain": [
       "+---------+--------------+-------------------+-----------------------+-------------+"
      ]
     },
     "metadata": {},
     "output_type": "execute_result"
    },
    {
     "data": {
      "text/html": [
       "<pre>| Iter.   | Elapsed Time | Approx. Objective | Approx. Training RMSE | Step Size   |</pre>"
      ],
      "text/plain": [
       "| Iter.   | Elapsed Time | Approx. Objective | Approx. Training RMSE | Step Size   |"
      ]
     },
     "metadata": {},
     "output_type": "execute_result"
    },
    {
     "data": {
      "text/html": [
       "<pre>+---------+--------------+-------------------+-----------------------+-------------+</pre>"
      ],
      "text/plain": [
       "+---------+--------------+-------------------+-----------------------+-------------+"
      ]
     },
     "metadata": {},
     "output_type": "execute_result"
    },
    {
     "data": {
      "text/html": [
       "<pre>| Initial | 142us        | 2.36561           | 1.09842               |             |</pre>"
      ],
      "text/plain": [
       "| Initial | 142us        | 2.36561           | 1.09842               |             |"
      ]
     },
     "metadata": {},
     "output_type": "execute_result"
    },
    {
     "data": {
      "text/html": [
       "<pre>+---------+--------------+-------------------+-----------------------+-------------+</pre>"
      ],
      "text/plain": [
       "+---------+--------------+-------------------+-----------------------+-------------+"
      ]
     },
     "metadata": {},
     "output_type": "execute_result"
    },
    {
     "data": {
      "text/html": [
       "<pre>| 1       | 181.557ms    | DIVERGED          | DIVERGED              | 0.0238336   |</pre>"
      ],
      "text/plain": [
       "| 1       | 181.557ms    | DIVERGED          | DIVERGED              | 0.0238336   |"
      ]
     },
     "metadata": {},
     "output_type": "execute_result"
    },
    {
     "data": {
      "text/html": [
       "<pre>| RESET   | 240.591ms    | 2.36536           | 1.09842               |             |</pre>"
      ],
      "text/plain": [
       "| RESET   | 240.591ms    | 2.36536           | 1.09842               |             |"
      ]
     },
     "metadata": {},
     "output_type": "execute_result"
    },
    {
     "data": {
      "text/html": [
       "<pre>| 1       | 403.93ms     | DIVERGED          | DIVERGED              | 0.0119168   |</pre>"
      ],
      "text/plain": [
       "| 1       | 403.93ms     | DIVERGED          | DIVERGED              | 0.0119168   |"
      ]
     },
     "metadata": {},
     "output_type": "execute_result"
    },
    {
     "data": {
      "text/html": [
       "<pre>| RESET   | 445.792ms    | 2.36543           | 1.09842               |             |</pre>"
      ],
      "text/plain": [
       "| RESET   | 445.792ms    | 2.36543           | 1.09842               |             |"
      ]
     },
     "metadata": {},
     "output_type": "execute_result"
    },
    {
     "data": {
      "text/html": [
       "<pre>| 1       | 551.147ms    | DIVERGED          | DIVERGED              | 0.00595839  |</pre>"
      ],
      "text/plain": [
       "| 1       | 551.147ms    | DIVERGED          | DIVERGED              | 0.00595839  |"
      ]
     },
     "metadata": {},
     "output_type": "execute_result"
    },
    {
     "data": {
      "text/html": [
       "<pre>| RESET   | 592.919ms    | 2.3655            | 1.09841               |             |</pre>"
      ],
      "text/plain": [
       "| RESET   | 592.919ms    | 2.3655            | 1.09841               |             |"
      ]
     },
     "metadata": {},
     "output_type": "execute_result"
    },
    {
     "data": {
      "text/html": [
       "<pre>| 1       | 686.381ms    | 2.05046           | 1.04786               | 0.00297919  |</pre>"
      ],
      "text/plain": [
       "| 1       | 686.381ms    | 2.05046           | 1.04786               | 0.00297919  |"
      ]
     },
     "metadata": {},
     "output_type": "execute_result"
    },
    {
     "data": {
      "text/html": [
       "<pre>| 2       | 782.786ms    | 1.96325           | 1.03484               | 0.00090238  |</pre>"
      ],
      "text/plain": [
       "| 2       | 782.786ms    | 1.96325           | 1.03484               | 0.00090238  |"
      ]
     },
     "metadata": {},
     "output_type": "execute_result"
    },
    {
     "data": {
      "text/html": [
       "<pre>| 3       | 896.819ms    | 1.95192           | 1.03311               | 0.000531717 |</pre>"
      ],
      "text/plain": [
       "| 3       | 896.819ms    | 1.95192           | 1.03311               | 0.000531717 |"
      ]
     },
     "metadata": {},
     "output_type": "execute_result"
    },
    {
     "data": {
      "text/html": [
       "<pre>| 4       | 998.072ms    | 1.9475            | 1.03177               | 0.0003769   |</pre>"
      ],
      "text/plain": [
       "| 4       | 998.072ms    | 1.9475            | 1.03177               | 0.0003769   |"
      ]
     },
     "metadata": {},
     "output_type": "execute_result"
    },
    {
     "data": {
      "text/html": [
       "<pre>| 5       | 1.08s        | 1.94507           | 1.03108               | 0.000291908 |</pre>"
      ],
      "text/plain": [
       "| 5       | 1.08s        | 1.94507           | 1.03108               | 0.000291908 |"
      ]
     },
     "metadata": {},
     "output_type": "execute_result"
    },
    {
     "data": {
      "text/html": [
       "<pre>| 6       | 1.17s        | 1.94401           | 1.03034               | 0.000238194 |</pre>"
      ],
      "text/plain": [
       "| 6       | 1.17s        | 1.94401           | 1.03034               | 0.000238194 |"
      ]
     },
     "metadata": {},
     "output_type": "execute_result"
    },
    {
     "data": {
      "text/html": [
       "<pre>| 11      | 1.53s        | 1.94127           | 1.02893               | 0.000123086 |</pre>"
      ],
      "text/plain": [
       "| 11      | 1.53s        | 1.94127           | 1.02893               | 0.000123086 |"
      ]
     },
     "metadata": {},
     "output_type": "execute_result"
    },
    {
     "data": {
      "text/html": [
       "<pre>| 22      | 2.36s        | 1.94119           | 1.02778               | 5.6118e-05  |</pre>"
      ],
      "text/plain": [
       "| 22      | 2.36s        | 1.94119           | 1.02778               | 5.6118e-05  |"
      ]
     },
     "metadata": {},
     "output_type": "execute_result"
    },
    {
     "data": {
      "text/html": [
       "<pre>+---------+--------------+-------------------+-----------------------+-------------+</pre>"
      ],
      "text/plain": [
       "+---------+--------------+-------------------+-----------------------+-------------+"
      ]
     },
     "metadata": {},
     "output_type": "execute_result"
    },
    {
     "data": {
      "text/html": [
       "<pre>Optimization Complete: Maximum number of passes through the data reached.</pre>"
      ],
      "text/plain": [
       "Optimization Complete: Maximum number of passes through the data reached."
      ]
     },
     "metadata": {},
     "output_type": "execute_result"
    },
    {
     "data": {
      "text/html": [
       "<pre>Computing final objective value and training RMSE.</pre>"
      ],
      "text/plain": [
       "Computing final objective value and training RMSE."
      ]
     },
     "metadata": {},
     "output_type": "execute_result"
    },
    {
     "data": {
      "text/html": [
       "<pre>       Final objective value: 1.94282</pre>"
      ],
      "text/plain": [
       "       Final objective value: 1.94282"
      ]
     },
     "metadata": {},
     "output_type": "execute_result"
    },
    {
     "data": {
      "text/html": [
       "<pre>       Final training RMSE: 1.02733</pre>"
      ],
      "text/plain": [
       "       Final training RMSE: 1.02733"
      ]
     },
     "metadata": {},
     "output_type": "execute_result"
    },
    {
     "name": "stdout",
     "output_type": "stream",
     "text": [
      "\n",
      "Precision and recall summary statistics by cutoff\n",
      "+--------+----------------+------------------+\n",
      "| cutoff | mean_precision |   mean_recall    |\n",
      "+--------+----------------+------------------+\n",
      "|   1    |      0.2       | 0.00335050849505 |\n",
      "|   2    |      0.15      | 0.00535421397352 |\n",
      "|   3    | 0.143333333333 | 0.00846222045566 |\n",
      "|   4    |      0.14      | 0.0109455059885  |\n",
      "|   5    |     0.128      | 0.0127051484801  |\n",
      "|   6    | 0.121666666667 | 0.0147067887307  |\n",
      "|   7    |      0.12      | 0.0175809582432  |\n",
      "|   8    |    0.12125     | 0.0205166948919  |\n",
      "|   9    |      0.12      | 0.0225858038243  |\n",
      "|   10   |     0.118      | 0.0247895619665  |\n",
      "+--------+----------------+------------------+\n",
      "[10 rows x 3 columns]\n",
      "\n",
      "('\\nOverall RMSE: ', 1.0348045549757179)\n",
      "\n",
      "Per User RMSE (best)\n",
      "+--------------+-------+----------------+\n",
      "|     user     | count |      rmse      |\n",
      "+--------------+-------+----------------+\n",
      "| Andres Smith |   3   | 0.351964396006 |\n",
      "+--------------+-------+----------------+\n",
      "[1 rows x 3 columns]\n",
      "\n",
      "\n",
      "Per User RMSE (worst)\n",
      "+------------+-------+---------------+\n",
      "|    user    | count |      rmse     |\n",
      "+------------+-------+---------------+\n",
      "| Ivan Smith |  212  | 1.53425619525 |\n",
      "+------------+-------+---------------+\n",
      "[1 rows x 3 columns]\n",
      "\n",
      "\n",
      "Per Item RMSE (best)\n",
      "+--------------+-------+-------------------+\n",
      "|    movie     | count |        rmse       |\n",
      "+--------------+-------+-------------------+\n",
      "| No Good Deed |   1   | 0.000160619748927 |\n",
      "+--------------+-------+-------------------+\n",
      "[1 rows x 3 columns]\n",
      "\n",
      "\n",
      "Per Item RMSE (worst)\n",
      "+------------+-------+---------------+\n",
      "|   movie    | count |      rmse     |\n",
      "+------------+-------+---------------+\n",
      "| L'Atalante |   1   | 3.45551664742 |\n",
      "+------------+-------+---------------+\n",
      "[1 rows x 3 columns]\n",
      "\n"
     ]
    }
   ],
   "source": [
    "rec1 = gl.recommender.ranking_factorization_recommender.create(train, \n",
    "                                  user_id=\"user\", \n",
    "                                  item_id=\"movie\", \n",
    "                                  target=\"rating\",\n",
    "                                  num_factors=16,                 # override the default value\n",
    "                                  regularization=1e-02,           # override the default value\n",
    "                                  linear_regularization = 1e-3)   # override the default value\n",
    "\n",
    "rmse_results = rec1.evaluate(test)"
   ]
  },
  {
   "cell_type": "markdown",
   "metadata": {},
   "source": [
    "# Is this better than the item item matrix?"
   ]
  },
  {
   "cell_type": "code",
   "execution_count": 13,
   "metadata": {
    "collapsed": false,
    "scrolled": false
   },
   "outputs": [
    {
     "name": "stdout",
     "output_type": "stream",
     "text": [
      "PROGRESS: Evaluate model M0\n",
      "\n",
      "Precision and recall summary statistics by cutoff\n",
      "+--------+----------------+------------------+\n",
      "| cutoff | mean_precision |   mean_recall    |\n",
      "+--------+----------------+------------------+\n",
      "|   1    |      0.18      | 0.00851461400757 |\n",
      "|   2    |      0.17      | 0.0114813179455  |\n",
      "|   3    |      0.19      | 0.0203175491454  |\n",
      "|   4    |     0.1975     | 0.0275973558931  |\n",
      "|   5    |     0.194      | 0.0327684686723  |\n",
      "|   6    | 0.186666666667 | 0.0354018807673  |\n",
      "|   7    | 0.195714285714 | 0.0452641935336  |\n",
      "|   8    |     0.1975     | 0.0512779743288  |\n",
      "|   9    | 0.196666666667 |  0.055312349506  |\n",
      "|   10   |     0.186      | 0.0609766860575  |\n",
      "+--------+----------------+------------------+\n",
      "[10 rows x 3 columns]\n",
      "\n",
      "('\\nOverall RMSE: ', 3.633760811056906)\n",
      "\n",
      "Per User RMSE (best)\n",
      "+------------+-------+---------------+\n",
      "|    user    | count |      rmse     |\n",
      "+------------+-------+---------------+\n",
      "| Zion Smith |  408  | 1.80170257405 |\n",
      "+------------+-------+---------------+\n",
      "[1 rows x 3 columns]\n",
      "\n",
      "\n",
      "Per User RMSE (worst)\n",
      "+-------------+-------+---------------+\n",
      "|     user    | count |      rmse     |\n",
      "+-------------+-------+---------------+\n",
      "| Kyler Smith |   21  | 4.63823170663 |\n",
      "+-------------+-------+---------------+\n",
      "[1 rows x 3 columns]\n",
      "\n",
      "\n",
      "Per Item RMSE (best)\n",
      "+--------------+-------+----------------+\n",
      "|    movie     | count |      rmse      |\n",
      "+--------------+-------+----------------+\n",
      "| Total Recall |   1   | 0.955566048622 |\n",
      "+--------------+-------+----------------+\n",
      "[1 rows x 3 columns]\n",
      "\n",
      "\n",
      "Per Item RMSE (worst)\n",
      "+------------------------+-------+------+\n",
      "|         movie          | count | rmse |\n",
      "+------------------------+-------+------+\n",
      "| The Simpsons: Season 3 |   1   | 5.0  |\n",
      "+------------------------+-------+------+\n",
      "[1 rows x 3 columns]\n",
      "\n",
      "PROGRESS: Evaluate model M1\n",
      "\n",
      "Precision and recall summary statistics by cutoff\n",
      "+--------+----------------+------------------+\n",
      "| cutoff | mean_precision |   mean_recall    |\n",
      "+--------+----------------+------------------+\n",
      "|   1    |      0.2       | 0.00335050849505 |\n",
      "|   2    |      0.15      | 0.00535421397352 |\n",
      "|   3    | 0.143333333333 | 0.00846222045566 |\n",
      "|   4    |      0.14      | 0.0109455059885  |\n",
      "|   5    |     0.128      | 0.0127051484801  |\n",
      "|   6    | 0.121666666667 | 0.0147067887307  |\n",
      "|   7    |      0.12      | 0.0175809582432  |\n",
      "|   8    |    0.12125     | 0.0205166948919  |\n",
      "|   9    |      0.12      | 0.0225858038243  |\n",
      "|   10   |     0.118      | 0.0247895619665  |\n",
      "+--------+----------------+------------------+\n",
      "[10 rows x 3 columns]\n",
      "\n",
      "('\\nOverall RMSE: ', 1.0348045549757179)\n",
      "\n",
      "Per User RMSE (best)\n",
      "+--------------+-------+----------------+\n",
      "|     user     | count |      rmse      |\n",
      "+--------------+-------+----------------+\n",
      "| Andres Smith |   3   | 0.351964396006 |\n",
      "+--------------+-------+----------------+\n",
      "[1 rows x 3 columns]\n",
      "\n",
      "\n",
      "Per User RMSE (worst)\n",
      "+------------+-------+---------------+\n",
      "|    user    | count |      rmse     |\n",
      "+------------+-------+---------------+\n",
      "| Ivan Smith |  212  | 1.53425619525 |\n",
      "+------------+-------+---------------+\n",
      "[1 rows x 3 columns]\n",
      "\n",
      "\n",
      "Per Item RMSE (best)\n",
      "+--------------+-------+-------------------+\n",
      "|    movie     | count |        rmse       |\n",
      "+--------------+-------+-------------------+\n",
      "| No Good Deed |   1   | 0.000160619748927 |\n",
      "+--------------+-------+-------------------+\n",
      "[1 rows x 3 columns]\n",
      "\n",
      "\n",
      "Per Item RMSE (worst)\n",
      "+------------+-------+---------------+\n",
      "|   movie    | count |      rmse     |\n",
      "+------------+-------+---------------+\n",
      "| L'Atalante |   1   | 3.45551664742 |\n",
      "+------------+-------+---------------+\n",
      "[1 rows x 3 columns]\n",
      "\n"
     ]
    }
   ],
   "source": [
    "comparison = gl.recommender.util.compare_models(test, [item_item, rec1])"
   ]
  },
  {
   "cell_type": "code",
   "execution_count": 14,
   "metadata": {
    "collapsed": false,
    "scrolled": true
   },
   "outputs": [
    {
     "name": "stdout",
     "output_type": "stream",
     "text": [
      "PROGRESS: Evaluate model M0\n",
      "\n",
      "Precision and recall summary statistics by cutoff\n",
      "+--------+----------------+------------------+\n",
      "| cutoff | mean_precision |   mean_recall    |\n",
      "+--------+----------------+------------------+\n",
      "|   1    |      0.18      | 0.00851461400757 |\n",
      "|   2    |      0.17      | 0.0114813179455  |\n",
      "|   3    |      0.19      | 0.0203175491454  |\n",
      "|   4    |     0.1975     | 0.0275973558931  |\n",
      "|   5    |     0.194      | 0.0327684686723  |\n",
      "|   6    | 0.186666666667 | 0.0354018807673  |\n",
      "|   7    | 0.195714285714 | 0.0452641935336  |\n",
      "|   8    |     0.1975     | 0.0512779743288  |\n",
      "|   9    | 0.196666666667 |  0.055312349506  |\n",
      "|   10   |     0.186      | 0.0609766860575  |\n",
      "+--------+----------------+------------------+\n",
      "[10 rows x 3 columns]\n",
      "\n",
      "PROGRESS: Evaluate model M1\n",
      "\n",
      "Precision and recall summary statistics by cutoff\n",
      "+--------+----------------+------------------+\n",
      "| cutoff | mean_precision |   mean_recall    |\n",
      "+--------+----------------+------------------+\n",
      "|   1    |      0.2       | 0.00335050849505 |\n",
      "|   2    |      0.15      | 0.00535421397352 |\n",
      "|   3    | 0.143333333333 | 0.00846222045566 |\n",
      "|   4    |      0.14      | 0.0109455059885  |\n",
      "|   5    |     0.128      | 0.0127051484801  |\n",
      "|   6    | 0.121666666667 | 0.0147067887307  |\n",
      "|   7    |      0.12      | 0.0175809582432  |\n",
      "|   8    |    0.12125     | 0.0205166948919  |\n",
      "|   9    |      0.12      | 0.0225858038243  |\n",
      "|   10   |     0.118      | 0.0247895619665  |\n",
      "+--------+----------------+------------------+\n",
      "[10 rows x 3 columns]\n",
      "\n",
      "Model compare metric: precision_recall\n"
     ]
    }
   ],
   "source": [
    "comparisonstruct = gl.compare(test,[item_item, rec1])"
   ]
  },
  {
   "cell_type": "code",
   "execution_count": 15,
   "metadata": {
    "collapsed": false
   },
   "outputs": [
    {
     "data": {},
     "metadata": {},
     "output_type": "display_data"
    }
   ],
   "source": [
    "gl.show_comparison(comparisonstruct,[item_item, rec1])"
   ]
  },
  {
   "cell_type": "markdown",
   "metadata": {},
   "source": [
    "## Parameters, Parameters\n",
    "There are so many parameters to search through here. It would be great if there as something we could do to change the parameters automatically and search through the best ones..."
   ]
  },
  {
   "cell_type": "code",
   "execution_count": 16,
   "metadata": {
    "collapsed": false
   },
   "outputs": [
    {
     "name": "stderr",
     "output_type": "stream",
     "text": [
      "[INFO] graphlab.deploy.job: Validating job.\n",
      "[INFO] graphlab.deploy.job: Creating a LocalAsync environment called 'async'.\n",
      "[INFO] graphlab.deploy.map_job: Validation complete. Job: 'Model-Parameter-Search-Jan-11-2017-12-19-4400000' ready for execution\n",
      "[INFO] graphlab.deploy.map_job: Job: 'Model-Parameter-Search-Jan-11-2017-12-19-4400000' scheduled.\n",
      "[INFO] graphlab.deploy.job: Validating job.\n",
      "[INFO] graphlab.deploy.map_job: A job with name 'Model-Parameter-Search-Jan-11-2017-12-19-4400000' already exists. Renaming the job to 'Model-Parameter-Search-Jan-11-2017-12-19-4400000-06dbb'.\n",
      "[INFO] graphlab.deploy.map_job: Validation complete. Job: 'Model-Parameter-Search-Jan-11-2017-12-19-4400000-06dbb' ready for execution\n",
      "[INFO] graphlab.deploy.map_job: Job: 'Model-Parameter-Search-Jan-11-2017-12-19-4400000-06dbb' scheduled.\n"
     ]
    }
   ],
   "source": [
    "params = {'user_id': 'user', \n",
    "          'item_id': 'movie', \n",
    "          'target': 'rating',\n",
    "          'num_factors': [8, 12, 16, 24, 32], \n",
    "          'regularization':[0.001] ,\n",
    "          'linear_regularization': [0.001]}\n",
    "\n",
    "job = gl.model_parameter_search.create( (train,test),\n",
    "        gl.recommender.ranking_factorization_recommender.create,\n",
    "        params,\n",
    "        max_models=5,\n",
    "        environment=None)\n",
    "\n",
    "# also note thatthis evaluator also supports sklearn\n",
    "# https://dato.com/products/create/docs/generated/graphlab.toolkits.model_parameter_search.create.html?highlight=model_parameter_search"
   ]
  },
  {
   "cell_type": "code",
   "execution_count": 24,
   "metadata": {
    "collapsed": false
   },
   "outputs": [
    {
     "data": {
      "text/plain": [
       "{'Canceled': 0, 'Completed': 5, 'Failed': 0, 'Pending': 0, 'Running': 0}"
      ]
     },
     "execution_count": 24,
     "metadata": {},
     "output_type": "execute_result"
    }
   ],
   "source": [
    "job.get_status()"
   ]
  },
  {
   "cell_type": "code",
   "execution_count": 25,
   "metadata": {
    "collapsed": false
   },
   "outputs": [
    {
     "data": {
      "text/html": [
       "<div style=\"max-height:1000px;max-width:1500px;overflow:auto;\"><table frame=\"box\" rules=\"cols\">\n",
       "    <tr>\n",
       "        <th style=\"padding-left: 1em; padding-right: 1em; text-align: center\">model_id</th>\n",
       "        <th style=\"padding-left: 1em; padding-right: 1em; text-align: center\">item_id</th>\n",
       "        <th style=\"padding-left: 1em; padding-right: 1em; text-align: center\">linear_regularization</th>\n",
       "        <th style=\"padding-left: 1em; padding-right: 1em; text-align: center\">max_iterations</th>\n",
       "        <th style=\"padding-left: 1em; padding-right: 1em; text-align: center\">num_factors</th>\n",
       "        <th style=\"padding-left: 1em; padding-right: 1em; text-align: center\">num_sampled_negative_exam<br>ples ...</th>\n",
       "        <th style=\"padding-left: 1em; padding-right: 1em; text-align: center\">ranking_regularization</th>\n",
       "    </tr>\n",
       "    <tr>\n",
       "        <td style=\"padding-left: 1em; padding-right: 1em; text-align: center; vertical-align: top\">1</td>\n",
       "        <td style=\"padding-left: 1em; padding-right: 1em; text-align: center; vertical-align: top\">movie</td>\n",
       "        <td style=\"padding-left: 1em; padding-right: 1em; text-align: center; vertical-align: top\">0.001</td>\n",
       "        <td style=\"padding-left: 1em; padding-right: 1em; text-align: center; vertical-align: top\">50</td>\n",
       "        <td style=\"padding-left: 1em; padding-right: 1em; text-align: center; vertical-align: top\">16</td>\n",
       "        <td style=\"padding-left: 1em; padding-right: 1em; text-align: center; vertical-align: top\">4</td>\n",
       "        <td style=\"padding-left: 1em; padding-right: 1em; text-align: center; vertical-align: top\">0.25</td>\n",
       "    </tr>\n",
       "    <tr>\n",
       "        <td style=\"padding-left: 1em; padding-right: 1em; text-align: center; vertical-align: top\">0</td>\n",
       "        <td style=\"padding-left: 1em; padding-right: 1em; text-align: center; vertical-align: top\">movie</td>\n",
       "        <td style=\"padding-left: 1em; padding-right: 1em; text-align: center; vertical-align: top\">0.001</td>\n",
       "        <td style=\"padding-left: 1em; padding-right: 1em; text-align: center; vertical-align: top\">50</td>\n",
       "        <td style=\"padding-left: 1em; padding-right: 1em; text-align: center; vertical-align: top\">24</td>\n",
       "        <td style=\"padding-left: 1em; padding-right: 1em; text-align: center; vertical-align: top\">8</td>\n",
       "        <td style=\"padding-left: 1em; padding-right: 1em; text-align: center; vertical-align: top\">0.1</td>\n",
       "    </tr>\n",
       "    <tr>\n",
       "        <td style=\"padding-left: 1em; padding-right: 1em; text-align: center; vertical-align: top\">3</td>\n",
       "        <td style=\"padding-left: 1em; padding-right: 1em; text-align: center; vertical-align: top\">movie</td>\n",
       "        <td style=\"padding-left: 1em; padding-right: 1em; text-align: center; vertical-align: top\">0.001</td>\n",
       "        <td style=\"padding-left: 1em; padding-right: 1em; text-align: center; vertical-align: top\">50</td>\n",
       "        <td style=\"padding-left: 1em; padding-right: 1em; text-align: center; vertical-align: top\">16</td>\n",
       "        <td style=\"padding-left: 1em; padding-right: 1em; text-align: center; vertical-align: top\">4</td>\n",
       "        <td style=\"padding-left: 1em; padding-right: 1em; text-align: center; vertical-align: top\">0.1</td>\n",
       "    </tr>\n",
       "    <tr>\n",
       "        <td style=\"padding-left: 1em; padding-right: 1em; text-align: center; vertical-align: top\">2</td>\n",
       "        <td style=\"padding-left: 1em; padding-right: 1em; text-align: center; vertical-align: top\">movie</td>\n",
       "        <td style=\"padding-left: 1em; padding-right: 1em; text-align: center; vertical-align: top\">0.001</td>\n",
       "        <td style=\"padding-left: 1em; padding-right: 1em; text-align: center; vertical-align: top\">50</td>\n",
       "        <td style=\"padding-left: 1em; padding-right: 1em; text-align: center; vertical-align: top\">16</td>\n",
       "        <td style=\"padding-left: 1em; padding-right: 1em; text-align: center; vertical-align: top\">4</td>\n",
       "        <td style=\"padding-left: 1em; padding-right: 1em; text-align: center; vertical-align: top\">0.1</td>\n",
       "    </tr>\n",
       "    <tr>\n",
       "        <td style=\"padding-left: 1em; padding-right: 1em; text-align: center; vertical-align: top\">4</td>\n",
       "        <td style=\"padding-left: 1em; padding-right: 1em; text-align: center; vertical-align: top\">movie</td>\n",
       "        <td style=\"padding-left: 1em; padding-right: 1em; text-align: center; vertical-align: top\">0.001</td>\n",
       "        <td style=\"padding-left: 1em; padding-right: 1em; text-align: center; vertical-align: top\">25</td>\n",
       "        <td style=\"padding-left: 1em; padding-right: 1em; text-align: center; vertical-align: top\">12</td>\n",
       "        <td style=\"padding-left: 1em; padding-right: 1em; text-align: center; vertical-align: top\">4</td>\n",
       "        <td style=\"padding-left: 1em; padding-right: 1em; text-align: center; vertical-align: top\">0.25</td>\n",
       "    </tr>\n",
       "</table>\n",
       "<table frame=\"box\" rules=\"cols\">\n",
       "    <tr>\n",
       "        <th style=\"padding-left: 1em; padding-right: 1em; text-align: center\">regularization</th>\n",
       "        <th style=\"padding-left: 1em; padding-right: 1em; text-align: center\">target</th>\n",
       "        <th style=\"padding-left: 1em; padding-right: 1em; text-align: center\">user_id</th>\n",
       "        <th style=\"padding-left: 1em; padding-right: 1em; text-align: center\">training_precision@5</th>\n",
       "        <th style=\"padding-left: 1em; padding-right: 1em; text-align: center\">training_recall@5</th>\n",
       "        <th style=\"padding-left: 1em; padding-right: 1em; text-align: center\">training_rmse</th>\n",
       "        <th style=\"padding-left: 1em; padding-right: 1em; text-align: center\">validation_precision@5</th>\n",
       "    </tr>\n",
       "    <tr>\n",
       "        <td style=\"padding-left: 1em; padding-right: 1em; text-align: center; vertical-align: top\">0.001</td>\n",
       "        <td style=\"padding-left: 1em; padding-right: 1em; text-align: center; vertical-align: top\">rating</td>\n",
       "        <td style=\"padding-left: 1em; padding-right: 1em; text-align: center; vertical-align: top\">user</td>\n",
       "        <td style=\"padding-left: 1em; padding-right: 1em; text-align: center; vertical-align: top\">0.343113772455</td>\n",
       "        <td style=\"padding-left: 1em; padding-right: 1em; text-align: center; vertical-align: top\">0.00876171469214</td>\n",
       "        <td style=\"padding-left: 1em; padding-right: 1em; text-align: center; vertical-align: top\">1.0212219536</td>\n",
       "        <td style=\"padding-left: 1em; padding-right: 1em; text-align: center; vertical-align: top\">0.136</td>\n",
       "    </tr>\n",
       "    <tr>\n",
       "        <td style=\"padding-left: 1em; padding-right: 1em; text-align: center; vertical-align: top\">0.001</td>\n",
       "        <td style=\"padding-left: 1em; padding-right: 1em; text-align: center; vertical-align: top\">rating</td>\n",
       "        <td style=\"padding-left: 1em; padding-right: 1em; text-align: center; vertical-align: top\">user</td>\n",
       "        <td style=\"padding-left: 1em; padding-right: 1em; text-align: center; vertical-align: top\">0.343113772455</td>\n",
       "        <td style=\"padding-left: 1em; padding-right: 1em; text-align: center; vertical-align: top\">0.00876171469214</td>\n",
       "        <td style=\"padding-left: 1em; padding-right: 1em; text-align: center; vertical-align: top\">0.963738769195</td>\n",
       "        <td style=\"padding-left: 1em; padding-right: 1em; text-align: center; vertical-align: top\">0.13</td>\n",
       "    </tr>\n",
       "    <tr>\n",
       "        <td style=\"padding-left: 1em; padding-right: 1em; text-align: center; vertical-align: top\">0.001</td>\n",
       "        <td style=\"padding-left: 1em; padding-right: 1em; text-align: center; vertical-align: top\">rating</td>\n",
       "        <td style=\"padding-left: 1em; padding-right: 1em; text-align: center; vertical-align: top\">user</td>\n",
       "        <td style=\"padding-left: 1em; padding-right: 1em; text-align: center; vertical-align: top\">0.343113772455</td>\n",
       "        <td style=\"padding-left: 1em; padding-right: 1em; text-align: center; vertical-align: top\">0.00876171469214</td>\n",
       "        <td style=\"padding-left: 1em; padding-right: 1em; text-align: center; vertical-align: top\">0.95876258495</td>\n",
       "        <td style=\"padding-left: 1em; padding-right: 1em; text-align: center; vertical-align: top\">0.13</td>\n",
       "    </tr>\n",
       "    <tr>\n",
       "        <td style=\"padding-left: 1em; padding-right: 1em; text-align: center; vertical-align: top\">0.001</td>\n",
       "        <td style=\"padding-left: 1em; padding-right: 1em; text-align: center; vertical-align: top\">rating</td>\n",
       "        <td style=\"padding-left: 1em; padding-right: 1em; text-align: center; vertical-align: top\">user</td>\n",
       "        <td style=\"padding-left: 1em; padding-right: 1em; text-align: center; vertical-align: top\">0.343113772455</td>\n",
       "        <td style=\"padding-left: 1em; padding-right: 1em; text-align: center; vertical-align: top\">0.00876171469214</td>\n",
       "        <td style=\"padding-left: 1em; padding-right: 1em; text-align: center; vertical-align: top\">0.958716636348</td>\n",
       "        <td style=\"padding-left: 1em; padding-right: 1em; text-align: center; vertical-align: top\">0.128</td>\n",
       "    </tr>\n",
       "    <tr>\n",
       "        <td style=\"padding-left: 1em; padding-right: 1em; text-align: center; vertical-align: top\">0.001</td>\n",
       "        <td style=\"padding-left: 1em; padding-right: 1em; text-align: center; vertical-align: top\">rating</td>\n",
       "        <td style=\"padding-left: 1em; padding-right: 1em; text-align: center; vertical-align: top\">user</td>\n",
       "        <td style=\"padding-left: 1em; padding-right: 1em; text-align: center; vertical-align: top\">0.343113772455</td>\n",
       "        <td style=\"padding-left: 1em; padding-right: 1em; text-align: center; vertical-align: top\">0.00876171469214</td>\n",
       "        <td style=\"padding-left: 1em; padding-right: 1em; text-align: center; vertical-align: top\">1.02112743337</td>\n",
       "        <td style=\"padding-left: 1em; padding-right: 1em; text-align: center; vertical-align: top\">0.132</td>\n",
       "    </tr>\n",
       "</table>\n",
       "<table frame=\"box\" rules=\"cols\">\n",
       "    <tr>\n",
       "        <th style=\"padding-left: 1em; padding-right: 1em; text-align: center\">validation_recall@5</th>\n",
       "        <th style=\"padding-left: 1em; padding-right: 1em; text-align: center\">validation_rmse</th>\n",
       "    </tr>\n",
       "    <tr>\n",
       "        <td style=\"padding-left: 1em; padding-right: 1em; text-align: center; vertical-align: top\">0.013476647209</td>\n",
       "        <td style=\"padding-left: 1em; padding-right: 1em; text-align: center; vertical-align: top\">1.03276903381</td>\n",
       "    </tr>\n",
       "    <tr>\n",
       "        <td style=\"padding-left: 1em; padding-right: 1em; text-align: center; vertical-align: top\">0.0127847906784</td>\n",
       "        <td style=\"padding-left: 1em; padding-right: 1em; text-align: center; vertical-align: top\">0.979829082521</td>\n",
       "    </tr>\n",
       "    <tr>\n",
       "        <td style=\"padding-left: 1em; padding-right: 1em; text-align: center; vertical-align: top\">0.0132007997687</td>\n",
       "        <td style=\"padding-left: 1em; padding-right: 1em; text-align: center; vertical-align: top\">0.975865328724</td>\n",
       "    </tr>\n",
       "    <tr>\n",
       "        <td style=\"padding-left: 1em; padding-right: 1em; text-align: center; vertical-align: top\">0.0126452442132</td>\n",
       "        <td style=\"padding-left: 1em; padding-right: 1em; text-align: center; vertical-align: top\">0.975950897341</td>\n",
       "    </tr>\n",
       "    <tr>\n",
       "        <td style=\"padding-left: 1em; padding-right: 1em; text-align: center; vertical-align: top\">0.0129745104568</td>\n",
       "        <td style=\"padding-left: 1em; padding-right: 1em; text-align: center; vertical-align: top\">1.03281822189</td>\n",
       "    </tr>\n",
       "</table>\n",
       "[5 rows x 16 columns]<br/>\n",
       "</div>"
      ],
      "text/plain": [
       "Columns:\n",
       "\tmodel_id\tint\n",
       "\titem_id\tstr\n",
       "\tlinear_regularization\tfloat\n",
       "\tmax_iterations\tint\n",
       "\tnum_factors\tint\n",
       "\tnum_sampled_negative_examples\tint\n",
       "\tranking_regularization\tfloat\n",
       "\tregularization\tfloat\n",
       "\ttarget\tstr\n",
       "\tuser_id\tstr\n",
       "\ttraining_precision@5\tfloat\n",
       "\ttraining_recall@5\tfloat\n",
       "\ttraining_rmse\tfloat\n",
       "\tvalidation_precision@5\tfloat\n",
       "\tvalidation_recall@5\tfloat\n",
       "\tvalidation_rmse\tfloat\n",
       "\n",
       "Rows: 5\n",
       "\n",
       "Data:\n",
       "+----------+---------+-----------------------+----------------+-------------+-------------------------------+\n",
       "| model_id | item_id | linear_regularization | max_iterations | num_factors | num_sampled_negative_examples |\n",
       "+----------+---------+-----------------------+----------------+-------------+-------------------------------+\n",
       "|    1     |  movie  |         0.001         |       50       |      16     |               4               |\n",
       "|    0     |  movie  |         0.001         |       50       |      24     |               8               |\n",
       "|    3     |  movie  |         0.001         |       50       |      16     |               4               |\n",
       "|    2     |  movie  |         0.001         |       50       |      16     |               4               |\n",
       "|    4     |  movie  |         0.001         |       25       |      12     |               4               |\n",
       "+----------+---------+-----------------------+----------------+-------------+-------------------------------+\n",
       "+------------------------+----------------+--------+---------+----------------------+\n",
       "| ranking_regularization | regularization | target | user_id | training_precision@5 |\n",
       "+------------------------+----------------+--------+---------+----------------------+\n",
       "|          0.25          |     0.001      | rating |   user  |    0.343113772455    |\n",
       "|          0.1           |     0.001      | rating |   user  |    0.343113772455    |\n",
       "|          0.1           |     0.001      | rating |   user  |    0.343113772455    |\n",
       "|          0.1           |     0.001      | rating |   user  |    0.343113772455    |\n",
       "|          0.25          |     0.001      | rating |   user  |    0.343113772455    |\n",
       "+------------------------+----------------+--------+---------+----------------------+\n",
       "+-------------------+----------------+------------------------+---------------------+\n",
       "| training_recall@5 | training_rmse  | validation_precision@5 | validation_recall@5 |\n",
       "+-------------------+----------------+------------------------+---------------------+\n",
       "|  0.00876171469214 |  1.0212219536  |         0.136          |    0.013476647209   |\n",
       "|  0.00876171469214 | 0.963738769195 |          0.13          |   0.0127847906784   |\n",
       "|  0.00876171469214 | 0.95876258495  |          0.13          |   0.0132007997687   |\n",
       "|  0.00876171469214 | 0.958716636348 |         0.128          |   0.0126452442132   |\n",
       "|  0.00876171469214 | 1.02112743337  |         0.132          |   0.0129745104568   |\n",
       "+-------------------+----------------+------------------------+---------------------+\n",
       "+-----------------+\n",
       "| validation_rmse |\n",
       "+-----------------+\n",
       "|  1.03276903381  |\n",
       "|  0.979829082521 |\n",
       "|  0.975865328724 |\n",
       "|  0.975950897341 |\n",
       "|  1.03281822189  |\n",
       "+-----------------+\n",
       "[5 rows x 16 columns]"
      ]
     },
     "execution_count": 25,
     "metadata": {},
     "output_type": "execute_result"
    }
   ],
   "source": [
    "job_result = job.get_results()\n",
    "\n",
    "job_result.head()"
   ]
  },
  {
   "cell_type": "code",
   "execution_count": 26,
   "metadata": {
    "collapsed": false
   },
   "outputs": [
    {
     "data": {
      "text/plain": [
       "{'item_id': 'movie',\n",
       " 'linear_regularization': 0.001,\n",
       " 'max_iterations': 50,\n",
       " 'num_factors': 16,\n",
       " 'num_sampled_negative_examples': 4,\n",
       " 'ranking_regularization': 0.1,\n",
       " 'regularization': 0.001,\n",
       " 'target': 'rating',\n",
       " 'user_id': 'user'}"
      ]
     },
     "execution_count": 26,
     "metadata": {},
     "output_type": "execute_result"
    }
   ],
   "source": [
    "bst_prms = job.get_best_params()\n",
    "bst_prms"
   ]
  },
  {
   "cell_type": "code",
   "execution_count": 27,
   "metadata": {
    "collapsed": false,
    "scrolled": true
   },
   "outputs": [
    {
     "data": {
      "text/plain": [
       "[Class                            : RankingFactorizationRecommender\n",
       " \n",
       " Schema\n",
       " ------\n",
       " User ID                          : user\n",
       " Item ID                          : movie\n",
       " Target                           : rating\n",
       " Additional observation features  : 0\n",
       " User side features               : []\n",
       " Item side features               : []\n",
       " \n",
       " Statistics\n",
       " ----------\n",
       " Number of observations           : 77252\n",
       " Number of users                  : 334\n",
       " Number of items                  : 7474\n",
       " \n",
       " Training summary\n",
       " ----------------\n",
       " Training time                    : 6.7992\n",
       " \n",
       " Model Parameters\n",
       " ----------------\n",
       " Model class                      : RankingFactorizationRecommender\n",
       " num_factors                      : 24\n",
       " binary_target                    : 0\n",
       " side_data_factorization          : 1\n",
       " solver                           : auto\n",
       " nmf                              : 0\n",
       " max_iterations                   : 50\n",
       " \n",
       " Regularization Settings\n",
       " -----------------------\n",
       " regularization                   : 0.001\n",
       " regularization_type              : normal\n",
       " linear_regularization            : 0.001\n",
       " ranking_regularization           : 0.1\n",
       " unobserved_rating_value          : -1.79769313486e+308\n",
       " num_sampled_negative_examples    : 8\n",
       " ials_confidence_scaling_type     : auto\n",
       " ials_confidence_scaling_factor   : 1\n",
       " \n",
       " Optimization Settings\n",
       " ---------------------\n",
       " init_random_sigma                : 0.01\n",
       " sgd_convergence_interval         : 4\n",
       " sgd_convergence_threshold        : 0.0\n",
       " sgd_max_trial_iterations         : 5\n",
       " sgd_sampling_block_size          : 131072\n",
       " sgd_step_adjustment_interval     : 4\n",
       " sgd_step_size                    : 0.0\n",
       " sgd_trial_sample_minimum_size    : 10000\n",
       " sgd_trial_sample_proportion      : 0.125\n",
       " step_size_decrease_rate          : 0.75\n",
       " additional_iterations_if_unhealthy : 5\n",
       " adagrad_momentum_weighting       : 0.9\n",
       " num_tempering_iterations         : 4\n",
       " tempering_regularization_start_value : 0.0\n",
       " track_exact_loss                 : 0,\n",
       " Class                            : RankingFactorizationRecommender\n",
       " \n",
       " Schema\n",
       " ------\n",
       " User ID                          : user\n",
       " Item ID                          : movie\n",
       " Target                           : rating\n",
       " Additional observation features  : 0\n",
       " User side features               : []\n",
       " Item side features               : []\n",
       " \n",
       " Statistics\n",
       " ----------\n",
       " Number of observations           : 77252\n",
       " Number of users                  : 334\n",
       " Number of items                  : 7474\n",
       " \n",
       " Training summary\n",
       " ----------------\n",
       " Training time                    : 5.0819\n",
       " \n",
       " Model Parameters\n",
       " ----------------\n",
       " Model class                      : RankingFactorizationRecommender\n",
       " num_factors                      : 16\n",
       " binary_target                    : 0\n",
       " side_data_factorization          : 1\n",
       " solver                           : auto\n",
       " nmf                              : 0\n",
       " max_iterations                   : 50\n",
       " \n",
       " Regularization Settings\n",
       " -----------------------\n",
       " regularization                   : 0.001\n",
       " regularization_type              : normal\n",
       " linear_regularization            : 0.001\n",
       " ranking_regularization           : 0.25\n",
       " unobserved_rating_value          : -1.79769313486e+308\n",
       " num_sampled_negative_examples    : 4\n",
       " ials_confidence_scaling_type     : auto\n",
       " ials_confidence_scaling_factor   : 1\n",
       " \n",
       " Optimization Settings\n",
       " ---------------------\n",
       " init_random_sigma                : 0.01\n",
       " sgd_convergence_interval         : 4\n",
       " sgd_convergence_threshold        : 0.0\n",
       " sgd_max_trial_iterations         : 5\n",
       " sgd_sampling_block_size          : 131072\n",
       " sgd_step_adjustment_interval     : 4\n",
       " sgd_step_size                    : 0.0\n",
       " sgd_trial_sample_minimum_size    : 10000\n",
       " sgd_trial_sample_proportion      : 0.125\n",
       " step_size_decrease_rate          : 0.75\n",
       " additional_iterations_if_unhealthy : 5\n",
       " adagrad_momentum_weighting       : 0.9\n",
       " num_tempering_iterations         : 4\n",
       " tempering_regularization_start_value : 0.0\n",
       " track_exact_loss                 : 0,\n",
       " Class                            : RankingFactorizationRecommender\n",
       " \n",
       " Schema\n",
       " ------\n",
       " User ID                          : user\n",
       " Item ID                          : movie\n",
       " Target                           : rating\n",
       " Additional observation features  : 0\n",
       " User side features               : []\n",
       " Item side features               : []\n",
       " \n",
       " Statistics\n",
       " ----------\n",
       " Number of observations           : 77252\n",
       " Number of users                  : 334\n",
       " Number of items                  : 7474\n",
       " \n",
       " Training summary\n",
       " ----------------\n",
       " Training time                    : 5.1761\n",
       " \n",
       " Model Parameters\n",
       " ----------------\n",
       " Model class                      : RankingFactorizationRecommender\n",
       " num_factors                      : 16\n",
       " binary_target                    : 0\n",
       " side_data_factorization          : 1\n",
       " solver                           : auto\n",
       " nmf                              : 0\n",
       " max_iterations                   : 50\n",
       " \n",
       " Regularization Settings\n",
       " -----------------------\n",
       " regularization                   : 0.001\n",
       " regularization_type              : normal\n",
       " linear_regularization            : 0.001\n",
       " ranking_regularization           : 0.1\n",
       " unobserved_rating_value          : -1.79769313486e+308\n",
       " num_sampled_negative_examples    : 4\n",
       " ials_confidence_scaling_type     : auto\n",
       " ials_confidence_scaling_factor   : 1\n",
       " \n",
       " Optimization Settings\n",
       " ---------------------\n",
       " init_random_sigma                : 0.01\n",
       " sgd_convergence_interval         : 4\n",
       " sgd_convergence_threshold        : 0.0\n",
       " sgd_max_trial_iterations         : 5\n",
       " sgd_sampling_block_size          : 131072\n",
       " sgd_step_adjustment_interval     : 4\n",
       " sgd_step_size                    : 0.0\n",
       " sgd_trial_sample_minimum_size    : 10000\n",
       " sgd_trial_sample_proportion      : 0.125\n",
       " step_size_decrease_rate          : 0.75\n",
       " additional_iterations_if_unhealthy : 5\n",
       " adagrad_momentum_weighting       : 0.9\n",
       " num_tempering_iterations         : 4\n",
       " tempering_regularization_start_value : 0.0\n",
       " track_exact_loss                 : 0,\n",
       " Class                            : RankingFactorizationRecommender\n",
       " \n",
       " Schema\n",
       " ------\n",
       " User ID                          : user\n",
       " Item ID                          : movie\n",
       " Target                           : rating\n",
       " Additional observation features  : 0\n",
       " User side features               : []\n",
       " Item side features               : []\n",
       " \n",
       " Statistics\n",
       " ----------\n",
       " Number of observations           : 77252\n",
       " Number of users                  : 334\n",
       " Number of items                  : 7474\n",
       " \n",
       " Training summary\n",
       " ----------------\n",
       " Training time                    : 5.2522\n",
       " \n",
       " Model Parameters\n",
       " ----------------\n",
       " Model class                      : RankingFactorizationRecommender\n",
       " num_factors                      : 16\n",
       " binary_target                    : 0\n",
       " side_data_factorization          : 1\n",
       " solver                           : auto\n",
       " nmf                              : 0\n",
       " max_iterations                   : 50\n",
       " \n",
       " Regularization Settings\n",
       " -----------------------\n",
       " regularization                   : 0.001\n",
       " regularization_type              : normal\n",
       " linear_regularization            : 0.001\n",
       " ranking_regularization           : 0.1\n",
       " unobserved_rating_value          : -1.79769313486e+308\n",
       " num_sampled_negative_examples    : 4\n",
       " ials_confidence_scaling_type     : auto\n",
       " ials_confidence_scaling_factor   : 1\n",
       " \n",
       " Optimization Settings\n",
       " ---------------------\n",
       " init_random_sigma                : 0.01\n",
       " sgd_convergence_interval         : 4\n",
       " sgd_convergence_threshold        : 0.0\n",
       " sgd_max_trial_iterations         : 5\n",
       " sgd_sampling_block_size          : 131072\n",
       " sgd_step_adjustment_interval     : 4\n",
       " sgd_step_size                    : 0.0\n",
       " sgd_trial_sample_minimum_size    : 10000\n",
       " sgd_trial_sample_proportion      : 0.125\n",
       " step_size_decrease_rate          : 0.75\n",
       " additional_iterations_if_unhealthy : 5\n",
       " adagrad_momentum_weighting       : 0.9\n",
       " num_tempering_iterations         : 4\n",
       " tempering_regularization_start_value : 0.0\n",
       " track_exact_loss                 : 0,\n",
       " Class                            : RankingFactorizationRecommender\n",
       " \n",
       " Schema\n",
       " ------\n",
       " User ID                          : user\n",
       " Item ID                          : movie\n",
       " Target                           : rating\n",
       " Additional observation features  : 0\n",
       " User side features               : []\n",
       " Item side features               : []\n",
       " \n",
       " Statistics\n",
       " ----------\n",
       " Number of observations           : 77252\n",
       " Number of users                  : 334\n",
       " Number of items                  : 7474\n",
       " \n",
       " Training summary\n",
       " ----------------\n",
       " Training time                    : 3.441\n",
       " \n",
       " Model Parameters\n",
       " ----------------\n",
       " Model class                      : RankingFactorizationRecommender\n",
       " num_factors                      : 12\n",
       " binary_target                    : 0\n",
       " side_data_factorization          : 1\n",
       " solver                           : auto\n",
       " nmf                              : 0\n",
       " max_iterations                   : 25\n",
       " \n",
       " Regularization Settings\n",
       " -----------------------\n",
       " regularization                   : 0.001\n",
       " regularization_type              : normal\n",
       " linear_regularization            : 0.001\n",
       " ranking_regularization           : 0.25\n",
       " unobserved_rating_value          : -1.79769313486e+308\n",
       " num_sampled_negative_examples    : 4\n",
       " ials_confidence_scaling_type     : auto\n",
       " ials_confidence_scaling_factor   : 1\n",
       " \n",
       " Optimization Settings\n",
       " ---------------------\n",
       " init_random_sigma                : 0.01\n",
       " sgd_convergence_interval         : 4\n",
       " sgd_convergence_threshold        : 0.0\n",
       " sgd_max_trial_iterations         : 5\n",
       " sgd_sampling_block_size          : 131072\n",
       " sgd_step_adjustment_interval     : 4\n",
       " sgd_step_size                    : 0.0\n",
       " sgd_trial_sample_minimum_size    : 10000\n",
       " sgd_trial_sample_proportion      : 0.125\n",
       " step_size_decrease_rate          : 0.75\n",
       " additional_iterations_if_unhealthy : 5\n",
       " adagrad_momentum_weighting       : 0.9\n",
       " num_tempering_iterations         : 4\n",
       " tempering_regularization_start_value : 0.0\n",
       " track_exact_loss                 : 0]"
      ]
     },
     "execution_count": 27,
     "metadata": {},
     "output_type": "execute_result"
    }
   ],
   "source": [
    "models = job.get_models()\n",
    "models"
   ]
  },
  {
   "cell_type": "code",
   "execution_count": 28,
   "metadata": {
    "collapsed": false,
    "scrolled": false
   },
   "outputs": [
    {
     "name": "stdout",
     "output_type": "stream",
     "text": [
      "PROGRESS: Evaluate model M0\n",
      "\n",
      "Precision and recall summary statistics by cutoff\n",
      "+--------+----------------+------------------+\n",
      "| cutoff | mean_precision |   mean_recall    |\n",
      "+--------+----------------+------------------+\n",
      "|   1    |      0.2       | 0.00370998561923 |\n",
      "|   2    |     0.165      | 0.0063380268465  |\n",
      "|   3    | 0.146666666667 | 0.00871312091682 |\n",
      "|   4    |     0.1375     | 0.0107087972136  |\n",
      "|   5    |      0.13      | 0.0127847906784  |\n",
      "|   6    | 0.123333333333 | 0.0146200367876  |\n",
      "|   7    | 0.118571428571 | 0.0173911945869  |\n",
      "|   8    |      0.11      | 0.0184748874076  |\n",
      "|   9    | 0.113333333333 | 0.0219346654043  |\n",
      "|   10   |     0.108      | 0.0230003206733  |\n",
      "+--------+----------------+------------------+\n",
      "[10 rows x 3 columns]\n",
      "\n",
      "PROGRESS: Evaluate model M1\n",
      "\n",
      "Precision and recall summary statistics by cutoff\n",
      "+--------+----------------+------------------+\n",
      "| cutoff | mean_precision |   mean_recall    |\n",
      "+--------+----------------+------------------+\n",
      "|   1    |      0.19      | 0.00315443006367 |\n",
      "|   2    |     0.165      | 0.00613410527787 |\n",
      "|   3    | 0.143333333333 | 0.00837298875572 |\n",
      "|   4    |     0.1425     | 0.0113604262863  |\n",
      "|   5    |     0.136      |  0.013476647209  |\n",
      "|   6    | 0.126666666667 | 0.0154712102301  |\n",
      "|   7    |      0.12      | 0.0173563128237  |\n",
      "|   8    |     0.1175     | 0.0199242596492  |\n",
      "|   9    | 0.115555555556 | 0.0220479142983  |\n",
      "|   10   |     0.114      | 0.0241481401085  |\n",
      "+--------+----------------+------------------+\n",
      "[10 rows x 3 columns]\n",
      "\n",
      "PROGRESS: Evaluate model M2\n",
      "\n",
      "Precision and recall summary statistics by cutoff\n",
      "+--------+----------------+------------------+\n",
      "| cutoff | mean_precision |   mean_recall    |\n",
      "+--------+----------------+------------------+\n",
      "|   1    |      0.19      | 0.00357299931786 |\n",
      "|   2    |      0.16      | 0.00596899837445 |\n",
      "|   3    |      0.15      | 0.00887185107555 |\n",
      "|   4    |     0.135      |  0.010926475145  |\n",
      "|   5    |     0.128      | 0.0126452442132  |\n",
      "|   6    | 0.126666666667 | 0.0158787183968  |\n",
      "|   7    | 0.121428571429 | 0.0178299604487  |\n",
      "|   8    |     0.1125     | 0.0191516776205  |\n",
      "|   9    | 0.105555555556 | 0.0200556469388  |\n",
      "|   10   |     0.105      | 0.0223083205157  |\n",
      "+--------+----------------+------------------+\n",
      "[10 rows x 3 columns]\n",
      "\n",
      "PROGRESS: Evaluate model M3\n",
      "\n",
      "Precision and recall summary statistics by cutoff\n",
      "+--------+----------------+------------------+\n",
      "| cutoff | mean_precision |   mean_recall    |\n",
      "+--------+----------------+------------------+\n",
      "|   1    |      0.18      | 0.00332299931786 |\n",
      "|   2    |      0.16      | 0.00596899837445 |\n",
      "|   3    | 0.146666666667 | 0.00876658791766 |\n",
      "|   4    |      0.13      | 0.0103097768528  |\n",
      "|   5    |      0.13      | 0.0132007997687  |\n",
      "|   6    |     0.125      | 0.0158087883269  |\n",
      "|   7    | 0.121428571429 | 0.0178299604487  |\n",
      "|   8    |     0.1125     | 0.0191516776205  |\n",
      "|   9    | 0.105555555556 | 0.0200556469388  |\n",
      "|   10   |     0.104      | 0.0240792564763  |\n",
      "+--------+----------------+------------------+\n",
      "[10 rows x 3 columns]\n",
      "\n",
      "PROGRESS: Evaluate model M4\n",
      "\n",
      "Precision and recall summary statistics by cutoff\n",
      "+--------+----------------+------------------+\n",
      "| cutoff | mean_precision |   mean_recall    |\n",
      "+--------+----------------+------------------+\n",
      "|   1    |      0.19      | 0.00315443006367 |\n",
      "|   2    |     0.165      | 0.00613410527787 |\n",
      "|   3    | 0.146666666667 | 0.00839608459692 |\n",
      "|   4    |      0.14      | 0.0110378456412  |\n",
      "|   5    |     0.132      | 0.0129745104568  |\n",
      "|   6    | 0.123333333333 |  0.014969073478  |\n",
      "|   7    | 0.121428571429 | 0.0181132340426  |\n",
      "|   8    |     0.115      | 0.0199209073634  |\n",
      "|   9    | 0.116666666667 |  0.022685024858  |\n",
      "|   10   |     0.113      | 0.0241236303045  |\n",
      "+--------+----------------+------------------+\n",
      "[10 rows x 3 columns]\n",
      "\n",
      "Model compare metric: precision_recall\n"
     ]
    },
    {
     "data": {},
     "metadata": {},
     "output_type": "display_data"
    }
   ],
   "source": [
    "comparisonstruct = gl.compare(test,models)\n",
    "gl.show_comparison(comparisonstruct,models)"
   ]
  },
  {
   "cell_type": "code",
   "execution_count": 29,
   "metadata": {
    "collapsed": false
   },
   "outputs": [
    {
     "data": {
      "text/plain": [
       "Class                            : RankingFactorizationRecommender\n",
       "\n",
       "Schema\n",
       "------\n",
       "User ID                          : user\n",
       "Item ID                          : movie\n",
       "Target                           : rating\n",
       "Additional observation features  : 0\n",
       "User side features               : []\n",
       "Item side features               : []\n",
       "\n",
       "Statistics\n",
       "----------\n",
       "Number of observations           : 77252\n",
       "Number of users                  : 334\n",
       "Number of items                  : 7474\n",
       "\n",
       "Training summary\n",
       "----------------\n",
       "Training time                    : 5.0819\n",
       "\n",
       "Model Parameters\n",
       "----------------\n",
       "Model class                      : RankingFactorizationRecommender\n",
       "num_factors                      : 16\n",
       "binary_target                    : 0\n",
       "side_data_factorization          : 1\n",
       "solver                           : auto\n",
       "nmf                              : 0\n",
       "max_iterations                   : 50\n",
       "\n",
       "Regularization Settings\n",
       "-----------------------\n",
       "regularization                   : 0.001\n",
       "regularization_type              : normal\n",
       "linear_regularization            : 0.001\n",
       "ranking_regularization           : 0.25\n",
       "unobserved_rating_value          : -1.79769313486e+308\n",
       "num_sampled_negative_examples    : 4\n",
       "ials_confidence_scaling_type     : auto\n",
       "ials_confidence_scaling_factor   : 1\n",
       "\n",
       "Optimization Settings\n",
       "---------------------\n",
       "init_random_sigma                : 0.01\n",
       "sgd_convergence_interval         : 4\n",
       "sgd_convergence_threshold        : 0.0\n",
       "sgd_max_trial_iterations         : 5\n",
       "sgd_sampling_block_size          : 131072\n",
       "sgd_step_adjustment_interval     : 4\n",
       "sgd_step_size                    : 0.0\n",
       "sgd_trial_sample_minimum_size    : 10000\n",
       "sgd_trial_sample_proportion      : 0.125\n",
       "step_size_decrease_rate          : 0.75\n",
       "additional_iterations_if_unhealthy : 5\n",
       "adagrad_momentum_weighting       : 0.9\n",
       "num_tempering_iterations         : 4\n",
       "tempering_regularization_start_value : 0.0\n",
       "track_exact_loss                 : 0"
      ]
     },
     "execution_count": 29,
     "metadata": {},
     "output_type": "execute_result"
    }
   ],
   "source": [
    "models[1]"
   ]
  },
  {
   "cell_type": "code",
   "execution_count": null,
   "metadata": {
    "collapsed": true
   },
   "outputs": [],
   "source": [
    ""
   ]
  }
 ],
 "metadata": {
  "kernelspec": {
   "display_name": "Python [conda env:gl-env]",
   "language": "python",
   "name": "conda-env-gl-env-py"
  },
  "language_info": {
   "codemirror_mode": {
    "name": "ipython",
    "version": 2.0
   },
   "file_extension": ".py",
   "mimetype": "text/x-python",
   "name": "python",
   "nbconvert_exporter": "python",
   "pygments_lexer": "ipython2",
   "version": "2.7.12"
  }
 },
 "nbformat": 4,
 "nbformat_minor": 0
}