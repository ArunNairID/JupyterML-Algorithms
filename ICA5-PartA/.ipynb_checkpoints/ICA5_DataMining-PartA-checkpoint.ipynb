{
 "cells": [
  {
   "cell_type": "code",
   "execution_count": 1,
   "metadata": {
    "collapsed": false
   },
   "outputs": [
    {
     "data": {
      "text/html": [
       "<link href='https://fonts.googleapis.com/css?family=Passion+One' rel='stylesheet' type='text/css'><style>div.attn { font-family: 'Helvetica Neue'; font-size: 30px; line-height: 40px; color: #FFFFFF; text-align: center; margin: 30px 0; border-width: 10px 0; border-style: solid; border-color: #5AAAAA; padding: 30px 0; background-color: #DDDDFF; }hr { border: 0; background-color: #ffffff; border-top: 1px solid black; }hr.major { border-top: 10px solid #5AAA5A; }hr.minor { border: none; background-color: #ffffff; border-top: 5px dotted #CC3333; }div.bubble { width: 65%; padding: 20px; background: #DDDDDD; border-radius: 15px; margin: 0 auto; font-style: italic; color: #f00; }em { color: #AAA; }div.c1{visibility:hidden;margin:0;height:0;}div.note{color:red;}</style>"
      ],
      "text/plain": [
       "<IPython.core.display.HTML object>"
      ]
     },
     "execution_count": 1,
     "metadata": {},
     "output_type": "execute_result"
    }
   ],
   "source": [
    "#  Ebnable HTML/CSS \n",
    "from IPython.core.display import HTML\n",
    "HTML(\"<link href='https://fonts.googleapis.com/css?family=Passion+One' rel='stylesheet' type='text/css'><style>div.attn { font-family: 'Helvetica Neue'; font-size: 30px; line-height: 40px; color: #FFFFFF; text-align: center; margin: 30px 0; border-width: 10px 0; border-style: solid; border-color: #5AAAAA; padding: 30px 0; background-color: #DDDDFF; }hr { border: 0; background-color: #ffffff; border-top: 1px solid black; }hr.major { border-top: 10px solid #5AAA5A; }hr.minor { border: none; background-color: #ffffff; border-top: 5px dotted #CC3333; }div.bubble { width: 65%; padding: 20px; background: #DDDDDD; border-radius: 15px; margin: 0 auto; font-style: italic; color: #f00; }em { color: #AAA; }div.c1{visibility:hidden;margin:0;height:0;}div.note{color:red;}</style>\")"
   ]
  },
  {
   "cell_type": "markdown",
   "metadata": {},
   "source": [
    "___\n",
    "Enter Team Member Names here (double click to edit):\n",
    "\n",
    "- Name 1:\n",
    "- Name 2:\n",
    "- Name 3:"
   ]
  },
  {
   "cell_type": "markdown",
   "metadata": {},
   "source": [
    "________\n",
    "\n",
    "# In Class Assignment Five\n",
    "In the following assignment you will be asked to fill in python code and derivations for a number of different problems. Please read all instructions carefully and turn in the rendered notebook (or HTML of the rendered notebook) before the end of class. Be sure to save the notebook before uploading.\n",
    "\n",
    "<a id=\"top\"></a>\n",
    "## Contents\n",
    "* <a href=\"#testing\">Testing R Magics</a>\n",
    "* <a href=\"#understand\">Understanding the Data Representation</a>\n",
    "* <a href=\"#apriori\">Finding Frequent Items</a>\n",
    "\n",
    "** The following will be available during live session: **\n",
    "* <a href=\"#candidates\">Generating Candidates</a>\n",
    "* <a href=\"#arules\">Using ARules and ARulesViz</a>\n",
    "\n",
    "________________________________________________________________________________________________________\n",
    "\n",
    "<a id=\"testing\"></a>\n",
    "<a href=\"#top\">Back to Top</a>\n",
    "\n",
    "## Running in the 'R' Ecosystem with magics\n",
    "If you did not get Rpy2, R, or the dependencies arules and arulesViz installed on your system, then you will need to skip this part and go on to the first question. You will need to run the appropriate block of code in this notebook depending on if you have Rpy2 running or not. Each block is marked appropriately, so read the block before running it. "
   ]
  },
  {
   "cell_type": "code",
   "execution_count": 2,
   "metadata": {
    "collapsed": false
   },
   "outputs": [],
   "source": [
    "# getting things started\n",
    "import time\n",
    "import matplotlib.pyplot as plt\n",
    "import numpy as np\n",
    "import pandas as pd\n",
    "%matplotlib inline"
   ]
  },
  {
   "cell_type": "code",
   "execution_count": 3,
   "metadata": {
    "collapsed": false
   },
   "outputs": [
    {
     "ename": "ImportError",
     "evalue": "No module named 'rpy2'",
     "output_type": "error",
     "traceback": [
      "\u001b[0;31m---------------------------------------------------------------------------\u001b[0m",
      "\u001b[0;31mImportError\u001b[0m                               Traceback (most recent call last)",
      "\u001b[0;32m<ipython-input-3-8068c7bfdca6>\u001b[0m in \u001b[0;36m<module>\u001b[0;34m()\u001b[0m\n\u001b[1;32m      3\u001b[0m \u001b[1;31m#==========================\u001b[0m\u001b[1;33m\u001b[0m\u001b[1;33m\u001b[0m\u001b[0m\n\u001b[1;32m      4\u001b[0m \u001b[1;31m# You will need to have R installed, as well as Rpy2 and the arules library\u001b[0m\u001b[1;33m\u001b[0m\u001b[1;33m\u001b[0m\u001b[0m\n\u001b[0;32m----> 5\u001b[0;31m \u001b[1;32mfrom\u001b[0m \u001b[0mrpy2\u001b[0m\u001b[1;33m.\u001b[0m\u001b[0mrobjects\u001b[0m\u001b[1;33m.\u001b[0m\u001b[0mpackages\u001b[0m \u001b[1;32mimport\u001b[0m \u001b[0mimportr\u001b[0m\u001b[1;33m\u001b[0m\u001b[0m\n\u001b[0m\u001b[1;32m      6\u001b[0m \u001b[1;32mfrom\u001b[0m \u001b[0mrpy2\u001b[0m \u001b[1;32mimport\u001b[0m \u001b[0mrobjects\u001b[0m \u001b[1;32mas\u001b[0m \u001b[0mrobj\u001b[0m\u001b[1;33m\u001b[0m\u001b[0m\n\u001b[1;32m      7\u001b[0m \u001b[1;33m\u001b[0m\u001b[0m\n",
      "\u001b[0;31mImportError\u001b[0m: No module named 'rpy2'"
     ]
    }
   ],
   "source": [
    "#==========================\n",
    "#IF USING R, RUN THIS CODE\n",
    "#==========================\n",
    "# You will need to have R installed, as well as Rpy2 and the arules library\n",
    "from rpy2.robjects.packages import importr\n",
    "from rpy2 import robjects as robj\n",
    "\n",
    "# this way we can write r code by simply writing %R\n",
    "%load_ext rmagic\n",
    "%load_ext rpy2.ipython \n",
    "# this enables the %R extension to iPython (does not work outside of the iPython shell)\n",
    "\n",
    "# these packages will need to be installed\n",
    "# open R and run \n",
    "#     install.package(arules)\n",
    "#     install.package(arulesViz)\n",
    "\n",
    "arules = importr('arules') # same as importing in R with the \"library\" command\n",
    "arules_viz = importr('arulesViz') # visualize the different rules"
   ]
  },
  {
   "cell_type": "markdown",
   "metadata": {},
   "source": [
    "If you receive a warning on the above block, try to run it again and verify that everything is loaded properly.\n",
    "___"
   ]
  },
  {
   "cell_type": "code",
   "execution_count": 38,
   "metadata": {
    "collapsed": false,
    "scrolled": false
   },
   "outputs": [
    {
     "data": {
      "text/plain": [
       "\n",
       "Parameter specification:\n",
       " confidence minval smax arem  aval originalSupport support minlen maxlen target\n",
       "        0.8    0.1    1 none FALSE            TRUE    0.05      2     10  rules\n",
       "   ext\n",
       " FALSE\n",
       "\n",
       "Algorithmic control:\n",
       " filter tree heap memopt load sort verbose\n",
       "    0.1 TRUE TRUE  FALSE TRUE    2    TRUE\n",
       "\n",
       "apriori - find association rules with the apriori algorithm\n",
       "version 4.21 (2004.05.09)        (c) 1996-2004   Christian Borgelt\n",
       "set item appearances ...[0 item(s)] done [0.00s].\n",
       "set transactions ...[10 item(s), 2201 transaction(s)] done [0.00s].\n",
       "sorting and recoding items ... [9 item(s)] done [0.00s].\n",
       "creating transaction tree ... done [0.00s].\n",
       "checking subsets of size 1 2 3 4 done [0.00s].\n",
       "writing ... [49 rule(s)] done [0.00s].\n",
       "creating S4 object  ... done [0.00s].\n"
      ]
     },
     "metadata": {},
     "output_type": "display_data"
    },
    {
     "data": {
      "image/png": "[encoded data removed]"
     },
     "metadata": {},
     "output_type": "display_data"
    },
    {
     "name": "stdout",
     "output_type": "stream",
     "text": [
      "Arules run now from R, test complete\n"
     ]
    }
   ],
   "source": [
    "#==========================\n",
    "#IF USING R, RUN THIS CODE\n",
    "#==========================\n",
    "\n",
    "%R load(\"titanic2.raw.rdata\")\n",
    "%R rules <- apriori(titanic.raw,parameter = list(minlen=2, supp=0.05, conf=0.8))\n",
    "%R rules.sorted <- sort(rules, by=\"lift\")\n",
    "%R plot(rules.sorted, method=\"grouped\")\n",
    "\n",
    "print('Arules run now from R, test complete')"
   ]
  },
  {
   "cell_type": "markdown",
   "metadata": {},
   "source": [
    "___\n",
    "<a id=\"understand\"></a>\n",
    "<a href=\"#top\">Back to Top</a>\n",
    "## Understanding the dataset\n",
    "We have used the titanic dataset before in class, however this dataset has been pruned to only include the social class, sex, age (as a nominal), and if the individual survived. The data can be stored in many ways, but is stored here as a table of values. \n",
    "\n",
    "**Question**: Is this dataset a typical example of *transaction* data (*i.e.*, like the grocery store transaction data)? Why or Why not? What makes it similar or different? **Hint**: think about the possible itemset lattice and how it might be different/similar. What makes an item in this dataset?"
   ]
  },
  {
   "cell_type": "markdown",
   "metadata": {},
   "source": [
    "___\n",
    "Enter your answer here:\n",
    "\n",
    "*Double Click to Edit*\n",
    "\n",
    "\n",
    "\n",
    "___"
   ]
  },
  {
   "cell_type": "markdown",
   "metadata": {},
   "source": [
    "<a id=\"apriori\"></a>\n",
    "<a href=\"#top\">Back to Top</a>\n",
    "## Frequent Itemsets and Apriori\n",
    "Run the following line of code to grab the R loaded data.frame and save it into a pandas dataframe. \n",
    "\n",
    "Please run the appropriate block of code for whether you have Ry2 installed or not!"
   ]
  },
  {
   "cell_type": "code",
   "execution_count": null,
   "metadata": {
    "collapsed": false
   },
   "outputs": [],
   "source": [
    "#==========================\n",
    "#IF USING R, RUN THIS CODE\n",
    "#==========================\n",
    "# Use rmagics to save the dataframe into pandas\n",
    "#(R output)(python var) ( this is all R code)\n",
    "%R -o df_from_R df_from_R <- titanic.raw\n",
    "\n",
    "# now we have the exact same dataset as the one from R\n",
    "# but it is now a pandas dataframe\n",
    "print(df_from_R.info())"
   ]
  },
  {
   "cell_type": "code",
   "execution_count": null,
   "metadata": {
    "collapsed": false
   },
   "outputs": [],
   "source": [
    "#===============================\n",
    "# IF NOT USING R RUN THIS CODE\n",
    "#===============================\n",
    "# getting things started\n",
    "import time\n",
    "import matplotlib.pyplot as plt\n",
    "import numpy as np\n",
    "import pandas as pd\n",
    "%matplotlib inline\n",
    "\n",
    "df_from_R = pd.read_csv('Rframe_as_pandas.csv')\n",
    "df_from_R.info()"
   ]
  },
  {
   "cell_type": "code",
   "execution_count": null,
   "metadata": {
    "collapsed": false
   },
   "outputs": [],
   "source": [
    "#==========================================\n",
    "# RUN THIS CODE NO MATTER IF USING R OR NOT\n",
    "#==========================================\n",
    "plt.style.use('ggplot')\n",
    "\n",
    "# Now lets plot the number of times each itemset occurs graphically\n",
    "# find counts of the four itemsets\n",
    "f = plt.figure(figsize=(10,5))\n",
    "df_grouped = df_from_R.groupby(by=['Class','Age','Sex'])\n",
    "ax = df_grouped.Survived.value_counts().plot(kind='barh')\n",
    "plt.title('Support count for all 4-itemsets')\n",
    "\n",
    "# find all the three itemsets and concat them\n",
    "f = plt.figure(figsize=(10,7))\n",
    "df_grouped = df_from_R.groupby(by=['Class','Age'])\n",
    "countsA = df_grouped.Survived.value_counts()\n",
    "df_grouped = df_from_R.groupby(by=['Class','Sex'])\n",
    "countsB = df_grouped.Survived.value_counts()\n",
    "df_grouped = df_from_R.groupby(by=['Age','Sex'])\n",
    "countsC = df_grouped.Survived.value_counts()\n",
    "\n",
    "pd.concat((countsA,countsB,countsC)).plot(kind='barh')\n",
    "plt.title('Support count for some 3-itemsets')"
   ]
  },
  {
   "cell_type": "markdown",
   "metadata": {},
   "source": [
    "Use the graphs above to estimate the values for the following quantities. You do not need to calculate counts from the dataset, just try to get close by viewing from the graph. Recall that for a given rule, $X\\rightarrow Y$, the confidence is given by \n",
    "$$c=\\frac{\\sigma( X \\cup Y)}{\\sigma( X )} $$\n",
    "\n",
    "**Questions**: Given the graphs above, what is the support count, $\\sigma$, and support, $s$, for the itemset {1st, Adult, Yes}? What about the itemset {1st, Adult, Yes, Female}?\n",
    "\n",
    "**Question**: What is the confidence, $c$, for the rule {1st, Adult, Yes} $\\rightarrow$ {Female}? "
   ]
  },
  {
   "cell_type": "markdown",
   "metadata": {},
   "source": [
    "___\n",
    "Enter your answer here:\n",
    "\n",
    "*Double Click to Edit*\n",
    "\n",
    "\n"
   ]
  },
  {
   "cell_type": "code",
   "execution_count": null,
   "metadata": {
    "collapsed": false
   },
   "outputs": [],
   "source": [
    "# Insert any calculations needed to answer the above question here"
   ]
  },
  {
   "cell_type": "markdown",
   "metadata": {},
   "source": [
    "\n",
    "___\n",
    "**Question**: What is the support count (an integer) for a *minsup* threshold of 0.25? Using the support count graphs above, which itemsets would be considered frequent with a *minsup* of 0.25? Are any of the 4-itemsets also maximal for this value of *minsup*? Why or Why not?"
   ]
  },
  {
   "cell_type": "markdown",
   "metadata": {},
   "source": [
    "___\n",
    "Enter your answer here:\n",
    "\n",
    "*Double Click to Edit*\n",
    "\n",
    "\n"
   ]
  },
  {
   "cell_type": "code",
   "execution_count": null,
   "metadata": {
    "collapsed": false
   },
   "outputs": [],
   "source": [
    "# Insert any calculations needed to answer the above question here"
   ]
  },
  {
   "cell_type": "code",
   "execution_count": null,
   "metadata": {
    "collapsed": true
   },
   "outputs": [],
   "source": []
  },
  {
   "cell_type": "code",
   "execution_count": null,
   "metadata": {
    "collapsed": true
   },
   "outputs": [],
   "source": []
  },
  {
   "cell_type": "code",
   "execution_count": null,
   "metadata": {
    "collapsed": true
   },
   "outputs": [],
   "source": []
  },
  {
   "cell_type": "code",
   "execution_count": null,
   "metadata": {
    "collapsed": true
   },
   "outputs": [],
   "source": []
  },
  {
   "cell_type": "code",
   "execution_count": null,
   "metadata": {
    "collapsed": true
   },
   "outputs": [],
   "source": []
  },
  {
   "cell_type": "code",
   "execution_count": null,
   "metadata": {
    "collapsed": true
   },
   "outputs": [],
   "source": []
  },
  {
   "cell_type": "code",
   "execution_count": null,
   "metadata": {
    "collapsed": true
   },
   "outputs": [],
   "source": []
  },
  {
   "cell_type": "code",
   "execution_count": null,
   "metadata": {
    "collapsed": true
   },
   "outputs": [],
   "source": []
  },
  {
   "cell_type": "code",
   "execution_count": null,
   "metadata": {
    "collapsed": true
   },
   "outputs": [],
   "source": []
  },
  {
   "cell_type": "code",
   "execution_count": null,
   "metadata": {
    "collapsed": true
   },
   "outputs": [],
   "source": []
  },
  {
   "cell_type": "code",
   "execution_count": null,
   "metadata": {
    "collapsed": true
   },
   "outputs": [],
   "source": []
  },
  {
   "cell_type": "code",
   "execution_count": null,
   "metadata": {
    "collapsed": true
   },
   "outputs": [],
   "source": []
  },
  {
   "cell_type": "code",
   "execution_count": null,
   "metadata": {
    "collapsed": true
   },
   "outputs": [],
   "source": []
  }
 ],
 "metadata": {
  "kernelspec": {
   "display_name": "Python 3",
   "language": "python",
   "name": "python3"
  },
  "language_info": {
   "codemirror_mode": {
    "name": "ipython",
    "version": 3
   },
   "file_extension": ".py",
   "mimetype": "text/x-python",
   "name": "python",
   "nbconvert_exporter": "python",
   "pygments_lexer": "ipython3",
   "version": "3.5.2"
  }
 },
 "nbformat": 4,
 "nbformat_minor": 0
}
